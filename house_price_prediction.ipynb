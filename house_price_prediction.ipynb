{
 "cells":[
  {
   "cell_type":"markdown",
   "source":[
    "# **House Price Prediction using Linear Regression**"
   ],
   "attachments":{
    
   },
   "metadata":{
    "datalore":{
     "node_id":"4t2CyGcK7jkKelHX9FKoYg",
     "type":"MD",
     "hide_input_from_viewers":false,
     "hide_output_from_viewers":false,
     "report_properties":{
      "rowId":"OSLQvvJ3FL1Ppx9t8879cY"
     }
    }
   }
  },
  {
   "cell_type":"code",
   "source":[
    "# importing necessary modules\n",
    "import matplotlib.pyplot as plt\n",
    "import pandas as pd\n",
    "import seaborn as sns\n",
    "%matplotlib inline"
   ],
   "execution_count":1,
   "outputs":[
    
   ],
   "metadata":{
    "datalore":{
     "node_id":"5iCWvlQ81TQGb9eZ6pQyE2",
     "type":"CODE",
     "hide_input_from_viewers":false,
     "hide_output_from_viewers":false,
     "report_properties":{
      "rowId":"OSLQvvJ3FL1Ppx9t8879cY"
     }
    }
   }
  },
  {
   "cell_type":"markdown",
   "source":[
    "Seaborn - a data visualisation library which builds works matplotlib to offer a wider variety of visualisations."
   ],
   "attachments":{
    
   },
   "metadata":{
    "datalore":{
     "node_id":"x6tNyTi4z574XyIriQf1PS",
     "type":"MD",
     "hide_input_from_viewers":true,
     "hide_output_from_viewers":true
    }
   }
  },
  {
   "cell_type":"code",
   "source":[
    "# load & read csv file\n",
    "kc_houses = pd.read_csv('\/data\/notebook_files\/kc_house_data.csv')"
   ],
   "execution_count":2,
   "outputs":[
    
   ],
   "metadata":{
    "datalore":{
     "node_id":"WCa9rE8JFeVrncdqYCHDxI",
     "type":"CODE",
     "hide_input_from_viewers":false,
     "hide_output_from_viewers":false,
     "report_properties":{
      "rowId":"OSLQvvJ3FL1Ppx9t8879cY"
     }
    }
   }
  },
  {
   "cell_type":"code",
   "source":[
    "# display csv file top rows\n",
    "kc_houses.head()"
   ],
   "execution_count":3,
   "outputs":[
    {
     "data":{
      "text\/html":[
       "<div>\n",
       "<style scoped>\n",
       "    .dataframe tbody tr th:only-of-type {\n",
       "        vertical-align: middle;\n",
       "    }\n",
       "\n",
       "    .dataframe tbody tr th {\n",
       "        vertical-align: top;\n",
       "    }\n",
       "\n",
       "    .dataframe thead th {\n",
       "        text-align: right;\n",
       "    }\n",
       "<\/style>\n",
       "<table border=\"1\" class=\"dataframe\">\n",
       "  <thead>\n",
       "    <tr style=\"text-align: right;\">\n",
       "      <th><\/th>\n",
       "      <th>id<\/th>\n",
       "      <th>date<\/th>\n",
       "      <th>price<\/th>\n",
       "      <th>bedrooms<\/th>\n",
       "      <th>bathrooms<\/th>\n",
       "      <th>sqft_living<\/th>\n",
       "      <th>sqft_lot<\/th>\n",
       "      <th>floors<\/th>\n",
       "      <th>waterfront<\/th>\n",
       "      <th>view<\/th>\n",
       "      <th>...<\/th>\n",
       "      <th>grade<\/th>\n",
       "      <th>sqft_above<\/th>\n",
       "      <th>sqft_basement<\/th>\n",
       "      <th>yr_built<\/th>\n",
       "      <th>yr_renovated<\/th>\n",
       "      <th>zipcode<\/th>\n",
       "      <th>lat<\/th>\n",
       "      <th>long<\/th>\n",
       "      <th>sqft_living15<\/th>\n",
       "      <th>sqft_lot15<\/th>\n",
       "    <\/tr>\n",
       "  <\/thead>\n",
       "  <tbody>\n",
       "    <tr>\n",
       "      <th>0<\/th>\n",
       "      <td>7129300520<\/td>\n",
       "      <td>20141013T000000<\/td>\n",
       "      <td>221900.0<\/td>\n",
       "      <td>3<\/td>\n",
       "      <td>1.00<\/td>\n",
       "      <td>1180<\/td>\n",
       "      <td>5650<\/td>\n",
       "      <td>1.0<\/td>\n",
       "      <td>0<\/td>\n",
       "      <td>0<\/td>\n",
       "      <td>...<\/td>\n",
       "      <td>7<\/td>\n",
       "      <td>1180<\/td>\n",
       "      <td>0<\/td>\n",
       "      <td>1955<\/td>\n",
       "      <td>0<\/td>\n",
       "      <td>98178<\/td>\n",
       "      <td>47.5112<\/td>\n",
       "      <td>-122.257<\/td>\n",
       "      <td>1340<\/td>\n",
       "      <td>5650<\/td>\n",
       "    <\/tr>\n",
       "    <tr>\n",
       "      <th>1<\/th>\n",
       "      <td>6414100192<\/td>\n",
       "      <td>20141209T000000<\/td>\n",
       "      <td>538000.0<\/td>\n",
       "      <td>3<\/td>\n",
       "      <td>2.25<\/td>\n",
       "      <td>2570<\/td>\n",
       "      <td>7242<\/td>\n",
       "      <td>2.0<\/td>\n",
       "      <td>0<\/td>\n",
       "      <td>0<\/td>\n",
       "      <td>...<\/td>\n",
       "      <td>7<\/td>\n",
       "      <td>2170<\/td>\n",
       "      <td>400<\/td>\n",
       "      <td>1951<\/td>\n",
       "      <td>1991<\/td>\n",
       "      <td>98125<\/td>\n",
       "      <td>47.7210<\/td>\n",
       "      <td>-122.319<\/td>\n",
       "      <td>1690<\/td>\n",
       "      <td>7639<\/td>\n",
       "    <\/tr>\n",
       "    <tr>\n",
       "      <th>2<\/th>\n",
       "      <td>5631500400<\/td>\n",
       "      <td>20150225T000000<\/td>\n",
       "      <td>180000.0<\/td>\n",
       "      <td>2<\/td>\n",
       "      <td>1.00<\/td>\n",
       "      <td>770<\/td>\n",
       "      <td>10000<\/td>\n",
       "      <td>1.0<\/td>\n",
       "      <td>0<\/td>\n",
       "      <td>0<\/td>\n",
       "      <td>...<\/td>\n",
       "      <td>6<\/td>\n",
       "      <td>770<\/td>\n",
       "      <td>0<\/td>\n",
       "      <td>1933<\/td>\n",
       "      <td>0<\/td>\n",
       "      <td>98028<\/td>\n",
       "      <td>47.7379<\/td>\n",
       "      <td>-122.233<\/td>\n",
       "      <td>2720<\/td>\n",
       "      <td>8062<\/td>\n",
       "    <\/tr>\n",
       "    <tr>\n",
       "      <th>3<\/th>\n",
       "      <td>2487200875<\/td>\n",
       "      <td>20141209T000000<\/td>\n",
       "      <td>604000.0<\/td>\n",
       "      <td>4<\/td>\n",
       "      <td>3.00<\/td>\n",
       "      <td>1960<\/td>\n",
       "      <td>5000<\/td>\n",
       "      <td>1.0<\/td>\n",
       "      <td>0<\/td>\n",
       "      <td>0<\/td>\n",
       "      <td>...<\/td>\n",
       "      <td>7<\/td>\n",
       "      <td>1050<\/td>\n",
       "      <td>910<\/td>\n",
       "      <td>1965<\/td>\n",
       "      <td>0<\/td>\n",
       "      <td>98136<\/td>\n",
       "      <td>47.5208<\/td>\n",
       "      <td>-122.393<\/td>\n",
       "      <td>1360<\/td>\n",
       "      <td>5000<\/td>\n",
       "    <\/tr>\n",
       "    <tr>\n",
       "      <th>4<\/th>\n",
       "      <td>1954400510<\/td>\n",
       "      <td>20150218T000000<\/td>\n",
       "      <td>510000.0<\/td>\n",
       "      <td>3<\/td>\n",
       "      <td>2.00<\/td>\n",
       "      <td>1680<\/td>\n",
       "      <td>8080<\/td>\n",
       "      <td>1.0<\/td>\n",
       "      <td>0<\/td>\n",
       "      <td>0<\/td>\n",
       "      <td>...<\/td>\n",
       "      <td>8<\/td>\n",
       "      <td>1680<\/td>\n",
       "      <td>0<\/td>\n",
       "      <td>1987<\/td>\n",
       "      <td>0<\/td>\n",
       "      <td>98074<\/td>\n",
       "      <td>47.6168<\/td>\n",
       "      <td>-122.045<\/td>\n",
       "      <td>1800<\/td>\n",
       "      <td>7503<\/td>\n",
       "    <\/tr>\n",
       "  <\/tbody>\n",
       "<\/table>\n",
       "<p>5 rows × 21 columns<\/p>\n",
       "<\/div>"
      ]
     },
     "metadata":{
      
     },
     "output_type":"display_data"
    }
   ],
   "metadata":{
    "datalore":{
     "node_id":"cJEy8RRnjIJUw4o2Kv9Q3k",
     "type":"CODE",
     "hide_input_from_viewers":false,
     "hide_output_from_viewers":false,
     "report_properties":{
      "rowId":"OSLQvvJ3FL1Ppx9t8879cY"
     }
    }
   }
  },
  {
   "cell_type":"code",
   "source":[
    "# note form summary of dataset\n",
    "print(kc_houses.info())"
   ],
   "execution_count":4,
   "outputs":[
    {
     "name":"stdout",
     "text":[
      "<class 'pandas.core.frame.DataFrame'>\n",
      "RangeIndex: 21613 entries, 0 to 21612\n",
      "Data columns (total 21 columns):\n",
      " #   Column         Non-Null Count  Dtype  \n",
      "---  ------         --------------  -----  \n",
      " 0   id             21613 non-null  int64  \n",
      " 1   date           21613 non-null  object \n",
      " 2   price          21613 non-null  float64\n",
      " 3   bedrooms       21613 non-null  int64  \n",
      " 4   bathrooms      21613 non-null  float64\n",
      " 5   sqft_living    21613 non-null  int64  \n",
      " 6   sqft_lot       21613 non-null  int64  \n",
      " 7   floors         21613 non-null  float64\n",
      " 8   waterfront     21613 non-null  int64  \n",
      " 9   view           21613 non-null  int64  \n",
      " 10  condition      21613 non-null  int64  \n",
      " 11  grade          21613 non-null  int64  \n",
      " 12  sqft_above     21613 non-null  int64  \n",
      " 13  sqft_basement  21613 non-null  int64  \n",
      " 14  yr_built       21613 non-null  int64  \n",
      " 15  yr_renovated   21613 non-null  int64  \n",
      " 16  zipcode        21613 non-null  int64  \n",
      " 17  lat            21613 non-null  float64\n",
      " 18  long           21613 non-null  float64\n",
      " 19  sqft_living15  21613 non-null  int64  \n",
      " 20  sqft_lot15     21613 non-null  int64  \n",
      "dtypes: float64(5), int64(15), object(1)\n",
      "memory usage: 3.5+ MB\n",
      "None\n"
     ],
     "output_type":"stream"
    }
   ],
   "metadata":{
    "datalore":{
     "node_id":"oTmZwMVSW6ktIVfgt4Lxcc",
     "type":"CODE",
     "hide_input_from_viewers":true,
     "hide_output_from_viewers":true
    }
   }
  },
  {
   "cell_type":"markdown",
   "source":[
    "*Observation* there are up to 21613 houses in the dataset."
   ],
   "attachments":{
    
   },
   "metadata":{
    "datalore":{
     "node_id":"IqOfz1e2dwMADivDOCLtOC",
     "type":"MD",
     "hide_input_from_viewers":true,
     "hide_output_from_viewers":true
    }
   }
  },
  {
   "cell_type":"markdown",
   "source":[
    "Create your personalized dataset. Replace the value for random_state to the last three\n",
    "digits of your index number"
   ],
   "attachments":{
    
   },
   "metadata":{
    "datalore":{
     "node_id":"5sQJaAka0IVxhYP4fEBHDn",
     "type":"MD",
     "hide_input_from_viewers":true,
     "hide_output_from_viewers":true
    }
   }
  },
  {
   "cell_type":"code",
   "source":[
    "from pandas.core.common import random_state\n",
    "\n",
    "data = kc_houses.sample(n = 2100, random_state = 911)"
   ],
   "execution_count":5,
   "outputs":[
    
   ],
   "metadata":{
    "datalore":{
     "node_id":"Mgui389zSbqYW8rwjpiYHM",
     "type":"CODE",
     "hide_input_from_viewers":false,
     "hide_output_from_viewers":false,
     "report_properties":{
      "rowId":"OSLQvvJ3FL1Ppx9t8879cY"
     }
    }
   }
  },
  {
   "cell_type":"markdown",
   "source":[
    "- **Q1**. Display the first five rows of the dataset.\n",
    "  \n",
    "- **Q2**. Get a summary of the dataset\n",
    "  \n",
    "- **Q3**. Check whether there are any empty rows in the dataset"
   ],
   "attachments":{
    
   },
   "metadata":{
    "datalore":{
     "node_id":"tU3VknOXJaMgY2UzYQjBCg",
     "type":"MD",
     "hide_input_from_viewers":true,
     "hide_output_from_viewers":true
    }
   }
  },
  {
   "cell_type":"code",
   "source":[
    "# print first 5 rows of each column\n",
    "print(kc_houses.head(5))"
   ],
   "execution_count":6,
   "outputs":[
    {
     "name":"stdout",
     "text":[
      "           id             date     price  bedrooms  bathrooms  sqft_living  \\\n",
      "0  7129300520  20141013T000000  221900.0         3       1.00         1180   \n",
      "1  6414100192  20141209T000000  538000.0         3       2.25         2570   \n",
      "2  5631500400  20150225T000000  180000.0         2       1.00          770   \n",
      "3  2487200875  20141209T000000  604000.0         4       3.00         1960   \n",
      "4  1954400510  20150218T000000  510000.0         3       2.00         1680   \n",
      "\n",
      "   sqft_lot  floors  waterfront  view  ...  grade  sqft_above  sqft_basement  \\\n",
      "0      5650     1.0           0     0  ...      7        1180              0   \n",
      "1      7242     2.0           0     0  ...      7        2170            400   \n",
      "2     10000     1.0           0     0  ...      6         770              0   \n",
      "3      5000     1.0           0     0  ...      7        1050            910   \n",
      "4      8080     1.0           0     0  ...      8        1680              0   \n",
      "\n",
      "   yr_built  yr_renovated  zipcode      lat     long  sqft_living15  \\\n",
      "0      1955             0    98178  47.5112 -122.257           1340   \n",
      "1      1951          1991    98125  47.7210 -122.319           1690   \n",
      "2      1933             0    98028  47.7379 -122.233           2720   \n",
      "3      1965             0    98136  47.5208 -122.393           1360   \n",
      "4      1987             0    98074  47.6168 -122.045           1800   \n",
      "\n",
      "   sqft_lot15  \n",
      "0        5650  \n",
      "1        7639  \n",
      "2        8062  \n",
      "3        5000  \n",
      "4        7503  \n",
      "\n",
      "[5 rows x 21 columns]\n"
     ],
     "output_type":"stream"
    }
   ],
   "metadata":{
    "datalore":{
     "node_id":"WffnGr098WHgTNjGlinszJ",
     "type":"CODE",
     "hide_input_from_viewers":true,
     "hide_output_from_viewers":true
    }
   }
  },
  {
   "cell_type":"code",
   "source":[
    "# display first 5 rows of dataset\n",
    "# kc_houses.head(5)"
   ],
   "execution_count":7,
   "outputs":[
    
   ],
   "metadata":{
    "datalore":{
     "node_id":"zh470ZKglaV4jfmp873hK0",
     "type":"CODE",
     "hide_input_from_viewers":true,
     "hide_output_from_viewers":true
    }
   }
  },
  {
   "cell_type":"code",
   "source":[
    "# summary of dataset\n",
    "kc_houses.describe()"
   ],
   "execution_count":8,
   "outputs":[
    {
     "data":{
      "text\/html":[
       "<div>\n",
       "<style scoped>\n",
       "    .dataframe tbody tr th:only-of-type {\n",
       "        vertical-align: middle;\n",
       "    }\n",
       "\n",
       "    .dataframe tbody tr th {\n",
       "        vertical-align: top;\n",
       "    }\n",
       "\n",
       "    .dataframe thead th {\n",
       "        text-align: right;\n",
       "    }\n",
       "<\/style>\n",
       "<table border=\"1\" class=\"dataframe\">\n",
       "  <thead>\n",
       "    <tr style=\"text-align: right;\">\n",
       "      <th><\/th>\n",
       "      <th>id<\/th>\n",
       "      <th>price<\/th>\n",
       "      <th>bedrooms<\/th>\n",
       "      <th>bathrooms<\/th>\n",
       "      <th>sqft_living<\/th>\n",
       "      <th>sqft_lot<\/th>\n",
       "      <th>floors<\/th>\n",
       "      <th>waterfront<\/th>\n",
       "      <th>view<\/th>\n",
       "      <th>condition<\/th>\n",
       "      <th>grade<\/th>\n",
       "      <th>sqft_above<\/th>\n",
       "      <th>sqft_basement<\/th>\n",
       "      <th>yr_built<\/th>\n",
       "      <th>yr_renovated<\/th>\n",
       "      <th>zipcode<\/th>\n",
       "      <th>lat<\/th>\n",
       "      <th>long<\/th>\n",
       "      <th>sqft_living15<\/th>\n",
       "      <th>sqft_lot15<\/th>\n",
       "    <\/tr>\n",
       "  <\/thead>\n",
       "  <tbody>\n",
       "    <tr>\n",
       "      <th>count<\/th>\n",
       "      <td>2.161300e+04<\/td>\n",
       "      <td>2.161300e+04<\/td>\n",
       "      <td>21613.000000<\/td>\n",
       "      <td>21613.000000<\/td>\n",
       "      <td>21613.000000<\/td>\n",
       "      <td>2.161300e+04<\/td>\n",
       "      <td>21613.000000<\/td>\n",
       "      <td>21613.000000<\/td>\n",
       "      <td>21613.000000<\/td>\n",
       "      <td>21613.000000<\/td>\n",
       "      <td>21613.000000<\/td>\n",
       "      <td>21613.000000<\/td>\n",
       "      <td>21613.000000<\/td>\n",
       "      <td>21613.000000<\/td>\n",
       "      <td>21613.000000<\/td>\n",
       "      <td>21613.000000<\/td>\n",
       "      <td>21613.000000<\/td>\n",
       "      <td>21613.000000<\/td>\n",
       "      <td>21613.000000<\/td>\n",
       "      <td>21613.000000<\/td>\n",
       "    <\/tr>\n",
       "    <tr>\n",
       "      <th>mean<\/th>\n",
       "      <td>4.580302e+09<\/td>\n",
       "      <td>5.400881e+05<\/td>\n",
       "      <td>3.370842<\/td>\n",
       "      <td>2.114757<\/td>\n",
       "      <td>2079.899736<\/td>\n",
       "      <td>1.510697e+04<\/td>\n",
       "      <td>1.494309<\/td>\n",
       "      <td>0.007542<\/td>\n",
       "      <td>0.234303<\/td>\n",
       "      <td>3.409430<\/td>\n",
       "      <td>7.656873<\/td>\n",
       "      <td>1788.390691<\/td>\n",
       "      <td>291.509045<\/td>\n",
       "      <td>1971.005136<\/td>\n",
       "      <td>84.402258<\/td>\n",
       "      <td>98077.939805<\/td>\n",
       "      <td>47.560053<\/td>\n",
       "      <td>-122.213896<\/td>\n",
       "      <td>1986.552492<\/td>\n",
       "      <td>12768.455652<\/td>\n",
       "    <\/tr>\n",
       "    <tr>\n",
       "      <th>std<\/th>\n",
       "      <td>2.876566e+09<\/td>\n",
       "      <td>3.671272e+05<\/td>\n",
       "      <td>0.930062<\/td>\n",
       "      <td>0.770163<\/td>\n",
       "      <td>918.440897<\/td>\n",
       "      <td>4.142051e+04<\/td>\n",
       "      <td>0.539989<\/td>\n",
       "      <td>0.086517<\/td>\n",
       "      <td>0.766318<\/td>\n",
       "      <td>0.650743<\/td>\n",
       "      <td>1.175459<\/td>\n",
       "      <td>828.090978<\/td>\n",
       "      <td>442.575043<\/td>\n",
       "      <td>29.373411<\/td>\n",
       "      <td>401.679240<\/td>\n",
       "      <td>53.505026<\/td>\n",
       "      <td>0.138564<\/td>\n",
       "      <td>0.140828<\/td>\n",
       "      <td>685.391304<\/td>\n",
       "      <td>27304.179631<\/td>\n",
       "    <\/tr>\n",
       "    <tr>\n",
       "      <th>min<\/th>\n",
       "      <td>1.000102e+06<\/td>\n",
       "      <td>7.500000e+04<\/td>\n",
       "      <td>0.000000<\/td>\n",
       "      <td>0.000000<\/td>\n",
       "      <td>290.000000<\/td>\n",
       "      <td>5.200000e+02<\/td>\n",
       "      <td>1.000000<\/td>\n",
       "      <td>0.000000<\/td>\n",
       "      <td>0.000000<\/td>\n",
       "      <td>1.000000<\/td>\n",
       "      <td>1.000000<\/td>\n",
       "      <td>290.000000<\/td>\n",
       "      <td>0.000000<\/td>\n",
       "      <td>1900.000000<\/td>\n",
       "      <td>0.000000<\/td>\n",
       "      <td>98001.000000<\/td>\n",
       "      <td>47.155900<\/td>\n",
       "      <td>-122.519000<\/td>\n",
       "      <td>399.000000<\/td>\n",
       "      <td>651.000000<\/td>\n",
       "    <\/tr>\n",
       "    <tr>\n",
       "      <th>25%<\/th>\n",
       "      <td>2.123049e+09<\/td>\n",
       "      <td>3.219500e+05<\/td>\n",
       "      <td>3.000000<\/td>\n",
       "      <td>1.750000<\/td>\n",
       "      <td>1427.000000<\/td>\n",
       "      <td>5.040000e+03<\/td>\n",
       "      <td>1.000000<\/td>\n",
       "      <td>0.000000<\/td>\n",
       "      <td>0.000000<\/td>\n",
       "      <td>3.000000<\/td>\n",
       "      <td>7.000000<\/td>\n",
       "      <td>1190.000000<\/td>\n",
       "      <td>0.000000<\/td>\n",
       "      <td>1951.000000<\/td>\n",
       "      <td>0.000000<\/td>\n",
       "      <td>98033.000000<\/td>\n",
       "      <td>47.471000<\/td>\n",
       "      <td>-122.328000<\/td>\n",
       "      <td>1490.000000<\/td>\n",
       "      <td>5100.000000<\/td>\n",
       "    <\/tr>\n",
       "    <tr>\n",
       "      <th>50%<\/th>\n",
       "      <td>3.904930e+09<\/td>\n",
       "      <td>4.500000e+05<\/td>\n",
       "      <td>3.000000<\/td>\n",
       "      <td>2.250000<\/td>\n",
       "      <td>1910.000000<\/td>\n",
       "      <td>7.618000e+03<\/td>\n",
       "      <td>1.500000<\/td>\n",
       "      <td>0.000000<\/td>\n",
       "      <td>0.000000<\/td>\n",
       "      <td>3.000000<\/td>\n",
       "      <td>7.000000<\/td>\n",
       "      <td>1560.000000<\/td>\n",
       "      <td>0.000000<\/td>\n",
       "      <td>1975.000000<\/td>\n",
       "      <td>0.000000<\/td>\n",
       "      <td>98065.000000<\/td>\n",
       "      <td>47.571800<\/td>\n",
       "      <td>-122.230000<\/td>\n",
       "      <td>1840.000000<\/td>\n",
       "      <td>7620.000000<\/td>\n",
       "    <\/tr>\n",
       "    <tr>\n",
       "      <th>75%<\/th>\n",
       "      <td>7.308900e+09<\/td>\n",
       "      <td>6.450000e+05<\/td>\n",
       "      <td>4.000000<\/td>\n",
       "      <td>2.500000<\/td>\n",
       "      <td>2550.000000<\/td>\n",
       "      <td>1.068800e+04<\/td>\n",
       "      <td>2.000000<\/td>\n",
       "      <td>0.000000<\/td>\n",
       "      <td>0.000000<\/td>\n",
       "      <td>4.000000<\/td>\n",
       "      <td>8.000000<\/td>\n",
       "      <td>2210.000000<\/td>\n",
       "      <td>560.000000<\/td>\n",
       "      <td>1997.000000<\/td>\n",
       "      <td>0.000000<\/td>\n",
       "      <td>98118.000000<\/td>\n",
       "      <td>47.678000<\/td>\n",
       "      <td>-122.125000<\/td>\n",
       "      <td>2360.000000<\/td>\n",
       "      <td>10083.000000<\/td>\n",
       "    <\/tr>\n",
       "    <tr>\n",
       "      <th>max<\/th>\n",
       "      <td>9.900000e+09<\/td>\n",
       "      <td>7.700000e+06<\/td>\n",
       "      <td>33.000000<\/td>\n",
       "      <td>8.000000<\/td>\n",
       "      <td>13540.000000<\/td>\n",
       "      <td>1.651359e+06<\/td>\n",
       "      <td>3.500000<\/td>\n",
       "      <td>1.000000<\/td>\n",
       "      <td>4.000000<\/td>\n",
       "      <td>5.000000<\/td>\n",
       "      <td>13.000000<\/td>\n",
       "      <td>9410.000000<\/td>\n",
       "      <td>4820.000000<\/td>\n",
       "      <td>2015.000000<\/td>\n",
       "      <td>2015.000000<\/td>\n",
       "      <td>98199.000000<\/td>\n",
       "      <td>47.777600<\/td>\n",
       "      <td>-121.315000<\/td>\n",
       "      <td>6210.000000<\/td>\n",
       "      <td>871200.000000<\/td>\n",
       "    <\/tr>\n",
       "  <\/tbody>\n",
       "<\/table>\n",
       "<\/div>"
      ]
     },
     "metadata":{
      
     },
     "output_type":"display_data"
    }
   ],
   "metadata":{
    "datalore":{
     "node_id":"CaAjV6SggyKCJCdiHtT64P",
     "type":"CODE",
     "hide_input_from_viewers":true,
     "hide_output_from_viewers":true
    }
   }
  },
  {
   "cell_type":"code",
   "source":[
    "# checks if there's empty rows \n",
    "kc_houses.apply(lambda x: any(x.values == {}), axis=1)"
   ],
   "execution_count":9,
   "outputs":[
    {
     "data":{
      "text\/html":[
       "<pre>0        False\n",
       "1        False\n",
       "2        False\n",
       "3        False\n",
       "4        False\n",
       "         ...  \n",
       "21608    False\n",
       "21609    False\n",
       "21610    False\n",
       "21611    False\n",
       "21612    False\n",
       "Length: 21613, dtype: bool<\/pre>"
      ]
     },
     "metadata":{
      
     },
     "output_type":"display_data"
    }
   ],
   "metadata":{
    "datalore":{
     "node_id":"I6ocaQh6zEVzoTucSjPKoB",
     "type":"CODE",
     "hide_input_from_viewers":true,
     "hide_output_from_viewers":true
    }
   }
  },
  {
   "cell_type":"code",
   "source":[
    "kc_houses.shape"
   ],
   "execution_count":10,
   "outputs":[
    {
     "data":{
      "text\/plain":[
       "(21613, 21)"
      ]
     },
     "metadata":{
      
     },
     "output_type":"display_data"
    }
   ],
   "metadata":{
    "datalore":{
     "node_id":"foM1CiSejiIl4G1cN8dRBU",
     "type":"CODE",
     "hide_input_from_viewers":true,
     "hide_output_from_viewers":true
    }
   }
  },
  {
   "cell_type":"code",
   "source":[
    "print(kc_houses.index)"
   ],
   "execution_count":11,
   "outputs":[
    {
     "name":"stdout",
     "text":[
      "RangeIndex(start=0, stop=21613, step=1)\n"
     ],
     "output_type":"stream"
    }
   ],
   "metadata":{
    "datalore":{
     "node_id":"bu5MLdpi3PHUyf9uGTSQaQ",
     "type":"CODE",
     "hide_input_from_viewers":true,
     "hide_output_from_viewers":true
    }
   }
  },
  {
   "cell_type":"markdown",
   "source":[
    "# 1.0.1 Exploratory Analysis\n",
    "**Q4**. Draw a graph for the count of houses and number of bedrooms\n",
    "Drawing a heatmap for the correlation between the columns"
   ],
   "attachments":{
    
   },
   "metadata":{
    "datalore":{
     "node_id":"kjlTDlw18sblazuBvDGNki",
     "type":"MD",
     "hide_input_from_viewers":true,
     "hide_output_from_viewers":true
    }
   }
  },
  {
   "cell_type":"code",
   "source":[
    "def correlation_heatmap(kc_houses):\n",
    "    _, ax = plt.subplots(figsize = (15,10))\n",
    "    colormap = sns.diverging_palette(220, 10, as_cmap = True)\n",
    "    sns.heatmap(kc_houses.corr(), annot = True, cmap = colormap)\n",
    "\n",
    "selected_data = data[['price', 'bedrooms', 'bathrooms', 'sqft_living', 'sqft_lot',\n",
    "'floors', 'sqft_above', 'sqft_basement', 'sqft_living15',\n",
    "'sqft_lot15']]\n",
    "correlation_heatmap(selected_data)"
   ],
   "execution_count":12,
   "outputs":[
    {
     "data":{
      "image\/png":"[encoded data removed]"
     },
     "metadata":{
      "image\/png":{
       
      }
     },
     "output_type":"display_data"
    }
   ],
   "metadata":{
    "datalore":{
     "node_id":"SCZIyzv23Hm2u3r6fuCMA4",
     "type":"CODE",
     "hide_input_from_viewers":true,
     "hide_output_from_viewers":true
    }
   }
  },
  {
   "cell_type":"markdown",
   "source":[
    "Check the relationship between price and the size of the living room."
   ],
   "attachments":{
    
   },
   "metadata":{
    "datalore":{
     "node_id":"9nKqVN8CDT0WexYRQCUMgn",
     "type":"MD",
     "hide_input_from_viewers":true,
     "hide_output_from_viewers":true
    }
   }
  },
  {
   "cell_type":"code",
   "source":[
    "sns.regplot(x='sqft_living', y='price', data=data)"
   ],
   "execution_count":13,
   "outputs":[
    {
     "data":{
      "text\/plain":[
       "<AxesSubplot:xlabel='sqft_living', ylabel='price'>"
      ]
     },
     "metadata":{
      
     },
     "output_type":"display_data"
    },
    {
     "data":{
      "image\/png":"[encoded data removed]"
     },
     "metadata":{
      "image\/png":{
       
      }
     },
     "output_type":"display_data"
    }
   ],
   "metadata":{
    "datalore":{
     "node_id":"9eO4qy0gVwOEWcyXpmwpjZ",
     "type":"CODE",
     "hide_input_from_viewers":true,
     "hide_output_from_viewers":true
    }
   }
  },
  {
   "cell_type":"markdown",
   "source":[
    "**Q5.** Check the relationship between price and the size of the basement.\n",
    "Check the relationship between grade and the price."
   ],
   "attachments":{
    
   },
   "metadata":{
    "datalore":{
     "node_id":"2080wJCDJEuOih6jdTS7D5",
     "type":"MD",
     "hide_input_from_viewers":true,
     "hide_output_from_viewers":true
    }
   }
  },
  {
   "cell_type":"code",
   "source":[
    "sns.stripplot(x= 'grade', y='price', data=data, size=5)"
   ],
   "execution_count":14,
   "outputs":[
    {
     "data":{
      "text\/plain":[
       "<AxesSubplot:xlabel='grade', ylabel='price'>"
      ]
     },
     "metadata":{
      
     },
     "output_type":"display_data"
    },
    {
     "data":{
      "image\/png":"[encoded data removed]"
     },
     "metadata":{
      "image\/png":{
       
      }
     },
     "output_type":"display_data"
    }
   ],
   "metadata":{
    "datalore":{
     "node_id":"17M8Tm044HjtKUiPNbfYfW",
     "type":"CODE",
     "hide_input_from_viewers":true,
     "hide_output_from_viewers":true
    }
   }
  },
  {
   "cell_type":"markdown",
   "source":[
    "**Q6.** Check the relationship between number of rooms and the price. Leave a comment about what\n",
    "you found.\n",
    "\n",
    "The graph indicates that the relation of price with bedrooms - price goes up with number of\n",
    "bedrooms up to 6 and then comes down as no of bedrooms increase.\n",
    "\n",
    "**Q7.** Check the relatinoship between number of bathrooms and the price. Leave a comment about\n",
    "what you found"
   ],
   "attachments":{
    
   },
   "metadata":{
    "datalore":{
     "node_id":"5uyYPGN0XnamQwbpj9izG5",
     "type":"MD",
     "hide_input_from_viewers":true,
     "hide_output_from_viewers":true
    }
   }
  },
  {
   "cell_type":"code",
   "source":[
    "data=data[data[ 'bedrooms'] < 12]"
   ],
   "execution_count":15,
   "outputs":[
    
   ],
   "metadata":{
    "datalore":{
     "node_id":"VDigQ8jSR6tIByZM0v8FXf",
     "type":"CODE",
     "hide_input_from_viewers":true,
     "hide_output_from_viewers":true
    }
   }
  },
  {
   "cell_type":"markdown",
   "source":[
    "# 1.0.2 Building a model with top 5 parameters"
   ],
   "attachments":{
    
   },
   "metadata":{
    "datalore":{
     "node_id":"In63qiGfKxlkY6T42NQsv4",
     "type":"MD",
     "hide_input_from_viewers":true,
     "hide_output_from_viewers":true
    }
   }
  },
  {
   "cell_type":"code",
   "source":[
    "c=['bedrooms','bathrooms','sqft_living','sqft_above','grade']\n",
    "kc_houses = data[c]"
   ],
   "execution_count":16,
   "outputs":[
    
   ],
   "metadata":{
    "datalore":{
     "node_id":"lzJLdlINixj2qNB3QcY5Qs",
     "type":"CODE",
     "hide_input_from_viewers":true,
     "hide_output_from_viewers":true
    }
   }
  },
  {
   "cell_type":"code",
   "source":[
    "kc_houses=pd.get_dummies(kc_houses,columns=[ 'grade'], drop_first=True)"
   ],
   "execution_count":17,
   "outputs":[
    
   ],
   "metadata":{
    "datalore":{
     "node_id":"UZGkcDlvgfHKxQW3QPp5QM",
     "type":"CODE",
     "hide_input_from_viewers":true,
     "hide_output_from_viewers":true
    }
   }
  },
  {
   "cell_type":"code",
   "source":[
    "y=data['price']"
   ],
   "execution_count":18,
   "outputs":[
    
   ],
   "metadata":{
    "datalore":{
     "node_id":"p4a87RPWAv3eEdpRpXnYSa",
     "type":"CODE",
     "hide_input_from_viewers":true,
     "hide_output_from_viewers":true
    }
   }
  },
  {
   "cell_type":"markdown",
   "source":[
    "Perform `train`, `test split`. Put the **last three digits** of your index number as the random_state"
   ],
   "attachments":{
    
   },
   "metadata":{
    "datalore":{
     "node_id":"bMD4pgGDRtehx4yAcve0PT",
     "type":"MD",
     "hide_input_from_viewers":true,
     "hide_output_from_viewers":true
    }
   }
  },
  {
   "cell_type":"code",
   "source":[
    "from sklearn.model_selection import train_test_split\n",
    "\n",
    "x_train,x_test,y_train,y_test=train_test_split(kc_houses, y, train_size=0.8,\n",
    "random_state=911)"
   ],
   "execution_count":19,
   "outputs":[
    
   ],
   "metadata":{
    "datalore":{
     "node_id":"p1ta6jt2JmBeR2sjNJWyG1",
     "type":"CODE",
     "hide_input_from_viewers":true,
     "hide_output_from_viewers":true
    }
   }
  },
  {
   "cell_type":"code",
   "source":[
    "x_train.head()"
   ],
   "execution_count":20,
   "outputs":[
    {
     "data":{
      "text\/html":[
       "<div>\n",
       "<style scoped>\n",
       "    .dataframe tbody tr th:only-of-type {\n",
       "        vertical-align: middle;\n",
       "    }\n",
       "\n",
       "    .dataframe tbody tr th {\n",
       "        vertical-align: top;\n",
       "    }\n",
       "\n",
       "    .dataframe thead th {\n",
       "        text-align: right;\n",
       "    }\n",
       "<\/style>\n",
       "<table border=\"1\" class=\"dataframe\">\n",
       "  <thead>\n",
       "    <tr style=\"text-align: right;\">\n",
       "      <th><\/th>\n",
       "      <th>bedrooms<\/th>\n",
       "      <th>bathrooms<\/th>\n",
       "      <th>sqft_living<\/th>\n",
       "      <th>sqft_above<\/th>\n",
       "      <th>grade_5<\/th>\n",
       "      <th>grade_6<\/th>\n",
       "      <th>grade_7<\/th>\n",
       "      <th>grade_8<\/th>\n",
       "      <th>grade_9<\/th>\n",
       "      <th>grade_10<\/th>\n",
       "      <th>grade_11<\/th>\n",
       "      <th>grade_12<\/th>\n",
       "    <\/tr>\n",
       "  <\/thead>\n",
       "  <tbody>\n",
       "    <tr>\n",
       "      <th>15418<\/th>\n",
       "      <td>2<\/td>\n",
       "      <td>1.00<\/td>\n",
       "      <td>740<\/td>\n",
       "      <td>740<\/td>\n",
       "      <td>0<\/td>\n",
       "      <td>1<\/td>\n",
       "      <td>0<\/td>\n",
       "      <td>0<\/td>\n",
       "      <td>0<\/td>\n",
       "      <td>0<\/td>\n",
       "      <td>0<\/td>\n",
       "      <td>0<\/td>\n",
       "    <\/tr>\n",
       "    <tr>\n",
       "      <th>3527<\/th>\n",
       "      <td>3<\/td>\n",
       "      <td>1.00<\/td>\n",
       "      <td>1510<\/td>\n",
       "      <td>1510<\/td>\n",
       "      <td>0<\/td>\n",
       "      <td>1<\/td>\n",
       "      <td>0<\/td>\n",
       "      <td>0<\/td>\n",
       "      <td>0<\/td>\n",
       "      <td>0<\/td>\n",
       "      <td>0<\/td>\n",
       "      <td>0<\/td>\n",
       "    <\/tr>\n",
       "    <tr>\n",
       "      <th>9613<\/th>\n",
       "      <td>6<\/td>\n",
       "      <td>2.75<\/td>\n",
       "      <td>3280<\/td>\n",
       "      <td>1910<\/td>\n",
       "      <td>0<\/td>\n",
       "      <td>0<\/td>\n",
       "      <td>1<\/td>\n",
       "      <td>0<\/td>\n",
       "      <td>0<\/td>\n",
       "      <td>0<\/td>\n",
       "      <td>0<\/td>\n",
       "      <td>0<\/td>\n",
       "    <\/tr>\n",
       "    <tr>\n",
       "      <th>16682<\/th>\n",
       "      <td>4<\/td>\n",
       "      <td>1.50<\/td>\n",
       "      <td>1550<\/td>\n",
       "      <td>1180<\/td>\n",
       "      <td>0<\/td>\n",
       "      <td>0<\/td>\n",
       "      <td>1<\/td>\n",
       "      <td>0<\/td>\n",
       "      <td>0<\/td>\n",
       "      <td>0<\/td>\n",
       "      <td>0<\/td>\n",
       "      <td>0<\/td>\n",
       "    <\/tr>\n",
       "    <tr>\n",
       "      <th>10856<\/th>\n",
       "      <td>4<\/td>\n",
       "      <td>2.50<\/td>\n",
       "      <td>2420<\/td>\n",
       "      <td>1680<\/td>\n",
       "      <td>0<\/td>\n",
       "      <td>0<\/td>\n",
       "      <td>0<\/td>\n",
       "      <td>1<\/td>\n",
       "      <td>0<\/td>\n",
       "      <td>0<\/td>\n",
       "      <td>0<\/td>\n",
       "      <td>0<\/td>\n",
       "    <\/tr>\n",
       "  <\/tbody>\n",
       "<\/table>\n",
       "<\/div>"
      ]
     },
     "metadata":{
      
     },
     "output_type":"display_data"
    }
   ],
   "metadata":{
    "datalore":{
     "node_id":"iRp8Rk5NrRpOu2cgFOAuow",
     "type":"CODE",
     "hide_input_from_viewers":true,
     "hide_output_from_viewers":true
    }
   }
  },
  {
   "cell_type":"code",
   "source":[
    "from sklearn.linear_model import LinearRegression\n",
    "reg=LinearRegression()"
   ],
   "execution_count":21,
   "outputs":[
    
   ],
   "metadata":{
    "datalore":{
     "node_id":"cG5f95o7HGxAthVe1ODm1S",
     "type":"CODE",
     "hide_input_from_viewers":true,
     "hide_output_from_viewers":true
    }
   }
  },
  {
   "cell_type":"markdown",
   "source":[
    "Apply linear regression model"
   ],
   "attachments":{
    
   },
   "metadata":{
    "datalore":{
     "node_id":"EMKktSM4p6j39bNIhs1gr5",
     "type":"MD",
     "hide_input_from_viewers":true,
     "hide_output_from_viewers":true
    }
   }
  },
  {
   "cell_type":"code",
   "source":[
    "reg.fit(x_train, y_train)"
   ],
   "execution_count":22,
   "outputs":[
    {
     "data":{
      "text\/plain":[
       "LinearRegression()"
      ]
     },
     "metadata":{
      
     },
     "output_type":"display_data"
    }
   ],
   "metadata":{
    "datalore":{
     "node_id":"7wHpsqEIE3NAzz6CR1ESow",
     "type":"CODE",
     "hide_input_from_viewers":true,
     "hide_output_from_viewers":true
    }
   }
  },
  {
   "cell_type":"markdown",
   "source":[
    "Print the results of the regression model."
   ],
   "attachments":{
    
   },
   "metadata":{
    "datalore":{
     "node_id":"NpKHMPbnFT6eZ5fOcXHYL5",
     "type":"MD",
     "hide_input_from_viewers":true,
     "hide_output_from_viewers":true
    }
   }
  },
  {
   "cell_type":"code",
   "source":[
    "# print results of regression model\n",
    "from sklearn import metrics\n",
    "print('Coefficients :\\n ', reg.coef_)\n",
    "print('Mean Squared Error ', metrics.mean_squared_error(y_test,\n",
    "    reg.predict(x_test)))\n",
    "\n",
    "print('R square ', reg.score(x_test, y_test))"
   ],
   "execution_count":23,
   "outputs":[
    {
     "name":"stdout",
     "text":[
      "Coefficients :\n",
      "  [ 1.44067003e+03 -3.13896905e+03  2.09889202e+02 -9.95868325e+01\n",
      " -2.59495080e+04 -1.99286782e+04  2.06395305e+04  1.04394607e+05\n",
      "  2.68150243e+05  4.53106946e+05  9.36458319e+05  1.37911474e+06]\n",
      "Mean Squared Error  73188564097.99875\n",
      "R square  0.6384923121965763\n"
     ],
     "output_type":"stream"
    }
   ],
   "metadata":{
    "datalore":{
     "node_id":"KnD4XziuK0xIexHBVynp5n",
     "type":"CODE",
     "hide_input_from_viewers":true,
     "hide_output_from_viewers":true
    }
   }
  },
  {
   "cell_type":"markdown",
   "source":[
    "# 1.0.3 Building a model with all parameters\n",
    "\n",
    "Visualizing the relationship between floors, view and condition with the price."
   ],
   "attachments":{
    
   },
   "metadata":{
    "datalore":{
     "node_id":"Ca70114VvBd8lSyeYud0QP",
     "type":"MD",
     "hide_input_from_viewers":true,
     "hide_output_from_viewers":true
    }
   }
  },
  {
   "cell_type":"code",
   "source":[
    "fig, axarr=plt.subplots(3, figsize=(12,40))\n",
    "sns.boxplot(y= 'floors', x= 'price', data=data,width=0.8,\n",
    "orient= 'h', showmeans=True, fliersize=3, ax=axarr[0])\n",
    "sns.boxplot(y= 'view', x= 'price', data=data,width=0.8,\n",
    "orient= 'h', showmeans=True, fliersize=3, ax=axarr[1])\n",
    "sns.boxplot(y= 'condition', x= 'price', data=data,width=0.8,\n",
    "orient= 'h', showmeans=True, fliersize=3, ax=axarr[2])\n",
    "plt.show()"
   ],
   "execution_count":24,
   "outputs":[
    {
     "data":{
      "image\/png":"[encoded data removed]"
     },
     "metadata":{
      "image\/png":{
       
      }
     },
     "output_type":"display_data"
    }
   ],
   "metadata":{
    "datalore":{
     "node_id":"O7CfD7Yf8kF1nn7V3OLEea",
     "type":"CODE",
     "hide_input_from_viewers":true,
     "hide_output_from_viewers":true
    }
   }
  },
  {
   "cell_type":"markdown",
   "source":[
    "Visualize the house prices on map"
   ],
   "attachments":{
    
   },
   "metadata":{
    "datalore":{
     "node_id":"psHFF8PjyffzO314lboLh9",
     "type":"MD",
     "hide_input_from_viewers":true,
     "hide_output_from_viewers":true
    }
   }
  },
  {
   "cell_type":"code",
   "source":[
    "# install folium module\n",
    "!pip install folium"
   ],
   "execution_count":25,
   "outputs":[
    {
     "name":"stdout",
     "text":[
      "Collecting folium\r\n",
      "  Downloading folium-0.14.0-py2.py3-none-any.whl (102 kB)\r\n",
      "\u001b[?25l     \u001b[90m━━━━━━━━━━━━━━━━━━━━━━━━━━━━━━━━━━━━━━━━\u001b[0m \u001b[32m0.0\/102.3 kB\u001b[0m \u001b[31m?\u001b[0m eta \u001b[36m-:--:--\u001b[0m\r\u001b[2K     \u001b[90m━━━━━━━━━━━━━━━━━━━━━━━━━━━━━━━━━━━━━━\u001b[0m \u001b[32m102.3\/102.3 kB\u001b[0m \u001b[31m15.2 MB\/s\u001b[0m eta \u001b[36m0:00:00\u001b[0m\r\n",
      "\u001b[?25hCollecting branca>=0.6.0\r\n",
      "  Downloading branca-0.6.0-py3-none-any.whl (24 kB)\r\n",
      "Requirement already satisfied: jinja2>=2.9 in \/opt\/python\/envs\/default\/lib\/python3.8\/site-packages (from folium) (3.1.2)\r\n",
      "Requirement already satisfied: requests in \/opt\/python\/envs\/default\/lib\/python3.8\/site-packages (from folium) (2.26.0)\r\n",
      "Requirement already satisfied: numpy in \/opt\/python\/envs\/default\/lib\/python3.8\/site-packages (from folium) (1.23.5)\r\n",
      "Requirement already satisfied: MarkupSafe>=2.0 in \/opt\/python\/envs\/default\/lib\/python3.8\/site-packages (from jinja2>=2.9->folium) (2.1.2)\r\n",
      "Requirement already satisfied: idna<4,>=2.5 in \/opt\/python\/envs\/default\/lib\/python3.8\/site-packages (from requests->folium) (3.4)\r\n",
      "Requirement already satisfied: charset-normalizer~=2.0.0 in \/opt\/python\/envs\/default\/lib\/python3.8\/site-packages (from requests->folium) (2.0.12)\r\n",
      "Requirement already satisfied: certifi>=2017.4.17 in \/opt\/python\/envs\/default\/lib\/python3.8\/site-packages (from requests->folium) (2022.12.7)\r\n",
      "Requirement already satisfied: urllib3<1.27,>=1.21.1 in \/opt\/python\/envs\/default\/lib\/python3.8\/site-packages (from requests->folium) (1.26.14)\r\n",
      "Installing collected packages: branca, folium\r\n",
      "Successfully installed branca-0.6.0 folium-0.14.0\r\n"
     ],
     "output_type":"stream"
    }
   ],
   "metadata":{
    "datalore":{
     "node_id":"CMOEWMANSrLDvqmziFbszF",
     "type":"CODE",
     "hide_input_from_viewers":true,
     "hide_output_from_viewers":true
    }
   }
  },
  {
   "cell_type":"code",
   "source":[
    "!pip install --upgrade pip"
   ],
   "execution_count":26,
   "outputs":[
    {
     "name":"stdout",
     "text":[
      "Requirement already satisfied: pip in \/opt\/python\/envs\/default\/lib\/python3.8\/site-packages (23.0.1)\r\n"
     ],
     "output_type":"stream"
    }
   ],
   "metadata":{
    "datalore":{
     "node_id":"fXuZKPoaskUecAv6R0wcqK",
     "type":"CODE",
     "hide_input_from_viewers":true,
     "hide_output_from_viewers":true
    }
   }
  },
  {
   "cell_type":"code",
   "source":[
    "import folium\n",
    "from folium.plugins import HeatMap\n",
    "\n",
    "# find row of the house which has the highest price\n",
    "maxpr = data.loc[data['price'].idxmax()]\n",
    "\n",
    "#define function to draw a basemap easily\n",
    "def generateBaseMap(default_location=[47.5112, -122.257], default_zoom_start=9.4):\n",
    "    base_map = folium.Map(location=default_location, control_scale = True,\n",
    "    zoom_start=default_zoom_start)\n",
    "\n",
    "    return base_map\n",
    "\n",
    "df_copy=data.copy()\n",
    "# select a zipcode for the heatmap\n",
    "#set(df['zipcode'])\n",
    "#df_copy = df[df['zipcode']==98001].copy()\n",
    "df_copy['count'] = 1\n",
    "basemap = generateBaseMap()\n",
    "# add carton position map\n",
    "folium.TileLayer('cartodbpositron').add_to(basemap)\n",
    "s=folium.FeatureGroup(name='icon').add_to(basemap)\n",
    "# add a marker for the house which has the highest price\n",
    "folium.Marker([maxpr['lat'], maxpr['long']],\n",
    "popup = 'Highest Price: $'+str(format(maxpr['price'],'.0f')),\n",
    "icon=folium.Icon(color='green')).add_to(s)\n",
    "# add heatmap\n",
    "HeatMap(data=df_copy[['lat','long','count']].groupby(['lat','long']).sum().reset_index(),\n",
    "radius=8,max_zoom=13,name='Heat Map').add_to(basemap)\n",
    "folium.LayerControl(collapsed=False).add_to(basemap)\n",
    "basemap\n"
   ],
   "execution_count":27,
   "outputs":[
    {
     "data":{
      "text\/html":[
       "<div style=\"width:100%;\"><div style=\"position:relative;width:100%;height:0;padding-bottom:60%;\"><span style=\"color:#565656\">Make this Notebook Trusted to load map: File -> Trust Notebook<\/span><iframe srcdoc=\"&lt;!DOCTYPE html&gt;\n",
       "&lt;html&gt;\n",
       "&lt;head&gt;\n",
       "    \n",
       "    &lt;meta http-equiv=&quot;content-type&quot; content=&quot;text\/html; charset=UTF-8&quot; \/&gt;\n",
       "    \n",
       "        &lt;script&gt;\n",
       "            L_NO_TOUCH = false;\n",
       "            L_DISABLE_3D = false;\n",
       "        &lt;\/script&gt;\n",
       "    \n",
       "    &lt;style&gt;html, body {width: 100%;height: 100%;margin: 0;padding: 0;}&lt;\/style&gt;\n",
       "    &lt;style&gt;#map {position:absolute;top:0;bottom:0;right:0;left:0;}&lt;\/style&gt;\n",
       "    &lt;script src=&quot;https:\/\/cdn.jsdelivr.net\/npm\/leaflet@1.9.3\/dist\/leaflet.js&quot;&gt;&lt;\/script&gt;\n",
       "    &lt;script src=&quot;https:\/\/code.jquery.com\/jquery-1.12.4.min.js&quot;&gt;&lt;\/script&gt;\n",
       "    &lt;script src=&quot;https:\/\/cdn.jsdelivr.net\/npm\/bootstrap@5.2.2\/dist\/js\/bootstrap.bundle.min.js&quot;&gt;&lt;\/script&gt;\n",
       "    &lt;script src=&quot;https:\/\/cdnjs.cloudflare.com\/ajax\/libs\/Leaflet.awesome-markers\/2.0.2\/leaflet.awesome-markers.js&quot;&gt;&lt;\/script&gt;\n",
       "    &lt;link rel=&quot;stylesheet&quot; href=&quot;https:\/\/cdn.jsdelivr.net\/npm\/leaflet@1.9.3\/dist\/leaflet.css&quot;\/&gt;\n",
       "    &lt;link rel=&quot;stylesheet&quot; href=&quot;https:\/\/cdn.jsdelivr.net\/npm\/bootstrap@5.2.2\/dist\/css\/bootstrap.min.css&quot;\/&gt;\n",
       "    &lt;link rel=&quot;stylesheet&quot; href=&quot;https:\/\/netdna.bootstrapcdn.com\/bootstrap\/3.0.0\/css\/bootstrap.min.css&quot;\/&gt;\n",
       "    &lt;link rel=&quot;stylesheet&quot; href=&quot;https:\/\/cdn.jsdelivr.net\/npm\/@fortawesome\/fontawesome-free@6.2.0\/css\/all.min.css&quot;\/&gt;\n",
       "    &lt;link rel=&quot;stylesheet&quot; href=&quot;https:\/\/cdnjs.cloudflare.com\/ajax\/libs\/Leaflet.awesome-markers\/2.0.2\/leaflet.awesome-markers.css&quot;\/&gt;\n",
       "    &lt;link rel=&quot;stylesheet&quot; href=&quot;https:\/\/cdn.jsdelivr.net\/gh\/python-visualization\/folium\/folium\/templates\/leaflet.awesome.rotate.min.css&quot;\/&gt;\n",
       "    \n",
       "            &lt;meta name=&quot;viewport&quot; content=&quot;width=device-width,\n",
       "                initial-scale=1.0, maximum-scale=1.0, user-scalable=no&quot; \/&gt;\n",
       "            &lt;style&gt;\n",
       "                #map_e627c0022c187d987d239be1b4e9942c {\n",
       "                    position: relative;\n",
       "                    width: 100.0%;\n",
       "                    height: 100.0%;\n",
       "                    left: 0.0%;\n",
       "                    top: 0.0%;\n",
       "                }\n",
       "                .leaflet-container { font-size: 1rem; }\n",
       "            &lt;\/style&gt;\n",
       "        \n",
       "    &lt;script src=&quot;https:\/\/cdn.jsdelivr.net\/gh\/python-visualization\/folium@main\/folium\/templates\/leaflet_heat.min.js&quot;&gt;&lt;\/script&gt;\n",
       "&lt;\/head&gt;\n",
       "&lt;body&gt;\n",
       "    \n",
       "    \n",
       "            &lt;div class=&quot;folium-map&quot; id=&quot;map_e627c0022c187d987d239be1b4e9942c&quot; &gt;&lt;\/div&gt;\n",
       "        \n",
       "&lt;\/body&gt;\n",
       "&lt;script&gt;\n",
       "    \n",
       "    \n",
       "            var map_e627c0022c187d987d239be1b4e9942c = L.map(\n",
       "                &quot;map_e627c0022c187d987d239be1b4e9942c&quot;,\n",
       "                {\n",
       "                    center: [47.5112, -122.257],\n",
       "                    crs: L.CRS.EPSG3857,\n",
       "                    zoom: 9.4,\n",
       "                    zoomControl: true,\n",
       "                    preferCanvas: false,\n",
       "                }\n",
       "            );\n",
       "            L.control.scale().addTo(map_e627c0022c187d987d239be1b4e9942c);\n",
       "\n",
       "            \n",
       "\n",
       "        \n",
       "    \n",
       "            var tile_layer_5de782b6ec9eb23f40da82c06a10c56e = L.tileLayer(\n",
       "                &quot;https:\/\/{s}.tile.openstreetmap.org\/{z}\/{x}\/{y}.png&quot;,\n",
       "                {&quot;attribution&quot;: &quot;Data by \\u0026copy; \\u003ca target=\\&quot;_blank\\&quot; href=\\&quot;http:\/\/openstreetmap.org\\&quot;\\u003eOpenStreetMap\\u003c\/a\\u003e, under \\u003ca target=\\&quot;_blank\\&quot; href=\\&quot;http:\/\/www.openstreetmap.org\/copyright\\&quot;\\u003eODbL\\u003c\/a\\u003e.&quot;, &quot;detectRetina&quot;: false, &quot;maxNativeZoom&quot;: 18, &quot;maxZoom&quot;: 18, &quot;minZoom&quot;: 0, &quot;noWrap&quot;: false, &quot;opacity&quot;: 1, &quot;subdomains&quot;: &quot;abc&quot;, &quot;tms&quot;: false}\n",
       "            ).addTo(map_e627c0022c187d987d239be1b4e9942c);\n",
       "        \n",
       "    \n",
       "            var tile_layer_7d9a5afedc03f5865b64942b7dc9228f = L.tileLayer(\n",
       "                &quot;https:\/\/cartodb-basemaps-{s}.global.ssl.fastly.net\/light_all\/{z}\/{x}\/{y}.png&quot;,\n",
       "                {&quot;attribution&quot;: &quot;\\u0026copy; \\u003ca target=\\&quot;_blank\\&quot; href=\\&quot;http:\/\/www.openstreetmap.org\/copyright\\&quot;\\u003eOpenStreetMap\\u003c\/a\\u003e contributors \\u0026copy; \\u003ca target=\\&quot;_blank\\&quot; href=\\&quot;http:\/\/cartodb.com\/attributions\\&quot;\\u003eCartoDB\\u003c\/a\\u003e, CartoDB \\u003ca target=\\&quot;_blank\\&quot; href =\\&quot;http:\/\/cartodb.com\/attributions\\&quot;\\u003eattributions\\u003c\/a\\u003e&quot;, &quot;detectRetina&quot;: false, &quot;maxNativeZoom&quot;: 18, &quot;maxZoom&quot;: 18, &quot;minZoom&quot;: 0, &quot;noWrap&quot;: false, &quot;opacity&quot;: 1, &quot;subdomains&quot;: &quot;abc&quot;, &quot;tms&quot;: false}\n",
       "            ).addTo(map_e627c0022c187d987d239be1b4e9942c);\n",
       "        \n",
       "    \n",
       "            var feature_group_37eb5bd7b56564a8c6dd4852e80903eb = L.featureGroup(\n",
       "                {}\n",
       "            ).addTo(map_e627c0022c187d987d239be1b4e9942c);\n",
       "        \n",
       "    \n",
       "            var marker_a04d0f5b1c40ede292f871e773ecf877 = L.marker(\n",
       "                [47.5692, -122.189],\n",
       "                {}\n",
       "            ).addTo(feature_group_37eb5bd7b56564a8c6dd4852e80903eb);\n",
       "        \n",
       "    \n",
       "            var icon_847543b8e33c705f88e9953d02e7f9b6 = L.AwesomeMarkers.icon(\n",
       "                {&quot;extraClasses&quot;: &quot;fa-rotate-0&quot;, &quot;icon&quot;: &quot;info-sign&quot;, &quot;iconColor&quot;: &quot;white&quot;, &quot;markerColor&quot;: &quot;green&quot;, &quot;prefix&quot;: &quot;glyphicon&quot;}\n",
       "            );\n",
       "            marker_a04d0f5b1c40ede292f871e773ecf877.setIcon(icon_847543b8e33c705f88e9953d02e7f9b6);\n",
       "        \n",
       "    \n",
       "        var popup_f27a1687a5a5081487ad73570ede4f4d = L.popup({&quot;maxWidth&quot;: &quot;100%&quot;});\n",
       "\n",
       "        \n",
       "            \n",
       "                var html_9d229fd6eb742712f214ab9cbb3506db = $(`&lt;div id=&quot;html_9d229fd6eb742712f214ab9cbb3506db&quot; style=&quot;width: 100.0%; height: 100.0%;&quot;&gt;Highest Price: $4208000&lt;\/div&gt;`)[0];\n",
       "                popup_f27a1687a5a5081487ad73570ede4f4d.setContent(html_9d229fd6eb742712f214ab9cbb3506db);\n",
       "            \n",
       "        \n",
       "\n",
       "        marker_a04d0f5b1c40ede292f871e773ecf877.bindPopup(popup_f27a1687a5a5081487ad73570ede4f4d)\n",
       "        ;\n",
       "\n",
       "        \n",
       "    \n",
       "    \n",
       "            var heat_map_9dff454accea9ecae0fbffa8a1d775e8 = L.heatLayer(\n",
       "                [[47.1764, -122.026, 1.0], [47.1895, -122.015, 1.0], [47.1903, -122.013, 1.0], [47.1927, -122.015, 1.0], [47.194, -121.981, 1.0], [47.1942, -121.99, 1.0], [47.1943, -121.991, 1.0], [47.1944, -122.013, 1.0], [47.1944, -121.974, 1.0], [47.1947, -122.008, 1.0], [47.1948, -121.999, 1.0], [47.1948, -121.974, 1.0], [47.1956, -121.986, 1.0], [47.2003, -121.996, 1.0], [47.2005, -121.999, 1.0], [47.2021, -122.002, 1.0], [47.205, -121.996, 1.0], [47.2051, -122.006, 1.0], [47.2052, -121.987, 1.0], [47.2083, -122.005, 1.0], [47.2088, -121.992, 1.0], [47.2093, -122.0, 1.0], [47.2113, -121.992, 1.0], [47.2119, -122.001, 1.0], [47.2159, -121.964, 1.0], [47.2407, -121.953, 1.0], [47.2578, -122.217, 1.0], [47.258, -122.305, 1.0], [47.258, -122.252, 1.0], [47.2584, -122.124, 1.0], [47.2585, -122.061, 1.0], [47.2586, -122.2, 1.0], [47.2586, -122.194, 1.0], [47.2593, -122.222, 1.0], [47.2597, -122.199, 1.0], [47.2598, -122.311, 1.0], [47.2598, -122.304, 1.0], [47.2602, -122.219, 1.0], [47.2603, -122.194, 1.0], [47.2607, -122.25, 1.0], [47.261, -122.219, 1.0], [47.2616, -122.281, 1.0], [47.2617, -122.21, 1.0], [47.2618, -122.12, 1.0], [47.2619, -122.308, 1.0], [47.2621, -122.308, 1.0], [47.2621, -122.218, 1.0], [47.2627, -122.215, 1.0], [47.2631, -122.212, 1.0], [47.2716, -122.144, 1.0], [47.2729, -122.299, 1.0], [47.2743, -122.009, 1.0], [47.2751, -122.252, 1.0], [47.277, -122.347, 1.0], [47.2777, -122.252, 1.0], [47.2793, -122.295, 1.0], [47.2804, -122.251, 1.0], [47.2808, -122.225, 1.0], [47.2827, -122.302, 1.0], [47.2831, -122.346, 1.0], [47.2835, -122.2, 1.0], [47.2843, -122.357, 1.0], [47.2845, -122.25, 1.0], [47.2849, -122.251, 1.0], [47.2858, -122.212, 1.0], [47.286, -122.218, 1.0], [47.2861, -122.252, 1.0], [47.2875, -122.289, 1.0], [47.288, -122.283, 1.0], [47.2911, -122.353, 1.0], [47.292, -122.195, 1.0], [47.2927, -122.369, 1.0], [47.2933, -122.377, 1.0], [47.2933, -122.372, 1.0], [47.2934, -122.215, 1.0], [47.295, -122.37, 1.0], [47.2951, -122.284, 1.0], [47.2958, -122.284, 1.0], [47.2959, -122.377, 1.0], [47.2964, -122.376, 1.0], [47.2977, -122.367, 1.0], [47.2983, -122.374, 1.0], [47.3009, -122.384, 1.0], [47.3013, -122.109, 1.0], [47.3018, -122.369, 1.0], [47.3019, -122.341, 1.0], [47.3027, -122.376, 1.0], [47.3028, -122.35, 1.0], [47.3046, -122.215, 1.0], [47.3047, -122.347, 1.0], [47.3053, -122.34, 1.0], [47.3054, -122.305, 1.0], [47.3056, -122.206, 1.0], [47.3058, -122.277, 1.0], [47.3073, -122.395, 1.0], [47.3073, -122.272, 1.0], [47.3075, -122.359, 1.0], [47.3081, -122.329, 1.0], [47.3087, -122.206, 1.0], [47.3092, -122.376, 1.0], [47.3093, -122.345, 1.0], [47.3095, -122.217, 1.0], [47.3098, -122.21, 1.0], [47.3099, -122.384, 1.0], [47.3102, -122.381, 1.0], [47.3105, -122.021, 1.0], [47.3114, -122.395, 1.0], [47.3126, -122.361, 1.0], [47.3126, -122.346, 1.0], [47.3126, -122.043, 1.0], [47.3128, -122.345, 1.0], [47.314, -122.364, 1.0], [47.3141, -122.355, 1.0], [47.3146, -122.351, 1.0], [47.315, -122.193, 1.0], [47.3155, -122.365, 1.0], [47.3156, -122.186, 1.0], [47.3161, -122.182, 1.0], [47.3168, -122.174, 1.0], [47.3172, -122.322, 1.0], [47.3179, -122.257, 1.0], [47.3182, -122.319, 1.0], [47.3187, -122.39, 1.0], [47.3188, -122.212, 1.0], [47.3191, -122.385, 1.0], [47.3191, -122.339, 1.0], [47.3196, -122.351, 1.0], [47.3202, -122.395, 1.0], [47.3207, -122.293, 1.0], [47.3212, -122.352, 1.0], [47.3215, -122.369, 1.0], [47.3225, -122.273, 1.0], [47.3239, -122.35, 1.0], [47.3244, -122.379, 1.0], [47.3249, -122.187, 1.0], [47.3251, -122.329, 1.0], [47.3253, -122.298, 1.0], [47.3255, -122.304, 1.0], [47.3256, -122.298, 1.0], [47.3256, -122.141, 1.0], [47.3262, -122.334, 1.0], [47.3273, -122.37, 1.0], [47.3273, -122.349, 1.0], [47.3275, -122.361, 1.0], [47.3275, -122.338, 1.0], [47.3276, -122.163, 1.0], [47.3278, -122.337, 1.0], [47.328, -122.337, 1.0], [47.3281, -122.344, 1.0], [47.3281, -122.124, 1.0], [47.3282, -122.285, 1.0], [47.3286, -122.208, 1.0], [47.3287, -122.011, 1.0], [47.3289, -122.327, 1.0], [47.3289, -122.204, 1.0], [47.329, -122.338, 1.0], [47.3291, -122.17, 1.0], [47.3293, -122.364, 1.0], [47.3304, -122.302, 1.0], [47.3304, -122.13, 1.0], [47.3313, -122.198, 1.0], [47.3314, -122.29, 1.0], [47.3316, -122.203, 1.0], [47.3324, -122.17, 1.0], [47.3327, -122.306, 1.0], [47.3333, -122.074, 1.0], [47.3338, -122.268, 1.0], [47.334, -122.106, 1.0], [47.3342, -122.108, 1.0], [47.3356, -122.333, 1.0], [47.3357, -122.275, 1.0], [47.3364, -122.321, 1.0], [47.3373, -122.266, 1.0], [47.3381, -122.332, 1.0], [47.3384, -122.336, 1.0], [47.3386, -122.319, 1.0], [47.3388, -122.166, 1.0], [47.3405, -122.288, 1.0], [47.3405, -122.058, 1.0], [47.3426, -122.285, 1.0], [47.3427, -122.281, 1.0], [47.3431, -122.048, 1.0], [47.3438, -122.037, 1.0], [47.3446, -122.041, 1.0], [47.3449, -122.329, 1.0], [47.345, -122.21, 1.0], [47.3451, -122.094, 1.0], [47.3463, -122.308, 1.0], [47.3466, -122.323, 1.0], [47.3468, -122.11, 1.0], [47.347, -122.087, 1.0], [47.3473, -122.151, 1.0], [47.3473, -122.031, 1.0], [47.3482, -122.3, 1.0], [47.3491, -122.177, 1.0], [47.3491, -122.113, 1.0], [47.3496, -122.088, 1.0], [47.3498, -122.037, 1.0], [47.3503, -122.039, 1.0], [47.3506, -122.006, 1.0], [47.3507, -122.178, 1.0], [47.3509, -122.165, 1.0], [47.3516, -122.166, 1.0], [47.3519, -122.173, 1.0], [47.3533, -122.016, 1.0], [47.3535, -122.19, 1.0], [47.3536, -122.142, 1.0], [47.3539, -122.054, 1.0], [47.3549, -122.111, 1.0], [47.355, -122.319, 1.0], [47.355, -122.059, 1.0], [47.3552, -122.023, 1.0], [47.3552, -121.99, 1.0], [47.3554, -122.298, 1.0], [47.3555, -122.061, 1.0], [47.3555, -122.003, 1.0], [47.3557, -122.059, 1.0], [47.3557, -122.016, 1.0], [47.3558, -122.173, 1.0], [47.3559, -122.022, 1.0], [47.3563, -122.149, 1.0], [47.3564, -122.04, 1.0], [47.3572, -122.192, 1.0], [47.3575, -122.016, 1.0], [47.3576, -122.058, 1.0], [47.3582, -122.2, 1.0], [47.3585, -122.067, 1.0], [47.3592, -122.315, 1.0], [47.3594, -122.082, 1.0], [47.3595, -122.089, 1.0], [47.3595, -122.042, 1.0], [47.3595, -122.038, 1.0], [47.3597, -122.051, 1.0], [47.36, -122.039, 1.0], [47.3602, -121.988, 1.0], [47.3603, -122.088, 1.0], [47.3605, -122.12, 1.0], [47.3607, -122.085, 1.0], [47.3613, -122.081, 1.0], [47.3615, -122.087, 1.0], [47.3616, -122.089, 1.0], [47.3621, -122.11, 1.0], [47.3625, -122.025, 1.0], [47.3627, -122.108, 1.0], [47.3631, -122.116, 1.0], [47.3631, -122.05, 1.0], [47.3634, -122.027, 1.0], [47.3637, -122.057, 1.0], [47.3646, -122.036, 1.0], [47.365, -122.462, 1.0], [47.3655, -122.08, 1.0], [47.3657, -122.28, 1.0], [47.3657, -122.021, 1.0], [47.3658, -122.019, 1.0], [47.3658, -122.017, 1.0], [47.3659, -122.017, 1.0], [47.366, -122.308, 1.0], [47.366, -122.017, 1.0], [47.3662, -122.282, 1.0], [47.3663, -122.088, 1.0], [47.3665, -122.107, 1.0], [47.3666, -122.318, 1.0], [47.367, -122.115, 1.0], [47.367, -122.019, 1.0], [47.3674, -122.503, 1.0], [47.3679, -122.088, 1.0], [47.3679, -122.02, 1.0], [47.368, -122.315, 1.0], [47.3682, -122.096, 1.0], [47.3686, -122.058, 1.0], [47.3687, -122.182, 1.0], [47.369, -122.311, 1.0], [47.3693, -122.169, 1.0], [47.3693, -122.041, 1.0], [47.3706, -122.017, 1.0], [47.371, -122.018, 1.0], [47.3712, -122.092, 1.0], [47.3714, -122.197, 1.0], [47.3715, -122.274, 1.0], [47.3719, -122.091, 1.0], [47.3722, -122.22, 1.0], [47.3722, -122.044, 1.0], [47.3727, -122.177, 1.0], [47.3729, -122.115, 1.0], [47.3731, -122.172, 1.0], [47.3737, -122.115, 1.0], [47.3738, -122.161, 1.0], [47.3738, -122.057, 1.0], [47.3739, -122.29, 1.0], [47.3745, -122.131, 1.0], [47.3747, -122.306, 1.0], [47.3747, -122.164, 1.0], [47.3755, -122.136, 1.0], [47.3762, -122.219, 1.0], [47.3769, -122.028, 1.0], [47.3771, -122.186, 1.0], [47.3774, -122.236, 1.0], [47.3776, -122.228, 1.0], [47.3776, -122.116, 1.0], [47.378, -122.03, 1.0], [47.3781, -122.03, 1.0], [47.3782, -122.319, 1.0], [47.3782, -122.127, 1.0], [47.3783, -122.182, 1.0], [47.3786, -122.126, 1.0], [47.3788, -122.031, 1.0], [47.3789, -122.229, 1.0], [47.3793, -122.304, 1.0], [47.381, -122.035, 1.0], [47.3817, -122.035, 1.0], [47.3819, -122.312, 1.0], [47.3819, -122.09, 1.0], [47.3823, -122.159, 1.0], [47.3828, -122.148, 1.0], [47.3828, -122.098, 1.0], [47.3828, -122.09, 1.0], [47.3833, -122.093, 1.0], [47.3836, -122.082, 1.0], [47.3837, -122.304, 1.0], [47.3838, -122.287, 1.0], [47.3841, -122.036, 1.0], [47.3841, -122.006, 1.0], [47.3842, -122.036, 1.0], [47.3845, -122.029, 1.0], [47.3847, -122.029, 1.0], [47.3848, -122.033, 1.0], [47.3862, -122.315, 1.0], [47.3865, -122.217, 1.0], [47.3871, -122.224, 1.0], [47.3888, -122.032, 1.0], [47.3889, -122.482, 1.0], [47.3893, -122.216, 1.0], [47.3895, -122.222, 1.0], [47.3896, -122.218, 1.0], [47.39, -122.236, 1.0], [47.3902, -122.208, 1.0], [47.3904, -122.154, 1.0], [47.3914, -122.169, 1.0], [47.3922, -122.321, 1.0], [47.3925, -122.161, 1.0], [47.3926, -122.208, 1.0], [47.393, -122.184, 1.0], [47.3933, -122.454, 1.0], [47.3933, -122.188, 1.0], [47.3935, -122.3, 1.0], [47.3942, -122.515, 1.0], [47.3943, -122.311, 1.0], [47.3943, -122.196, 1.0], [47.3943, -122.189, 1.0], [47.3944, -122.506, 1.0], [47.3966, -122.308, 1.0], [47.3968, -122.171, 1.0], [47.397, -122.187, 1.0], [47.398, -122.299, 1.0], [47.3989, -122.164, 1.0], [47.3995, -122.318, 1.0], [47.4013, -122.319, 1.0], [47.402, -122.183, 1.0], [47.4029, -122.196, 1.0], [47.4036, -122.462, 1.0], [47.4043, -122.213, 1.0], [47.4043, -122.202, 1.0], [47.4045, -122.197, 1.0], [47.4056, -122.176, 1.0], [47.4058, -122.177, 1.0], [47.4065, -122.18, 1.0], [47.4075, -122.196, 1.0], [47.4077, -122.331, 1.0], [47.4085, -122.195, 1.0], [47.4094, -122.175, 1.0], [47.4097, -122.193, 1.0], [47.41, -122.208, 1.0], [47.4107, -122.179, 1.0], [47.4109, -122.329, 1.0], [47.4124, -122.204, 1.0], [47.4174, -122.316, 1.0], [47.4176, -122.323, 1.0], [47.4186, -122.079, 1.0], [47.4187, -122.329, 1.0], [47.4188, -121.949, 1.0], [47.42, -122.205, 1.0], [47.4204, -122.201, 1.0], [47.4213, -122.322, 1.0], [47.4214, -122.191, 1.0], [47.4217, -122.317, 1.0], [47.422, -122.321, 1.0], [47.4229, -122.324, 1.0], [47.4242, -122.181, 1.0], [47.4257, -122.146, 1.0], [47.4258, -122.327, 1.0], [47.4262, -122.187, 1.0], [47.4278, -122.152, 1.0], [47.4282, -122.347, 1.0], [47.4287, -122.163, 1.0], [47.4296, -122.185, 1.0], [47.4297, -122.19, 1.0], [47.4312, -122.171, 1.0], [47.432, -122.189, 1.0], [47.4324, -122.191, 1.0], [47.4325, -122.291, 1.0], [47.4332, -122.144, 1.0], [47.4333, -122.212, 1.0], [47.4334, -122.148, 1.0], [47.4339, -122.291, 1.0], [47.4341, -122.446, 1.0], [47.4343, -122.082, 1.0], [47.435, -122.192, 1.0], [47.4351, -122.335, 1.0], [47.4361, -122.189, 1.0], [47.4362, -122.178, 1.0], [47.4368, -122.162, 1.0], [47.4373, -122.333, 1.0], [47.4377, -122.464, 1.0], [47.4389, -122.116, 1.0], [47.439, -122.152, 1.0], [47.4391, -122.161, 1.0], [47.4394, -122.338, 1.0], [47.4403, -122.137, 1.0], [47.4416, -122.149, 1.0], [47.4418, -122.354, 1.0], [47.442, -122.282, 1.0], [47.4426, -122.342, 1.0], [47.4437, -121.772, 1.0], [47.4454, -122.185, 1.0], [47.4457, -122.128, 1.0], [47.4459, -122.359, 1.0], [47.4459, -122.124, 1.0], [47.4461, -122.208, 1.0], [47.4462, -122.137, 1.0], [47.4468, -122.341, 1.0], [47.4472, -122.207, 1.0], [47.4474, -121.771, 1.0], [47.4476, -122.332, 1.0], [47.4476, -122.169, 1.0], [47.4476, -122.128, 1.0], [47.4484, -122.158, 1.0], [47.4485, -121.774, 1.0], [47.4486, -122.194, 1.0], [47.4488, -122.274, 1.0], [47.449, -122.205, 1.0], [47.4491, -122.453, 1.0], [47.4498, -122.28, 1.0], [47.4498, -122.194, 1.0], [47.4499, -122.176, 1.0], [47.4508, -122.359, 1.0], [47.4511, -122.173, 1.0], [47.4511, -122.089, 1.0], [47.4514, -122.273, 1.0], [47.4518, -122.199, 1.0], [47.4526, -122.176, 1.0], [47.4527, -122.352, 1.0], [47.4529, -122.207, 1.0], [47.4531, -122.273, 1.0], [47.4539, -122.15, 1.0], [47.4549, -122.363, 1.0], [47.455, -122.198, 1.0], [47.4551, -122.373, 1.0], [47.4557, -122.443, 1.0], [47.4558, -122.507, 1.0], [47.4558, -122.171, 1.0], [47.4562, -122.193, 1.0], [47.4565, -122.287, 1.0], [47.4565, -122.181, 1.0], [47.4572, -122.167, 1.0], [47.4576, -122.182, 1.0], [47.4579, -122.068, 1.0], [47.458, -122.368, 1.0], [47.4593, -122.136, 1.0], [47.4594, -122.279, 1.0], [47.4596, -122.343, 1.0], [47.4596, -122.065, 1.0], [47.4598, -122.004, 1.0], [47.4601, -122.165, 1.0], [47.4602, -122.171, 1.0], [47.4604, -122.18, 1.0], [47.4605, -122.277, 1.0], [47.4606, -122.283, 1.0], [47.4608, -122.34, 1.0], [47.461, -121.992, 1.0], [47.4614, -122.168, 1.0], [47.4616, -121.98, 1.0], [47.4629, -121.744, 1.0], [47.4639, -122.17, 1.0], [47.4661, -121.997, 1.0], [47.4663, -122.359, 1.0], [47.4672, -122.291, 1.0], [47.4674, -122.178, 1.0], [47.4676, -122.296, 1.0], [47.4683, -122.07, 1.0], [47.4688, -122.009, 1.0], [47.469, -122.121, 1.0], [47.4693, -122.117, 1.0], [47.4694, -121.989, 1.0], [47.4696, -122.298, 1.0], [47.4698, -122.166, 1.0], [47.4701, -122.364, 1.0], [47.4704, -122.076, 1.0], [47.4708, -122.015, 1.0], [47.4709, -122.26, 1.0], [47.4715, -122.33, 1.0], [47.4716, -122.078, 1.0], [47.4719, -122.191, 1.0], [47.4721, -122.148, 1.0], [47.4723, -122.19, 1.0], [47.4723, -121.746, 1.0], [47.4724, -122.271, 1.0], [47.4727, -122.298, 1.0], [47.4727, -122.281, 1.0], [47.4728, -122.191, 1.0], [47.473, -122.324, 1.0], [47.473, -122.193, 1.0], [47.4732, -122.188, 1.0], [47.4734, -121.999, 1.0], [47.474, -122.139, 1.0], [47.4741, -122.099, 1.0], [47.4749, -122.213, 1.0], [47.4752, -122.271, 1.0], [47.4752, -122.172, 1.0], [47.4752, -121.757, 1.0], [47.4756, -122.09, 1.0], [47.4757, -122.148, 1.0], [47.476, -121.755, 1.0], [47.4764, -122.155, 1.0], [47.4768, -122.206, 1.0], [47.4774, -122.142, 1.0], [47.4779, -122.122, 1.0], [47.4781, -122.357, 1.0], [47.4785, -122.16, 1.0], [47.479, -122.339, 1.0], [47.4791, -122.347, 1.0], [47.4792, -122.357, 1.0], [47.4799, -122.129, 1.0], [47.4799, -122.127, 1.0], [47.4802, -122.279, 1.0], [47.4802, -122.188, 1.0], [47.4804, -122.157, 1.0], [47.4805, -122.158, 1.0], [47.4806, -122.152, 1.0], [47.4807, -122.332, 1.0], [47.4807, -122.182, 1.0], [47.4813, -122.129, 1.0], [47.4817, -121.749, 1.0], [47.4823, -121.771, 1.0], [47.4824, -122.336, 1.0], [47.4826, -121.771, 1.0], [47.4829, -122.128, 1.0], [47.4832, -121.772, 1.0], [47.4838, -122.33, 1.0], [47.4838, -122.299, 1.0], [47.484, -122.111, 1.0], [47.4841, -121.772, 1.0], [47.4842, -121.772, 1.0], [47.4846, -122.035, 1.0], [47.4848, -121.698, 1.0], [47.4849, -122.301, 1.0], [47.4851, -122.205, 1.0], [47.4858, -122.202, 1.0], [47.486, -122.129, 1.0], [47.4862, -122.224, 1.0], [47.4863, -122.14, 1.0], [47.4863, -121.73, 1.0], [47.4866, -122.319, 1.0], [47.4869, -122.324, 1.0], [47.4871, -122.219, 1.0], [47.4871, -122.065, 1.0], [47.4873, -122.166, 1.0], [47.4874, -122.306, 1.0], [47.4874, -122.223, 1.0], [47.4876, -121.779, 1.0], [47.4877, -122.335, 1.0], [47.4879, -122.152, 1.0], [47.4881, -122.281, 1.0], [47.4881, -122.204, 1.0], [47.4882, -122.339, 1.0], [47.4883, -121.725, 1.0], [47.4887, -122.15, 1.0], [47.4887, -122.133, 1.0], [47.4894, -122.188, 1.0], [47.4899, -122.337, 1.0], [47.4902, -122.256, 1.0], [47.4905, -122.343, 1.0], [47.4905, -122.191, 1.0], [47.4906, -121.775, 1.0], [47.4907, -122.152, 1.0], [47.4908, -122.225, 1.0], [47.4911, -122.17, 1.0], [47.4911, -122.154, 1.0], [47.4912, -122.312, 1.0], [47.4913, -122.154, 1.0], [47.4917, -122.167, 1.0], [47.4918, -122.258, 1.0], [47.4918, -122.064, 1.0], [47.4919, -122.365, 1.0], [47.4919, -122.311, 1.0], [47.4923, -122.165, 1.0], [47.4924, -122.237, 1.0], [47.4927, -122.312, 1.0], [47.4927, -122.169, 1.0], [47.4932, -122.263, 1.0], [47.4934, -122.332, 1.0], [47.4934, -122.189, 1.0], [47.4937, -122.149, 1.0], [47.4939, -122.318, 1.0], [47.4939, -122.261, 1.0], [47.4944, -122.304, 1.0], [47.4948, -121.776, 1.0], [47.495, -122.149, 1.0], [47.4954, -122.172, 1.0], [47.4954, -122.152, 1.0], [47.4956, -122.174, 1.0], [47.496, -122.239, 1.0], [47.496, -122.186, 1.0], [47.4968, -122.277, 1.0], [47.4968, -122.237, 1.0], [47.4969, -122.3, 1.0], [47.497, -122.346, 1.0], [47.4973, -122.177, 1.0], [47.4977, -122.359, 1.0], [47.4979, -122.241, 1.0], [47.4987, -121.787, 1.0], [47.4989, -122.322, 1.0], [47.4991, -122.345, 1.0], [47.4991, -122.299, 1.0], [47.4994, -122.261, 1.0], [47.4994, -122.234, 1.0], [47.4996, -122.146, 1.0], [47.5007, -122.359, 1.0], [47.5014, -122.172, 1.0], [47.5016, -122.341, 1.0], [47.5017, -122.165, 1.0], [47.5024, -122.32, 1.0], [47.5026, -122.236, 1.0], [47.5027, -122.348, 1.0], [47.5027, -122.33, 1.0], [47.5035, -122.258, 1.0], [47.5036, -122.387, 1.0], [47.5039, -122.24, 1.0], [47.504, -122.227, 1.0], [47.5042, -122.265, 1.0], [47.5042, -122.193, 1.0], [47.5044, -122.148, 1.0], [47.5045, -122.33, 2.0], [47.5051, -122.344, 1.0], [47.5059, -122.303, 1.0], [47.506, -122.331, 1.0], [47.5065, -122.275, 1.0], [47.5066, -122.259, 1.0], [47.5067, -122.164, 1.0], [47.5069, -122.141, 1.0], [47.5071, -122.255, 1.0], [47.5073, -122.36, 1.0], [47.5075, -122.262, 1.0], [47.5078, -122.169, 1.0], [47.5079, -122.158, 1.0], [47.5088, -122.371, 1.0], [47.5094, -122.31, 1.0], [47.5102, -122.18, 1.0], [47.5105, -122.387, 1.0], [47.5108, -122.193, 1.0], [47.5109, -122.183, 1.0], [47.511, -122.251, 1.0], [47.5112, -122.257, 1.0], [47.5115, -122.246, 1.0], [47.5118, -122.377, 1.0], [47.5119, -122.386, 1.0], [47.5121, -122.17, 1.0], [47.5122, -122.186, 1.0], [47.5127, -122.321, 1.0], [47.5132, -122.384, 1.0], [47.5132, -122.262, 1.0], [47.5137, -122.189, 1.0], [47.5147, -122.177, 1.0], [47.515, -121.874, 1.0], [47.515, -121.872, 1.0], [47.5162, -122.26, 1.0], [47.5162, -121.872, 1.0], [47.5164, -122.267, 1.0], [47.5164, -121.877, 1.0], [47.5168, -122.256, 1.0], [47.5169, -121.878, 1.0], [47.5171, -122.347, 1.0], [47.5172, -122.375, 1.0], [47.5175, -122.201, 1.0], [47.5181, -122.257, 1.0], [47.5182, -122.207, 1.0], [47.5183, -122.265, 1.0], [47.5185, -121.878, 1.0], [47.5188, -122.376, 1.0], [47.5188, -122.372, 1.0], [47.5196, -122.151, 1.0], [47.5198, -122.389, 1.0], [47.5198, -122.156, 1.0], [47.5202, -122.357, 1.0], [47.5208, -122.372, 1.0], [47.5208, -122.364, 2.0], [47.521, -121.877, 1.0], [47.5212, -122.357, 1.0], [47.5212, -122.192, 1.0], [47.5213, -122.357, 1.0], [47.5218, -122.358, 1.0], [47.5223, -121.818, 1.0], [47.5226, -122.045, 1.0], [47.5227, -122.19, 1.0], [47.5229, -122.192, 1.0], [47.5231, -122.332, 1.0], [47.5232, -122.191, 1.0], [47.5234, -122.38, 1.0], [47.5235, -122.168, 1.0], [47.5236, -122.184, 1.0], [47.5237, -122.383, 1.0], [47.5237, -122.376, 1.0], [47.5238, -122.356, 2.0], [47.5239, -122.388, 1.0], [47.524, -122.2, 1.0], [47.5243, -122.36, 1.0], [47.5243, -122.358, 1.0], [47.5245, -121.931, 1.0], [47.5245, -121.822, 1.0], [47.525, -122.356, 1.0], [47.5257, -122.392, 1.0], [47.5257, -122.357, 1.0], [47.5259, -121.815, 1.0], [47.526, -122.361, 1.0], [47.5261, -122.376, 1.0], [47.5261, -122.374, 1.0], [47.5265, -122.379, 1.0], [47.5266, -122.392, 1.0], [47.5267, -122.032, 2.0], [47.5269, -122.264, 1.0], [47.5273, -122.143, 1.0], [47.5275, -122.38, 1.0], [47.5276, -122.274, 1.0], [47.5279, -122.387, 1.0], [47.5283, -122.32, 1.0], [47.5284, -122.265, 1.0], [47.5286, -122.16, 1.0], [47.5293, -122.354, 1.0], [47.5294, -122.386, 1.0], [47.5295, -121.829, 1.0], [47.5297, -122.354, 1.0], [47.5297, -122.349, 1.0], [47.5298, -121.879, 1.0], [47.5299, -122.344, 1.0], [47.5302, -122.362, 1.0], [47.5304, -122.38, 1.0], [47.5305, -122.391, 1.0], [47.5305, -122.047, 1.0], [47.5307, -122.074, 1.0], [47.5307, -122.047, 1.0], [47.5308, -122.184, 1.0], [47.5309, -122.347, 1.0], [47.5311, -122.073, 1.0], [47.5314, -122.047, 1.0], [47.5316, -122.076, 1.0], [47.5318, -122.055, 1.0], [47.5318, -121.833, 1.0], [47.5319, -122.386, 1.0], [47.5319, -121.84, 1.0], [47.532, -122.385, 1.0], [47.5321, -122.354, 1.0], [47.5321, -122.029, 1.0], [47.5322, -122.075, 1.0], [47.5326, -121.879, 1.0], [47.5326, -121.855, 1.0], [47.5331, -122.352, 1.0], [47.5332, -122.265, 1.0], [47.5333, -122.392, 1.0], [47.5333, -122.217, 1.0], [47.5333, -121.933, 1.0], [47.5333, -121.87, 1.0], [47.5336, -122.278, 2.0], [47.5337, -122.379, 1.0], [47.5339, -122.067, 1.0], [47.534, -122.373, 1.0], [47.534, -122.346, 1.0], [47.5342, -121.883, 1.0], [47.5344, -122.068, 1.0], [47.5349, -122.384, 1.0], [47.535, -122.359, 1.0], [47.5352, -122.38, 1.0], [47.5354, -122.278, 1.0], [47.5354, -122.273, 1.0], [47.5356, -121.881, 1.0], [47.5357, -122.365, 1.0], [47.5359, -122.367, 1.0], [47.5359, -122.233, 1.0], [47.5359, -122.069, 1.0], [47.5362, -122.267, 1.0], [47.5364, -122.365, 1.0], [47.5366, -122.359, 1.0], [47.5367, -122.072, 1.0], [47.537, -122.385, 1.0], [47.5373, -122.395, 1.0], [47.5374, -122.388, 1.0], [47.5374, -122.216, 1.0], [47.5374, -122.192, 1.0], [47.5374, -122.173, 1.0], [47.5375, -122.391, 1.0], [47.5375, -122.178, 1.0], [47.5375, -122.175, 1.0], [47.5375, -121.742, 1.0], [47.5377, -122.266, 1.0], [47.5378, -121.742, 1.0], [47.538, -122.38, 1.0], [47.5381, -122.069, 1.0], [47.5381, -121.89, 1.0], [47.5381, -121.888, 1.0], [47.5382, -122.114, 1.0], [47.5382, -122.111, 1.0], [47.5382, -121.877, 1.0], [47.5382, -121.871, 1.0], [47.5383, -122.238, 1.0], [47.5385, -121.896, 1.0], [47.5386, -122.373, 1.0], [47.5386, -122.226, 1.0], [47.5387, -122.277, 1.0], [47.5388, -122.275, 1.0], [47.5388, -122.171, 1.0], [47.5389, -122.353, 1.0], [47.5392, -121.862, 1.0], [47.5395, -121.997, 1.0], [47.5396, -122.276, 1.0], [47.5398, -121.859, 1.0], [47.5399, -122.352, 1.0], [47.54, -121.876, 1.0], [47.5402, -122.231, 1.0], [47.5402, -121.887, 1.0], [47.5405, -122.293, 1.0], [47.5405, -122.026, 1.0], [47.5409, -122.267, 1.0], [47.5412, -122.27, 1.0], [47.5416, -122.232, 1.0], [47.542, -122.364, 1.0], [47.5424, -122.321, 1.0], [47.5427, -122.288, 1.0], [47.5427, -121.863, 1.0], [47.5429, -122.177, 1.0], [47.543, -122.375, 1.0], [47.5441, -122.39, 1.0], [47.5441, -122.172, 1.0], [47.5442, -122.138, 1.0], [47.5443, -122.172, 1.0], [47.5445, -122.321, 1.0], [47.5447, -122.394, 1.0], [47.5457, -122.363, 1.0], [47.546, -122.175, 1.0], [47.5461, -122.151, 1.0], [47.5462, -122.112, 1.0], [47.5465, -122.155, 1.0], [47.5465, -122.013, 1.0], [47.5468, -122.267, 1.0], [47.547, -122.01, 1.0], [47.5471, -122.016, 1.0], [47.5472, -122.372, 1.0], [47.5472, -122.233, 1.0], [47.5472, -122.176, 1.0], [47.5473, -122.371, 1.0], [47.5474, -122.291, 1.0], [47.5476, -122.397, 1.0], [47.5476, -122.116, 1.0], [47.5477, -122.388, 1.0], [47.5481, -122.103, 1.0], [47.5485, -122.302, 1.0], [47.549, -122.374, 1.0], [47.549, -122.372, 1.0], [47.5491, -122.19, 1.0], [47.5491, -122.104, 1.0], [47.5492, -122.372, 1.0], [47.5492, -122.3, 1.0], [47.5492, -122.276, 1.0], [47.5494, -121.994, 1.0], [47.5495, -122.31, 1.0], [47.5496, -122.373, 1.0], [47.5498, -122.214, 1.0], [47.5499, -122.394, 1.0], [47.5499, -122.384, 1.0], [47.5499, -122.274, 1.0], [47.5499, -122.1, 1.0], [47.55, -122.388, 1.0], [47.55, -122.379, 1.0], [47.5503, -122.356, 1.0], [47.5506, -122.29, 1.0], [47.5511, -122.312, 1.0], [47.5513, -121.801, 1.0], [47.5515, -122.12, 1.0], [47.5516, -122.263, 1.0], [47.5518, -122.37, 1.0], [47.5518, -121.998, 1.0], [47.5522, -121.999, 1.0], [47.5523, -121.998, 1.0], [47.5524, -122.382, 1.0], [47.5525, -122.3, 1.0], [47.5526, -121.998, 1.0], [47.5528, -122.229, 1.0], [47.5529, -122.026, 1.0], [47.5531, -122.379, 1.0], [47.5532, -122.372, 1.0], [47.5533, -122.307, 1.0], [47.5533, -122.304, 1.0], [47.5542, -122.265, 1.0], [47.5542, -122.001, 1.0], [47.5543, -122.398, 1.0], [47.5544, -121.99, 1.0], [47.5545, -122.365, 1.0], [47.5545, -122.003, 1.0], [47.5554, -122.279, 1.0], [47.5554, -122.27, 1.0], [47.5555, -122.363, 1.0], [47.5557, -122.278, 1.0], [47.5558, -122.002, 1.0], [47.5564, -122.177, 1.0], [47.5564, -122.13, 1.0], [47.5569, -122.31, 1.0], [47.5569, -122.288, 1.0], [47.5569, -122.151, 1.0], [47.557, -122.163, 1.0], [47.5573, -122.289, 1.0], [47.5575, -122.3, 1.0], [47.5577, -122.389, 1.0], [47.5581, -122.385, 1.0], [47.5585, -122.29, 1.0], [47.5586, -122.173, 1.0], [47.5587, -122.393, 1.0], [47.559, -122.397, 1.0], [47.5595, -122.317, 1.0], [47.5595, -122.114, 1.0], [47.5595, -122.04, 1.0], [47.5596, -122.142, 1.0], [47.5596, -122.022, 1.0], [47.56, -122.161, 1.0], [47.56, -122.144, 1.0], [47.5601, -122.378, 1.0], [47.5601, -122.16, 1.0], [47.5602, -122.292, 1.0], [47.5604, -122.133, 1.0], [47.5607, -122.378, 1.0], [47.5608, -122.016, 1.0], [47.561, -122.272, 1.0], [47.561, -122.126, 1.0], [47.561, -122.018, 1.0], [47.5612, -122.152, 1.0], [47.562, -122.289, 1.0], [47.562, -122.146, 1.0], [47.5621, -122.283, 1.0], [47.5621, -122.135, 1.0], [47.5623, -122.175, 1.0], [47.5623, -122.109, 1.0], [47.5626, -122.384, 1.0], [47.5627, -122.383, 1.0], [47.5631, -122.366, 1.0], [47.5632, -122.015, 1.0], [47.5633, -122.111, 1.0], [47.5633, -121.901, 1.0], [47.5634, -122.087, 1.0], [47.5637, -122.112, 1.0], [47.5639, -122.401, 1.0], [47.5639, -122.388, 1.0], [47.5639, -122.216, 1.0], [47.5641, -122.032, 1.0], [47.5642, -122.379, 1.0], [47.5643, -122.38, 1.0], [47.5644, -122.383, 1.0], [47.5647, -122.128, 1.0], [47.5648, -122.316, 1.0], [47.5651, -122.114, 1.0], [47.5651, -122.034, 1.0], [47.5653, -122.223, 1.0], [47.5653, -122.146, 1.0], [47.5654, -122.372, 1.0], [47.5654, -122.092, 1.0], [47.5655, -122.394, 1.0], [47.5655, -122.363, 1.0], [47.5656, -122.093, 1.0], [47.5658, -122.318, 1.0], [47.5659, -122.36, 1.0], [47.5659, -122.141, 1.0], [47.5659, -122.089, 1.0], [47.5659, -122.013, 1.0], [47.5659, -121.863, 1.0], [47.566, -122.14, 1.0], [47.566, -121.894, 1.0], [47.5661, -122.123, 1.0], [47.5662, -122.108, 1.0], [47.5663, -122.163, 1.0], [47.5667, -122.297, 1.0], [47.5671, -122.159, 1.0], [47.5672, -122.09, 1.0], [47.5672, -122.011, 1.0], [47.5674, -122.369, 1.0], [47.5677, -122.376, 1.0], [47.5682, -122.275, 1.0], [47.5682, -122.274, 1.0], [47.5682, -122.005, 1.0], [47.5689, -122.386, 1.0], [47.5689, -122.284, 1.0], [47.569, -122.007, 1.0], [47.569, -121.962, 1.0], [47.5691, -122.391, 1.0], [47.5692, -122.295, 1.0], [47.5692, -122.189, 1.0], [47.5694, -122.385, 1.0], [47.5694, -122.12, 1.0], [47.5694, -122.005, 1.0], [47.5696, -122.183, 1.0], [47.5697, -122.163, 1.0], [47.5699, -122.177, 1.0], [47.5701, -122.017, 1.0], [47.5704, -122.376, 1.0], [47.5706, -122.163, 1.0], [47.5707, -121.996, 1.0], [47.5708, -122.288, 1.0], [47.5711, -122.383, 1.0], [47.5711, -122.286, 1.0], [47.5715, -122.394, 1.0], [47.5715, -122.225, 1.0], [47.572, -122.102, 1.0], [47.5723, -122.007, 1.0], [47.5726, -122.213, 1.0], [47.5732, -122.411, 1.0], [47.5732, -122.136, 1.0], [47.5734, -122.412, 1.0], [47.5735, -122.162, 1.0], [47.5738, -122.315, 1.0], [47.574, -122.138, 1.0], [47.5741, -122.05, 1.0], [47.5745, -122.291, 1.0], [47.5747, -122.014, 1.0], [47.5748, -122.013, 1.0], [47.5749, -122.291, 1.0], [47.575, -122.288, 1.0], [47.5752, -122.304, 1.0], [47.5753, -122.017, 1.0], [47.5754, -122.12, 1.0], [47.5754, -122.071, 1.0], [47.5755, -122.388, 1.0], [47.5763, -122.408, 1.0], [47.5765, -122.154, 1.0], [47.5765, -122.147, 1.0], [47.5767, -122.41, 1.0], [47.5771, -122.151, 1.0], [47.5774, -122.285, 1.0], [47.5776, -122.289, 1.0], [47.5778, -122.289, 1.0], [47.5784, -122.076, 1.0], [47.5785, -122.293, 1.0], [47.5789, -122.286, 1.0], [47.5791, -122.001, 1.0], [47.5793, -122.294, 1.0], [47.5799, -122.4, 1.0], [47.5807, -122.291, 1.0], [47.5811, -122.389, 1.0], [47.5811, -122.028, 1.0], [47.5814, -122.029, 1.0], [47.5814, -122.003, 1.0], [47.5815, -122.402, 1.0], [47.5815, -122.121, 1.0], [47.5818, -121.996, 1.0], [47.5821, -122.401, 1.0], [47.5832, -122.29, 1.0], [47.5832, -122.026, 1.0], [47.5834, -122.29, 1.0], [47.5835, -122.313, 1.0], [47.5836, -122.387, 1.0], [47.5836, -122.074, 1.0], [47.5843, -122.385, 1.0], [47.5844, -122.316, 1.0], [47.5849, -122.198, 1.0], [47.5849, -122.17, 1.0], [47.5849, -122.051, 1.0], [47.5854, -122.292, 1.0], [47.5854, -122.08, 1.0], [47.5858, -122.379, 1.0], [47.5858, -122.247, 1.0], [47.5865, -122.135, 1.0], [47.5866, -122.175, 1.0], [47.5868, -121.968, 1.0], [47.5871, -122.173, 1.0], [47.5873, -122.202, 1.0], [47.5874, -122.136, 1.0], [47.5875, -122.382, 1.0], [47.5875, -122.134, 1.0], [47.5878, -122.312, 1.0], [47.5881, -122.113, 1.0], [47.5882, -122.01, 1.0], [47.5885, -121.939, 1.0], [47.5886, -122.287, 1.0], [47.5887, -122.291, 1.0], [47.589, -121.983, 1.0], [47.5893, -122.019, 1.0], [47.5894, -122.243, 1.0], [47.5896, -122.389, 1.0], [47.5896, -122.243, 1.0], [47.5896, -122.083, 1.0], [47.5897, -122.136, 1.0], [47.5902, -122.13, 1.0], [47.5902, -121.988, 1.0], [47.5903, -122.388, 1.0], [47.5905, -122.245, 1.0], [47.5907, -122.196, 1.0], [47.5908, -122.062, 1.0], [47.5909, -122.158, 1.0], [47.5914, -122.134, 1.0], [47.5916, -122.055, 1.0], [47.5919, -121.975, 1.0], [47.5921, -122.155, 1.0], [47.5922, -122.207, 1.0], [47.5923, -122.301, 1.0], [47.5923, -122.298, 1.0], [47.5928, -122.29, 1.0], [47.5928, -122.004, 1.0], [47.5931, -122.178, 1.0], [47.5932, -122.058, 1.0], [47.5933, -122.292, 1.0], [47.5933, -122.061, 1.0], [47.5934, -122.298, 1.0], [47.5934, -122.154, 1.0], [47.5936, -122.012, 1.0], [47.5937, -122.301, 1.0], [47.5937, -121.982, 1.0], [47.5939, -122.299, 1.0], [47.5941, -122.144, 1.0], [47.5943, -122.018, 1.0], [47.5945, -122.201, 1.0], [47.5953, -121.986, 1.0], [47.5955, -122.294, 1.0], [47.5956, -122.009, 1.0], [47.5959, -122.3, 1.0], [47.5959, -122.298, 1.0], [47.5959, -122.291, 1.0], [47.5968, -122.015, 1.0], [47.597, -121.979, 1.0], [47.5972, -122.292, 1.0], [47.5974, -122.195, 1.0], [47.5974, -122.129, 1.0], [47.5975, -122.038, 1.0], [47.5976, -122.118, 1.0], [47.5978, -122.299, 1.0], [47.5978, -122.017, 1.0], [47.5982, -122.128, 1.0], [47.5985, -122.298, 1.0], [47.5998, -122.3, 1.0], [47.6, -121.977, 1.0], [47.6005, -122.296, 1.0], [47.6005, -122.129, 1.0], [47.6007, -122.145, 1.0], [47.601, -122.134, 1.0], [47.601, -122.122, 1.0], [47.6016, -122.074, 1.0], [47.6018, -122.299, 1.0], [47.6022, -122.06, 1.0], [47.6023, -122.314, 1.0], [47.6023, -122.132, 1.0], [47.6024, -122.143, 1.0], [47.6025, -122.313, 1.0], [47.6025, -122.286, 1.0], [47.6025, -122.153, 1.0], [47.6025, -122.152, 1.0], [47.6028, -122.12, 1.0], [47.6029, -122.309, 1.0], [47.6029, -122.307, 1.0], [47.6031, -122.021, 1.0], [47.6032, -122.125, 1.0], [47.6037, -122.307, 1.0], [47.604, -122.306, 1.0], [47.6046, -122.168, 1.0], [47.605, -122.3, 1.0], [47.605, -122.112, 1.0], [47.6052, -122.126, 1.0], [47.6052, -122.044, 1.0], [47.6053, -122.306, 1.0], [47.6059, -122.307, 1.0], [47.606, -122.056, 1.0], [47.6065, -122.291, 1.0], [47.6067, -122.053, 1.0], [47.607, -122.12, 1.0], [47.6075, -122.134, 1.0], [47.6078, -122.291, 1.0], [47.6081, -122.289, 1.0], [47.6083, -122.11, 1.0], [47.6088, -122.293, 1.0], [47.6093, -122.07, 1.0], [47.6095, -122.195, 1.0], [47.6102, -122.299, 1.0], [47.6102, -122.225, 1.0], [47.6104, -122.06, 1.0], [47.6112, -122.126, 1.0], [47.6113, -122.058, 1.0], [47.6117, -122.313, 1.0], [47.6119, -122.133, 1.0], [47.6123, -122.314, 1.0], [47.6123, -122.007, 1.0], [47.6123, -122.006, 1.0], [47.6124, -122.314, 1.0], [47.6127, -122.286, 1.0], [47.6134, -122.152, 1.0], [47.6143, -122.305, 1.0], [47.6145, -122.284, 1.0], [47.6151, -122.216, 1.0], [47.6151, -122.145, 1.0], [47.6153, -122.054, 1.0], [47.6154, -122.291, 1.0], [47.6156, -122.108, 1.0], [47.6158, -122.293, 1.0], [47.6159, -122.05, 1.0], [47.6161, -122.302, 1.0], [47.6162, -122.288, 1.0], [47.6164, -122.104, 1.0], [47.6166, -122.291, 1.0], [47.6166, -122.287, 1.0], [47.6167, -122.29, 1.0], [47.617, -122.286, 1.0], [47.6173, -122.31, 1.0], [47.6175, -122.297, 1.0], [47.6176, -122.223, 1.0], [47.6178, -122.209, 1.0], [47.6179, -122.141, 1.0], [47.6181, -122.301, 1.0], [47.6184, -122.301, 1.0], [47.6186, -122.146, 1.0], [47.6187, -122.295, 1.0], [47.6187, -122.284, 1.0], [47.6187, -122.044, 1.0], [47.6188, -122.064, 1.0], [47.6191, -122.043, 1.0], [47.6192, -122.299, 1.0], [47.6193, -122.304, 1.0], [47.6194, -122.026, 1.0], [47.6196, -122.297, 1.0], [47.6198, -122.044, 1.0], [47.62, -122.3, 1.0], [47.6202, -122.112, 1.0], [47.6205, -122.3, 1.0], [47.6205, -122.299, 1.0], [47.6208, -122.141, 1.0], [47.6208, -122.093, 1.0], [47.6209, -122.237, 1.0], [47.6211, -122.016, 1.0], [47.6219, -122.015, 1.0], [47.622, -122.139, 1.0], [47.6223, -122.208, 1.0], [47.6233, -122.319, 1.0], [47.6233, -122.046, 1.0], [47.6235, -122.306, 1.0], [47.6236, -122.103, 1.0], [47.6244, -122.326, 1.0], [47.6245, -122.227, 1.0], [47.6246, -122.199, 1.0], [47.6247, -122.043, 1.0], [47.625, -122.117, 1.0], [47.6251, -122.218, 1.0], [47.6253, -122.027, 1.0], [47.6255, -122.209, 1.0], [47.6256, -122.037, 1.0], [47.6257, -122.208, 1.0], [47.6258, -122.302, 1.0], [47.6259, -122.194, 1.0], [47.6259, -122.051, 1.0], [47.6261, -122.296, 1.0], [47.6264, -122.092, 1.0], [47.627, -122.114, 1.0], [47.6271, -122.197, 1.0], [47.6288, -122.098, 1.0], [47.6294, -122.344, 1.0], [47.6294, -121.911, 1.0], [47.6295, -122.089, 1.0], [47.6298, -122.321, 1.0], [47.6298, -122.29, 1.0], [47.6301, -122.107, 1.0], [47.6304, -122.051, 1.0], [47.6304, -121.994, 1.0], [47.6304, -121.988, 1.0], [47.6307, -122.051, 1.0], [47.6309, -122.103, 1.0], [47.631, -122.303, 1.0], [47.631, -122.108, 1.0], [47.6313, -122.37, 1.0], [47.6313, -122.344, 1.0], [47.6313, -122.045, 1.0], [47.6314, -121.968, 1.0], [47.6315, -122.362, 1.0], [47.6315, -122.282, 1.0], [47.6315, -122.102, 1.0], [47.6316, -122.303, 1.0], [47.632, -122.092, 1.0], [47.6321, -122.393, 1.0], [47.6321, -122.064, 1.0], [47.6322, -122.216, 1.0], [47.6323, -121.985, 1.0], [47.6332, -122.118, 1.0], [47.6332, -122.108, 1.0], [47.6334, -122.12, 1.0], [47.6337, -122.28, 1.0], [47.6337, -122.199, 1.0], [47.6338, -122.358, 1.0], [47.6339, -122.396, 1.0], [47.6339, -122.09, 1.0], [47.6343, -122.283, 1.0], [47.6343, -121.969, 1.0], [47.6344, -122.116, 1.0], [47.6345, -122.123, 1.0], [47.6348, -122.403, 1.0], [47.6348, -122.118, 1.0], [47.6349, -122.204, 1.0], [47.6349, -122.198, 1.0], [47.6352, -122.284, 1.0], [47.6356, -122.402, 1.0], [47.6356, -122.346, 1.0], [47.6357, -122.324, 1.0], [47.636, -122.301, 1.0], [47.6361, -122.368, 1.0], [47.6361, -122.366, 1.0], [47.6362, -122.369, 1.0], [47.6362, -122.282, 1.0], [47.6363, -122.32, 1.0], [47.6363, -122.025, 1.0], [47.6364, -122.363, 1.0], [47.6364, -122.209, 1.0], [47.6365, -122.361, 1.0], [47.6366, -122.369, 1.0], [47.6368, -122.37, 1.0], [47.6368, -122.306, 1.0], [47.6369, -122.355, 1.0], [47.637, -121.969, 1.0], [47.6373, -122.35, 1.0], [47.6373, -122.064, 1.0], [47.6374, -122.288, 1.0], [47.6375, -122.354, 1.0], [47.6377, -122.219, 1.0], [47.638, -122.317, 1.0], [47.638, -122.213, 1.0], [47.6381, -122.304, 1.0], [47.6381, -122.224, 1.0], [47.6381, -122.205, 1.0], [47.6382, -122.399, 1.0], [47.6382, -122.368, 1.0], [47.6384, -122.373, 1.0], [47.6385, -122.37, 1.0], [47.6385, -122.114, 1.0], [47.6385, -121.966, 1.0], [47.6387, -122.207, 1.0], [47.6388, -122.397, 1.0], [47.6388, -122.302, 1.0], [47.6388, -122.099, 1.0], [47.639, -122.1, 1.0], [47.6391, -122.403, 1.0], [47.6391, -122.36, 1.0], [47.6392, -122.163, 1.0], [47.6394, -122.28, 1.0], [47.6395, -122.409, 1.0], [47.6395, -122.329, 1.0], [47.6395, -122.234, 1.0], [47.6396, -122.054, 1.0], [47.6397, -122.345, 1.0], [47.6398, -122.345, 1.0], [47.6398, -122.306, 1.0], [47.6398, -121.985, 1.0], [47.6399, -122.32, 1.0], [47.6401, -122.303, 1.0], [47.6402, -122.357, 1.0], [47.6404, -122.408, 1.0], [47.6405, -122.356, 1.0], [47.6408, -122.307, 1.0], [47.6409, -122.241, 1.0], [47.641, -122.349, 1.0], [47.6411, -122.371, 1.0], [47.6413, -122.346, 1.0], [47.6414, -122.329, 1.0], [47.6414, -122.327, 1.0], [47.6417, -122.411, 1.0], [47.6417, -122.325, 1.0], [47.6419, -122.368, 1.0], [47.6422, -122.36, 1.0], [47.6422, -121.954, 1.0], [47.6424, -122.411, 1.0], [47.6424, -122.374, 1.0], [47.6426, -122.18, 1.0], [47.6426, -122.158, 1.0], [47.6427, -122.397, 1.0], [47.6427, -122.304, 1.0], [47.6429, -121.955, 1.0], [47.6433, -122.403, 1.0], [47.6434, -122.412, 1.0], [47.6435, -122.373, 1.0], [47.6438, -122.373, 1.0], [47.6441, -122.385, 1.0], [47.6445, -122.374, 1.0], [47.6449, -122.389, 1.0], [47.6454, -122.218, 1.0], [47.6456, -122.387, 1.0], [47.6456, -122.19, 1.0], [47.6457, -122.058, 1.0], [47.6458, -121.904, 1.0], [47.6462, -121.904, 1.0], [47.6463, -122.151, 1.0], [47.6463, -122.121, 1.0], [47.6464, -122.405, 1.0], [47.6465, -122.358, 1.0], [47.6466, -122.321, 1.0], [47.647, -122.369, 1.0], [47.647, -122.064, 1.0], [47.6471, -122.057, 1.0], [47.6474, -122.411, 1.0], [47.6474, -122.396, 1.0], [47.6475, -122.397, 1.0], [47.6477, -122.182, 1.0], [47.648, -122.118, 1.0], [47.6484, -122.182, 1.0], [47.6486, -122.035, 1.0], [47.6489, -122.372, 1.0], [47.6489, -122.335, 1.0], [47.649, -122.383, 1.0], [47.6491, -122.367, 1.0], [47.6496, -122.403, 1.0], [47.6497, -122.393, 1.0], [47.6497, -122.336, 1.0], [47.6498, -122.346, 1.0], [47.6499, -122.216, 1.0], [47.6499, -121.915, 1.0], [47.65, -122.415, 1.0], [47.6503, -121.911, 1.0], [47.651, -122.369, 1.0], [47.6515, -122.4, 1.0], [47.6515, -122.397, 1.0], [47.6519, -122.384, 1.0], [47.652, -122.2, 1.0], [47.6524, -122.404, 1.0], [47.6526, -122.349, 1.0], [47.6528, -122.401, 1.0], [47.6529, -122.355, 1.0], [47.653, -122.331, 1.0], [47.6533, -122.346, 1.0], [47.6534, -122.355, 1.0], [47.6534, -122.346, 1.0], [47.6536, -122.414, 1.0], [47.6536, -122.354, 2.0], [47.6536, -122.203, 1.0], [47.6538, -122.393, 1.0], [47.6539, -122.352, 1.0], [47.654, -122.346, 1.0], [47.6543, -122.358, 1.0], [47.6545, -122.348, 1.0], [47.6547, -122.202, 1.0], [47.6551, -122.394, 1.0], [47.6551, -122.353, 1.0], [47.6553, -122.023, 1.0], [47.6554, -122.134, 1.0], [47.6557, -122.348, 1.0], [47.6557, -122.278, 1.0], [47.6558, -122.331, 1.0], [47.6561, -122.341, 1.0], [47.6562, -122.354, 1.0], [47.6572, -122.333, 1.0], [47.6578, -122.285, 1.0], [47.6584, -122.391, 1.0], [47.6584, -122.346, 1.0], [47.6585, -122.348, 1.0], [47.6585, -122.186, 1.0], [47.6592, -122.399, 1.0], [47.6599, -122.363, 1.0], [47.6602, -122.13, 1.0], [47.6605, -122.319, 1.0], [47.6609, -122.343, 1.0], [47.6611, -122.346, 1.0], [47.6615, -122.179, 1.0], [47.6617, -122.289, 1.0], [47.6618, -122.273, 1.0], [47.6618, -121.962, 1.0], [47.6621, -122.324, 1.0], [47.6623, -122.152, 1.0], [47.6623, -122.141, 1.0], [47.6624, -121.868, 1.0], [47.6626, -122.141, 1.0], [47.6627, -122.188, 1.0], [47.6628, -122.056, 1.0], [47.6629, -122.277, 1.0], [47.6629, -122.269, 1.0], [47.6632, -122.201, 1.0], [47.6634, -122.351, 1.0], [47.6636, -122.33, 1.0], [47.6636, -122.319, 1.0], [47.6638, -122.319, 1.0], [47.6642, -122.362, 1.0], [47.6642, -122.171, 1.0], [47.6642, -122.069, 1.0], [47.6643, -122.202, 1.0], [47.6644, -122.324, 1.0], [47.6644, -122.145, 1.0], [47.6646, -122.28, 1.0], [47.6646, -122.208, 1.0], [47.6647, -122.142, 1.0], [47.6647, -122.08, 1.0], [47.6648, -122.137, 1.0], [47.6651, -122.368, 1.0], [47.6652, -122.338, 1.0], [47.6652, -122.188, 1.0], [47.6653, -122.333, 1.0], [47.6653, -122.205, 1.0], [47.6659, -122.287, 1.0], [47.666, -122.327, 1.0], [47.666, -122.276, 1.0], [47.6672, -122.409, 1.0], [47.6674, -122.046, 1.0], [47.6679, -122.165, 1.0], [47.6681, -122.36, 1.0], [47.6681, -122.338, 1.0], [47.6681, -122.184, 1.0], [47.6685, -122.305, 1.0], [47.6688, -122.309, 1.0], [47.6688, -122.279, 1.0], [47.669, -122.172, 1.0], [47.6692, -122.297, 1.0], [47.6692, -122.028, 1.0], [47.6693, -122.291, 1.0], [47.6693, -122.289, 1.0], [47.6695, -122.36, 1.0], [47.6695, -122.32, 1.0], [47.6697, -122.281, 1.0], [47.6703, -122.15, 1.0], [47.6705, -122.39, 1.0], [47.6706, -122.265, 1.0], [47.6711, -122.398, 1.0], [47.6711, -122.329, 1.0], [47.6711, -122.328, 1.0], [47.6714, -122.28, 1.0], [47.6715, -122.162, 1.0], [47.6717, -122.025, 1.0], [47.6718, -122.291, 1.0], [47.6719, -122.163, 1.0], [47.6721, -122.395, 1.0], [47.6721, -122.152, 1.0], [47.6724, -122.013, 1.0], [47.6725, -122.327, 1.0], [47.6725, -122.272, 1.0], [47.6727, -122.397, 1.0], [47.6727, -122.32, 1.0], [47.6731, -122.327, 1.0], [47.6733, -122.301, 1.0], [47.6734, -122.176, 1.0], [47.6735, -122.375, 1.0], [47.6736, -122.323, 1.0], [47.674, -122.319, 1.0], [47.6742, -122.303, 1.0], [47.6743, -122.313, 1.0], [47.6743, -122.308, 1.0], [47.6743, -122.184, 1.0], [47.6743, -122.145, 1.0], [47.6743, -122.142, 1.0], [47.6744, -122.374, 1.0], [47.6744, -122.369, 1.0], [47.6746, -122.312, 1.0], [47.6747, -122.295, 1.0], [47.6748, -122.386, 1.0], [47.6748, -122.377, 1.0], [47.6748, -122.279, 1.0], [47.6753, -122.363, 1.0], [47.6754, -122.359, 1.0], [47.6756, -122.401, 1.0], [47.6756, -122.308, 1.0], [47.6756, -122.306, 1.0], [47.6757, -122.362, 1.0], [47.676, -121.882, 1.0], [47.6762, -122.378, 1.0], [47.6762, -122.36, 1.0], [47.6762, -122.288, 1.0], [47.6763, -122.282, 1.0], [47.6763, -122.267, 1.0], [47.6764, -122.301, 1.0], [47.6765, -122.389, 1.0], [47.6765, -122.386, 1.0], [47.6766, -122.368, 1.0], [47.6768, -122.39, 1.0], [47.6769, -122.371, 1.0], [47.6773, -122.403, 1.0], [47.6774, -122.361, 1.0], [47.6774, -122.164, 1.0], [47.6775, -122.388, 1.0], [47.6775, -122.18, 1.0], [47.6776, -122.318, 1.0], [47.6778, -122.389, 1.0], [47.6779, -122.384, 1.0], [47.6782, -122.3, 1.0], [47.6783, -122.366, 1.0], [47.6783, -122.363, 1.0], [47.6786, -122.36, 1.0], [47.6786, -122.151, 1.0], [47.6788, -122.346, 1.0], [47.6788, -122.162, 1.0], [47.6789, -122.397, 1.0], [47.6789, -122.116, 1.0], [47.679, -122.386, 1.0], [47.679, -122.368, 1.0], [47.679, -122.315, 1.0], [47.679, -122.153, 1.0], [47.6791, -122.402, 1.0], [47.6793, -122.393, 1.0], [47.6793, -122.319, 1.0], [47.6794, -122.37, 1.0], [47.6795, -122.371, 1.0], [47.6796, -122.279, 1.0], [47.6798, -122.385, 1.0], [47.6798, -122.352, 1.0], [47.6799, -122.024, 1.0], [47.6806, -122.287, 1.0], [47.6806, -122.166, 1.0], [47.6807, -122.369, 1.0], [47.6809, -122.293, 1.0], [47.6811, -122.288, 1.0], [47.6811, -122.283, 1.0], [47.6811, -122.025, 1.0], [47.6811, -121.915, 1.0], [47.6817, -122.36, 1.0], [47.6817, -122.035, 1.0], [47.6818, -122.311, 1.0], [47.6818, -122.165, 1.0], [47.6818, -122.023, 1.0], [47.682, -122.349, 1.0], [47.682, -122.347, 1.0], [47.6821, -122.38, 1.0], [47.6822, -122.326, 1.0], [47.6825, -122.391, 1.0], [47.6825, -122.097, 1.0], [47.6827, -122.324, 1.0], [47.6827, -122.059, 1.0], [47.6828, -122.186, 1.0], [47.6829, -122.097, 1.0], [47.6831, -122.096, 1.0], [47.6833, -122.4, 1.0], [47.6833, -122.312, 1.0], [47.6834, -122.292, 1.0], [47.6837, -122.284, 1.0], [47.6838, -122.332, 1.0], [47.684, -122.205, 1.0], [47.6842, -122.196, 1.0], [47.6842, -122.155, 1.0], [47.6842, -122.04, 1.0], [47.6846, -122.366, 1.0], [47.6846, -122.349, 1.0], [47.6846, -122.346, 1.0], [47.6847, -122.372, 1.0], [47.6848, -122.016, 1.0], [47.6851, -122.322, 1.0], [47.6851, -122.209, 1.0], [47.6853, -122.359, 1.0], [47.6854, -122.048, 1.0], [47.6855, -122.321, 1.0], [47.6855, -122.291, 1.0], [47.6856, -122.013, 1.0], [47.6857, -122.334, 1.0], [47.6859, -122.109, 1.0], [47.6862, -122.31, 1.0], [47.6864, -122.352, 1.0], [47.6865, -122.399, 1.0], [47.6865, -122.397, 1.0], [47.6866, -122.317, 1.0], [47.6867, -122.354, 1.0], [47.6869, -122.317, 1.0], [47.687, -122.386, 1.0], [47.687, -122.047, 1.0], [47.6871, -122.373, 1.0], [47.6872, -122.036, 1.0], [47.6875, -122.339, 1.0], [47.6875, -122.202, 1.0], [47.6876, -122.368, 1.0], [47.6877, -122.395, 1.0], [47.6878, -122.162, 1.0], [47.6882, -122.306, 1.0], [47.6883, -122.168, 1.0], [47.6886, -122.364, 1.0], [47.6887, -122.368, 1.0], [47.6887, -122.312, 1.0], [47.6887, -122.307, 1.0], [47.6887, -122.124, 1.0], [47.6888, -122.199, 1.0], [47.6889, -122.301, 1.0], [47.6889, -122.128, 1.0], [47.689, -122.396, 1.0], [47.6892, -122.3, 1.0], [47.6892, -122.048, 1.0], [47.6895, -122.331, 1.0], [47.6895, -122.207, 1.0], [47.6896, -122.357, 1.0], [47.6896, -122.307, 1.0], [47.6897, -122.175, 1.0], [47.6897, -122.098, 1.0], [47.6901, -122.357, 1.0], [47.6901, -122.282, 1.0], [47.6903, -122.213, 1.0], [47.6904, -122.347, 1.0], [47.6908, -122.051, 1.0], [47.691, -122.387, 1.0], [47.691, -122.129, 1.0], [47.6912, -122.334, 1.0], [47.6913, -122.393, 1.0], [47.6914, -122.372, 1.0], [47.6914, -122.308, 1.0], [47.6914, -122.103, 2.0], [47.6915, -122.177, 1.0], [47.6916, -121.916, 1.0], [47.6917, -122.02, 1.0], [47.6918, -122.361, 1.0], [47.6918, -122.32, 1.0], [47.6923, -121.869, 1.0], [47.6926, -122.186, 1.0], [47.6927, -122.206, 1.0], [47.693, -122.168, 1.0], [47.6931, -122.33, 1.0], [47.6933, -122.116, 1.0], [47.6934, -122.184, 1.0], [47.6935, -122.341, 1.0], [47.6935, -122.28, 1.0], [47.6936, -122.19, 1.0], [47.6937, -122.127, 1.0], [47.6938, -122.213, 1.0], [47.6939, -122.126, 1.0], [47.6941, -122.173, 1.0], [47.6945, -122.38, 1.0], [47.6946, -122.362, 1.0], [47.6947, -122.342, 1.0], [47.6948, -122.322, 1.0], [47.695, -122.399, 1.0], [47.6951, -122.343, 1.0], [47.6951, -122.319, 1.0], [47.6951, -122.316, 1.0], [47.6952, -122.133, 1.0], [47.6953, -122.362, 1.0], [47.6954, -122.292, 1.0], [47.6955, -122.183, 1.0], [47.6959, -122.125, 1.0], [47.6961, -122.318, 1.0], [47.6962, -122.397, 1.0], [47.6962, -122.349, 1.0], [47.6962, -122.314, 1.0], [47.6964, -122.4, 1.0], [47.6964, -122.362, 1.0], [47.6965, -122.35, 1.0], [47.6966, -122.324, 1.0], [47.6967, -122.354, 1.0], [47.6971, -122.341, 1.0], [47.6972, -122.104, 1.0], [47.6973, -122.295, 1.0], [47.6979, -122.13, 1.0], [47.698, -122.349, 1.0], [47.6981, -122.4, 1.0], [47.6981, -122.099, 1.0], [47.6982, -122.231, 1.0], [47.6985, -122.364, 1.0], [47.6985, -122.348, 1.0], [47.6986, -122.286, 1.0], [47.6988, -122.319, 1.0], [47.6991, -122.13, 1.0], [47.6993, -122.346, 1.0], [47.6996, -122.233, 1.0], [47.6997, -122.319, 1.0], [47.7001, -122.279, 1.0], [47.7002, -122.314, 1.0], [47.7003, -122.165, 1.0], [47.7006, -122.339, 1.0], [47.7008, -122.352, 1.0], [47.7008, -122.338, 1.0], [47.7009, -122.059, 1.0], [47.701, -122.39, 1.0], [47.7015, -122.316, 1.0], [47.7015, -122.164, 1.0], [47.7018, -122.381, 1.0], [47.7023, -122.388, 1.0], [47.7027, -122.346, 1.0], [47.7029, -122.297, 1.0], [47.7031, -122.349, 1.0], [47.7034, -122.188, 1.0], [47.7035, -122.164, 1.0], [47.7039, -122.344, 1.0], [47.704, -122.367, 1.0], [47.704, -122.012, 1.0], [47.7044, -122.372, 1.0], [47.7046, -122.316, 1.0], [47.7046, -122.123, 1.0], [47.7048, -122.279, 1.0], [47.7048, -122.109, 1.0], [47.7049, -122.34, 1.0], [47.705, -122.202, 1.0], [47.7053, -122.126, 1.0], [47.7055, -122.342, 1.0], [47.7056, -122.162, 1.0], [47.7057, -122.36, 1.0], [47.7058, -122.379, 1.0], [47.7061, -122.368, 1.0], [47.7067, -122.352, 1.0], [47.7067, -122.131, 1.0], [47.7069, -122.131, 1.0], [47.7069, -122.117, 1.0], [47.707, -122.316, 1.0], [47.7072, -122.164, 1.0], [47.7072, -121.983, 1.0], [47.7074, -122.101, 1.0], [47.7076, -122.115, 1.0], [47.7077, -122.12, 1.0], [47.7078, -122.288, 1.0], [47.7081, -122.116, 1.0], [47.7082, -122.015, 1.0], [47.7083, -122.073, 1.0], [47.7094, -122.018, 1.0], [47.7095, -122.35, 1.0], [47.7096, -122.219, 1.0], [47.7103, -122.108, 1.0], [47.7104, -122.235, 1.0], [47.7106, -122.03, 1.0], [47.7107, -122.229, 1.0], [47.7107, -122.11, 1.0], [47.711, -122.32, 1.0], [47.7111, -122.239, 1.0], [47.7113, -122.349, 1.0], [47.7114, -122.301, 1.0], [47.7116, -122.214, 1.0], [47.712, -122.281, 1.0], [47.7121, -122.214, 1.0], [47.7121, -122.072, 1.0], [47.7124, -122.253, 1.0], [47.7125, -122.33, 1.0], [47.713, -122.072, 1.0], [47.7132, -122.334, 1.0], [47.7132, -122.321, 1.0], [47.7133, -122.367, 1.0], [47.7133, -122.311, 1.0], [47.7133, -122.212, 1.0], [47.7134, -122.237, 1.0], [47.7142, -122.319, 1.0], [47.7144, -122.293, 1.0], [47.7146, -122.311, 1.0], [47.7147, -122.373, 1.0], [47.7148, -122.213, 1.0], [47.7151, -122.227, 1.0], [47.7154, -122.341, 1.0], [47.7159, -122.165, 1.0], [47.7162, -122.349, 1.0], [47.7164, -122.304, 1.0], [47.7165, -122.319, 1.0], [47.7167, -122.17, 1.0], [47.7168, -122.196, 1.0], [47.7169, -122.329, 1.0], [47.7172, -122.34, 1.0], [47.7173, -122.33, 1.0], [47.7176, -122.302, 1.0], [47.7176, -122.284, 1.0], [47.718, -122.242, 1.0], [47.7181, -122.089, 1.0], [47.7183, -122.353, 1.0], [47.7189, -122.225, 1.0], [47.719, -122.317, 1.0], [47.719, -121.912, 1.0], [47.7191, -122.309, 2.0], [47.7193, -122.024, 1.0], [47.7195, -122.371, 1.0], [47.7198, -122.171, 1.0], [47.7201, -122.062, 1.0], [47.7205, -122.168, 1.0], [47.7209, -122.331, 1.0], [47.7209, -122.256, 1.0], [47.7213, -122.365, 1.0], [47.7214, -122.285, 1.0], [47.7214, -122.166, 1.0], [47.7215, -122.323, 1.0], [47.7221, -122.124, 1.0], [47.7224, -122.358, 1.0], [47.7229, -122.359, 1.0], [47.7231, -122.17, 1.0], [47.7234, -122.066, 1.0], [47.7235, -122.352, 1.0], [47.7238, -122.114, 1.0], [47.7239, -122.092, 1.0], [47.724, -122.323, 1.0], [47.7241, -121.957, 1.0], [47.7244, -122.326, 1.0], [47.7245, -122.163, 1.0], [47.7246, -122.284, 1.0], [47.7247, -122.181, 1.0], [47.7248, -122.359, 1.0], [47.7252, -122.331, 1.0], [47.7254, -122.29, 1.0], [47.7254, -122.227, 1.0], [47.7256, -122.259, 1.0], [47.726, -122.296, 1.0], [47.7262, -122.282, 1.0], [47.7263, -122.3, 1.0], [47.7264, -122.307, 1.0], [47.7264, -122.104, 1.0], [47.7267, -122.226, 1.0], [47.7268, -122.229, 1.0], [47.7274, -122.305, 1.0], [47.7278, -122.287, 1.0], [47.7278, -122.226, 1.0], [47.7279, -122.227, 1.0], [47.7281, -122.299, 1.0], [47.7281, -122.232, 1.0], [47.7282, -122.372, 1.0], [47.7293, -122.099, 1.0], [47.7297, -122.326, 1.0], [47.73, -122.191, 1.0], [47.7303, -122.329, 1.0], [47.7306, -122.233, 1.0], [47.7308, -122.194, 1.0], [47.7308, -122.18, 1.0], [47.731, -122.341, 1.0], [47.731, -122.301, 1.0], [47.731, -122.078, 1.0], [47.7314, -122.3, 1.0], [47.7317, -122.201, 1.0], [47.7318, -121.982, 1.0], [47.7321, -122.334, 1.0], [47.7326, -122.36, 1.0], [47.7326, -122.307, 1.0], [47.7328, -122.34, 1.0], [47.7329, -122.356, 1.0], [47.7329, -121.92, 1.0], [47.733, -121.968, 1.0], [47.7331, -122.299, 1.0], [47.7333, -122.128, 1.0], [47.7336, -122.339, 1.0], [47.7336, -121.965, 1.0], [47.7337, -122.343, 1.0], [47.7337, -122.309, 1.0], [47.7341, -122.2, 1.0], [47.7341, -122.102, 1.0], [47.7343, -122.193, 1.0], [47.7346, -122.244, 1.0], [47.7348, -122.347, 1.0], [47.7349, -122.295, 1.0], [47.7351, -122.199, 1.0], [47.7351, -122.178, 1.0], [47.7352, -122.33, 1.0], [47.7352, -122.116, 1.0], [47.7353, -121.962, 1.0], [47.7354, -122.343, 1.0], [47.7358, -122.319, 1.0], [47.7361, -122.234, 1.0], [47.7361, -122.046, 1.0], [47.7362, -122.319, 1.0], [47.7368, -122.337, 1.0], [47.737, -121.955, 1.0], [47.7372, -122.307, 1.0], [47.7375, -122.139, 1.0], [47.7376, -122.102, 1.0], [47.7379, -122.052, 1.0], [47.738, -121.965, 1.0], [47.7381, -122.223, 1.0], [47.7381, -122.179, 1.0], [47.7382, -122.264, 1.0], [47.7385, -122.348, 1.0], [47.7385, -122.25, 1.0], [47.7385, -122.169, 1.0], [47.7389, -122.221, 1.0], [47.739, -122.264, 1.0], [47.739, -122.249, 1.0], [47.739, -122.203, 1.0], [47.739, -122.194, 1.0], [47.739, -122.048, 1.0], [47.7392, -122.194, 1.0], [47.7394, -122.288, 1.0], [47.7394, -122.252, 1.0], [47.7397, -122.126, 1.0], [47.7401, -122.249, 1.0], [47.7402, -122.323, 1.0], [47.7405, -122.095, 1.0], [47.7407, -122.327, 1.0], [47.7408, -122.101, 1.0], [47.7409, -122.052, 1.0], [47.741, -121.979, 1.0], [47.7417, -122.172, 2.0], [47.7418, -122.244, 1.0], [47.742, -122.035, 1.0], [47.7422, -122.257, 1.0], [47.7428, -122.244, 1.0], [47.7431, -122.319, 1.0], [47.7432, -122.248, 1.0], [47.7439, -122.262, 1.0], [47.744, -122.087, 1.0], [47.7443, -122.26, 1.0], [47.7444, -122.321, 1.0], [47.7447, -122.328, 1.0], [47.7454, -121.977, 1.0], [47.7457, -122.332, 1.0], [47.746, -122.296, 1.0], [47.746, -122.231, 1.0], [47.7461, -122.332, 1.0], [47.7462, -122.29, 1.0], [47.7462, -122.172, 1.0], [47.7464, -122.317, 1.0], [47.7466, -122.077, 1.0], [47.7467, -122.319, 1.0], [47.7477, -122.171, 1.0], [47.7484, -122.317, 1.0], [47.7489, -122.185, 1.0], [47.749, -122.305, 1.0], [47.7493, -122.351, 1.0], [47.7497, -122.284, 1.0], [47.7505, -122.317, 1.0], [47.7506, -122.122, 1.0], [47.7508, -122.339, 1.0], [47.7508, -122.322, 1.0], [47.751, -122.338, 1.0], [47.7511, -122.17, 1.0], [47.7512, -122.329, 1.0], [47.7513, -122.349, 1.0], [47.7513, -122.334, 1.0], [47.752, -122.35, 1.0], [47.7524, -122.323, 1.0], [47.7526, -122.244, 1.0], [47.7527, -122.306, 1.0], [47.7539, -122.219, 1.0], [47.754, -122.144, 1.0], [47.7542, -122.307, 1.0], [47.7548, -122.317, 1.0], [47.7562, -122.318, 1.0], [47.7562, -122.145, 1.0], [47.7566, -122.337, 1.0], [47.7566, -122.073, 1.0], [47.7567, -122.333, 1.0], [47.7573, -122.217, 1.0], [47.7574, -122.279, 1.0], [47.7575, -122.364, 1.0], [47.7576, -122.318, 1.0], [47.758, -122.071, 1.0], [47.759, -122.269, 1.0], [47.7595, -122.309, 1.0], [47.7596, -122.269, 1.0], [47.7598, -122.372, 1.0], [47.7598, -122.255, 1.0], [47.76, -122.349, 1.0], [47.7602, -122.363, 1.0], [47.761, -122.214, 1.0], [47.7611, -122.233, 1.0], [47.7612, -122.344, 1.0], [47.7614, -122.026, 1.0], [47.7614, -122.015, 1.0], [47.7622, -122.163, 1.0], [47.7629, -122.318, 1.0], [47.763, -122.342, 1.0], [47.7635, -122.377, 1.0], [47.7635, -122.335, 1.0], [47.7637, -122.281, 1.0], [47.7638, -122.317, 1.0], [47.764, -122.36, 1.0], [47.764, -122.167, 1.0], [47.7648, -122.355, 1.0], [47.7649, -122.098, 1.0], [47.7651, -122.246, 1.0], [47.7658, -122.37, 1.0], [47.7659, -122.341, 1.0], [47.7663, -122.215, 1.0], [47.7666, -122.128, 1.0], [47.7669, -122.268, 1.0], [47.7671, -122.225, 1.0], [47.7673, -122.202, 1.0], [47.7674, -122.31, 1.0], [47.7675, -122.315, 1.0], [47.768, -122.259, 1.0], [47.7681, -122.311, 1.0], [47.7684, -122.304, 1.0], [47.7687, -122.223, 1.0], [47.7687, -122.166, 1.0], [47.7687, -122.036, 1.0], [47.7689, -122.241, 1.0], [47.7695, -122.359, 1.0], [47.77, -122.39, 1.0], [47.77, -122.236, 1.0], [47.7712, -122.323, 1.0], [47.7717, -122.277, 1.0], [47.7718, -122.208, 1.0], [47.7719, -122.309, 1.0], [47.7721, -122.367, 1.0], [47.7722, -122.315, 1.0], [47.7725, -121.899, 1.0], [47.7726, -122.139, 1.0], [47.7728, -122.253, 1.0], [47.773, -122.349, 1.0], [47.773, -122.265, 1.0], [47.773, -122.16, 1.0], [47.7732, -122.382, 1.0], [47.7732, -122.172, 1.0], [47.7734, -122.315, 1.0], [47.7741, -122.379, 1.0], [47.7741, -122.203, 1.0], [47.7743, -122.235, 1.0], [47.7744, -122.225, 1.0], [47.7746, -122.378, 1.0], [47.7751, -122.38, 1.0], [47.7751, -122.32, 1.0], [47.7757, -122.139, 1.0], [47.776, -122.26, 1.0], [47.7762, -122.337, 1.0], [47.7767, -122.369, 1.0]],\n",
       "                {&quot;blur&quot;: 15, &quot;maxZoom&quot;: 13, &quot;minOpacity&quot;: 0.5, &quot;radius&quot;: 8}\n",
       "            ).addTo(map_e627c0022c187d987d239be1b4e9942c);\n",
       "        \n",
       "    \n",
       "            var layer_control_64a0ff923b94e4fc1d960b4dfd6dc5ad = {\n",
       "                base_layers : {\n",
       "                    &quot;openstreetmap&quot; : tile_layer_5de782b6ec9eb23f40da82c06a10c56e,\n",
       "                    &quot;cartodbpositron&quot; : tile_layer_7d9a5afedc03f5865b64942b7dc9228f,\n",
       "                },\n",
       "                overlays :  {\n",
       "                    &quot;icon&quot; : feature_group_37eb5bd7b56564a8c6dd4852e80903eb,\n",
       "                    &quot;Heat Map&quot; : heat_map_9dff454accea9ecae0fbffa8a1d775e8,\n",
       "                },\n",
       "            };\n",
       "            L.control.layers(\n",
       "                layer_control_64a0ff923b94e4fc1d960b4dfd6dc5ad.base_layers,\n",
       "                layer_control_64a0ff923b94e4fc1d960b4dfd6dc5ad.overlays,\n",
       "                {&quot;autoZIndex&quot;: true, &quot;collapsed&quot;: false, &quot;position&quot;: &quot;topright&quot;}\n",
       "            ).addTo(map_e627c0022c187d987d239be1b4e9942c);\n",
       "            tile_layer_7d9a5afedc03f5865b64942b7dc9228f.remove();\n",
       "        \n",
       "&lt;\/script&gt;\n",
       "&lt;\/html&gt;\" style=\"position:absolute;width:100%;height:100%;left:0;top:0;border:none !important;\" allowfullscreen webkitallowfullscreen mozallowfullscreen><\/iframe><\/div><\/div>"
      ]
     },
     "metadata":{
      
     },
     "output_type":"display_data"
    }
   ],
   "metadata":{
    "datalore":{
     "node_id":"kUgVqsT5z4UgWoomOlTIMN",
     "type":"CODE",
     "hide_input_from_viewers":true,
     "hide_output_from_viewers":true
    }
   }
  },
  {
   "cell_type":"code",
   "source":[
    "kc_houses=pd.get_dummies(data,columns=['waterfront','view','condition','grade','zipcode'],\n",
    "drop_first=True)"
   ],
   "execution_count":28,
   "outputs":[
    
   ],
   "metadata":{
    "datalore":{
     "node_id":"3B6SW11qvBkGybmfcS9X64",
     "type":"CODE",
     "hide_input_from_viewers":true,
     "hide_output_from_viewers":true
    }
   }
  },
  {
   "cell_type":"code",
   "source":[
    "y=data['price']\n",
    "kc_houses=kc_houses.drop([ 'date','id','price'],axis=1)"
   ],
   "execution_count":29,
   "outputs":[
    
   ],
   "metadata":{
    "datalore":{
     "node_id":"HXUGI7Y1Bq62lPQgyYCFzY",
     "type":"CODE",
     "hide_input_from_viewers":true,
     "hide_output_from_viewers":true
    }
   }
  },
  {
   "cell_type":"markdown",
   "source":[
    "Perform train, test split. Put the **last three digits** of your index number as the random_state"
   ],
   "attachments":{
    
   },
   "metadata":{
    "datalore":{
     "node_id":"aouT2Xoa9sIh67Ht962oIk",
     "type":"MD",
     "hide_input_from_viewers":true,
     "hide_output_from_viewers":true
    }
   }
  },
  {
   "cell_type":"code",
   "source":[
    "x_train,x_test,y_train,y_test=train_test_split(kc_houses,y,train_size=0.8,\n",
    "random_state=911)"
   ],
   "execution_count":30,
   "outputs":[
    
   ],
   "metadata":{
    "datalore":{
     "node_id":"3fRN5PEefq4tqP3yW0T5xz",
     "type":"CODE",
     "hide_input_from_viewers":true,
     "hide_output_from_viewers":true
    }
   }
  }
 ],
 "metadata":{
  "kernelspec":{
   "display_name":"Python",
   "language":"python",
   "name":"python"
  },
  "datalore":{
   "computation_mode":"JUPYTER",
   "package_manager":"pip",
   "base_environment":"default",
   "packages":[
    
   ],
   "report_row_ids":[
    "OSLQvvJ3FL1Ppx9t8879cY"
   ],
   "version":2
  }
 },
 "nbformat":4,
 "nbformat_minor":4
}