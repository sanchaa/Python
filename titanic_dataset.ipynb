{
 "cells":[
  {
   "cell_type":"markdown",
   "source":[
    "# **Titanic: Data Analysis**"
   ],
   "attachments":{
    
   },
   "metadata":{
    "datalore":{
     "node_id":"avmekHPi6NvrzeoOOiYqBj",
     "type":"MD",
     "hide_input_from_viewers":false,
     "hide_output_from_viewers":false,
     "report_properties":{
      "rowId":"0FLv1T5mfPhnM9D6cRKPMM"
     }
    }
   }
  },
  {
   "cell_type":"code",
   "source":[
    "# import & load necessary libraries\n",
    "import pandas as pd \n",
    "import numpy as np \n",
    "import matplotlib.pyplot as plt\n",
    "%matplotlib inline"
   ],
   "execution_count":1,
   "outputs":[
    
   ],
   "metadata":{
    "datalore":{
     "node_id":"sycQ7Ms21je51mh9FIc3Av",
     "type":"CODE",
     "hide_input_from_viewers":false,
     "hide_output_from_viewers":false,
     "report_properties":{
      "rowId":"0FLv1T5mfPhnM9D6cRKPMM"
     }
    }
   }
  },
  {
   "cell_type":"code",
   "source":[
    "#load dataset into dataframe\n",
    "\n",
    "data = pd.read_csv(\"\/data\/notebook_files\/adult.csv\")"
   ],
   "execution_count":2,
   "outputs":[
    
   ],
   "metadata":{
    "datalore":{
     "node_id":"ij9fPpoPc7JHFiNGOhhhwp",
     "type":"CODE",
     "hide_input_from_viewers":false,
     "hide_output_from_viewers":false,
     "report_properties":{
      "rowId":"0FLv1T5mfPhnM9D6cRKPMM"
     }
    }
   }
  },
  {
   "cell_type":"markdown",
   "source":[
    "Observation 1: the 'adult.data.csv' file is located in the Downloads folder. For the data to be read I suspected that the command should've looked like: C:\\Users\\2039911\\Downloads\/adult.data.csv', but instead the code only runs with extra slash. this filepath format is incorrect but for some reason it works for my data."
   ],
   "attachments":{
    
   },
   "metadata":{
    "datalore":{
     "node_id":"h0oqXpWYdReC5eoZEhZv3o",
     "type":"MD",
     "hide_input_from_viewers":false,
     "hide_output_from_viewers":false,
     "report_properties":{
      "rowId":"0FLv1T5mfPhnM9D6cRKPMM"
     }
    }
   }
  },
  {
   "cell_type":"code",
   "source":[
    "pd.read_table('adult.csv',delimiter=',')"
   ],
   "execution_count":3,
   "outputs":[
    {
     "data":{
      "text\/html":[
       "<div>\n",
       "<style scoped>\n",
       "    .dataframe tbody tr th:only-of-type {\n",
       "        vertical-align: middle;\n",
       "    }\n",
       "\n",
       "    .dataframe tbody tr th {\n",
       "        vertical-align: top;\n",
       "    }\n",
       "\n",
       "    .dataframe thead th {\n",
       "        text-align: right;\n",
       "    }\n",
       "<\/style>\n",
       "<table border=\"1\" class=\"dataframe\">\n",
       "  <thead>\n",
       "    <tr style=\"text-align: right;\">\n",
       "      <th><\/th>\n",
       "      <th>age<\/th>\n",
       "      <th>workclass<\/th>\n",
       "      <th>fnlwgt:co<\/th>\n",
       "      <th>education<\/th>\n",
       "      <th>edu-num<\/th>\n",
       "      <th>Marital-St<\/th>\n",
       "      <th>occupation<\/th>\n",
       "      <th>relations<\/th>\n",
       "      <th>race<\/th>\n",
       "      <th>sex<\/th>\n",
       "      <th>cap-gain<\/th>\n",
       "      <th>capital-loss<\/th>\n",
       "      <th>hrs per wk<\/th>\n",
       "      <th>Nat count<\/th>\n",
       "      <th>class Label<\/th>\n",
       "    <\/tr>\n",
       "  <\/thead>\n",
       "  <tbody>\n",
       "    <tr>\n",
       "      <th>0<\/th>\n",
       "      <td>39<\/td>\n",
       "      <td>State-gov<\/td>\n",
       "      <td>77516<\/td>\n",
       "      <td>Bachelors<\/td>\n",
       "      <td>13<\/td>\n",
       "      <td>Never-married<\/td>\n",
       "      <td>Adm-clerical<\/td>\n",
       "      <td>Not-in-family<\/td>\n",
       "      <td>White<\/td>\n",
       "      <td>Male<\/td>\n",
       "      <td>2174<\/td>\n",
       "      <td>0<\/td>\n",
       "      <td>40<\/td>\n",
       "      <td>United-States<\/td>\n",
       "      <td>&lt;=50K<\/td>\n",
       "    <\/tr>\n",
       "    <tr>\n",
       "      <th>1<\/th>\n",
       "      <td>50<\/td>\n",
       "      <td>Self-emp-not-inc<\/td>\n",
       "      <td>83311<\/td>\n",
       "      <td>Bachelors<\/td>\n",
       "      <td>13<\/td>\n",
       "      <td>Married-civ-spouse<\/td>\n",
       "      <td>Exec-managerial<\/td>\n",
       "      <td>Husband<\/td>\n",
       "      <td>White<\/td>\n",
       "      <td>Male<\/td>\n",
       "      <td>0<\/td>\n",
       "      <td>0<\/td>\n",
       "      <td>13<\/td>\n",
       "      <td>United-States<\/td>\n",
       "      <td>&lt;=50K<\/td>\n",
       "    <\/tr>\n",
       "    <tr>\n",
       "      <th>2<\/th>\n",
       "      <td>38<\/td>\n",
       "      <td>Private<\/td>\n",
       "      <td>215646<\/td>\n",
       "      <td>HS-grad<\/td>\n",
       "      <td>9<\/td>\n",
       "      <td>Divorced<\/td>\n",
       "      <td>Handlers-cleaners<\/td>\n",
       "      <td>Not-in-family<\/td>\n",
       "      <td>White<\/td>\n",
       "      <td>Male<\/td>\n",
       "      <td>0<\/td>\n",
       "      <td>0<\/td>\n",
       "      <td>40<\/td>\n",
       "      <td>United-States<\/td>\n",
       "      <td>&lt;=50K<\/td>\n",
       "    <\/tr>\n",
       "    <tr>\n",
       "      <th>3<\/th>\n",
       "      <td>53<\/td>\n",
       "      <td>Private<\/td>\n",
       "      <td>234721<\/td>\n",
       "      <td>11th<\/td>\n",
       "      <td>7<\/td>\n",
       "      <td>Married-civ-spouse<\/td>\n",
       "      <td>Handlers-cleaners<\/td>\n",
       "      <td>Husband<\/td>\n",
       "      <td>Black<\/td>\n",
       "      <td>Male<\/td>\n",
       "      <td>0<\/td>\n",
       "      <td>0<\/td>\n",
       "      <td>40<\/td>\n",
       "      <td>United-States<\/td>\n",
       "      <td>&lt;=50K<\/td>\n",
       "    <\/tr>\n",
       "    <tr>\n",
       "      <th>4<\/th>\n",
       "      <td>28<\/td>\n",
       "      <td>Private<\/td>\n",
       "      <td>338409<\/td>\n",
       "      <td>Bachelors<\/td>\n",
       "      <td>13<\/td>\n",
       "      <td>Married-civ-spouse<\/td>\n",
       "      <td>Prof-specialty<\/td>\n",
       "      <td>Wife<\/td>\n",
       "      <td>Black<\/td>\n",
       "      <td>Female<\/td>\n",
       "      <td>0<\/td>\n",
       "      <td>0<\/td>\n",
       "      <td>40<\/td>\n",
       "      <td>Cuba<\/td>\n",
       "      <td>&lt;=50K<\/td>\n",
       "    <\/tr>\n",
       "    <tr>\n",
       "      <th>...<\/th>\n",
       "      <td>...<\/td>\n",
       "      <td>...<\/td>\n",
       "      <td>...<\/td>\n",
       "      <td>...<\/td>\n",
       "      <td>...<\/td>\n",
       "      <td>...<\/td>\n",
       "      <td>...<\/td>\n",
       "      <td>...<\/td>\n",
       "      <td>...<\/td>\n",
       "      <td>...<\/td>\n",
       "      <td>...<\/td>\n",
       "      <td>...<\/td>\n",
       "      <td>...<\/td>\n",
       "      <td>...<\/td>\n",
       "      <td>...<\/td>\n",
       "    <\/tr>\n",
       "    <tr>\n",
       "      <th>32556<\/th>\n",
       "      <td>27<\/td>\n",
       "      <td>Private<\/td>\n",
       "      <td>257302<\/td>\n",
       "      <td>Assoc-acdm<\/td>\n",
       "      <td>12<\/td>\n",
       "      <td>Married-civ-spouse<\/td>\n",
       "      <td>Tech-support<\/td>\n",
       "      <td>Wife<\/td>\n",
       "      <td>White<\/td>\n",
       "      <td>Female<\/td>\n",
       "      <td>0<\/td>\n",
       "      <td>0<\/td>\n",
       "      <td>38<\/td>\n",
       "      <td>United-States<\/td>\n",
       "      <td>&lt;=50K<\/td>\n",
       "    <\/tr>\n",
       "    <tr>\n",
       "      <th>32557<\/th>\n",
       "      <td>40<\/td>\n",
       "      <td>Private<\/td>\n",
       "      <td>154374<\/td>\n",
       "      <td>HS-grad<\/td>\n",
       "      <td>9<\/td>\n",
       "      <td>Married-civ-spouse<\/td>\n",
       "      <td>Machine-op-inspct<\/td>\n",
       "      <td>Husband<\/td>\n",
       "      <td>White<\/td>\n",
       "      <td>Male<\/td>\n",
       "      <td>0<\/td>\n",
       "      <td>0<\/td>\n",
       "      <td>40<\/td>\n",
       "      <td>United-States<\/td>\n",
       "      <td>&gt;50K<\/td>\n",
       "    <\/tr>\n",
       "    <tr>\n",
       "      <th>32558<\/th>\n",
       "      <td>58<\/td>\n",
       "      <td>Private<\/td>\n",
       "      <td>151910<\/td>\n",
       "      <td>HS-grad<\/td>\n",
       "      <td>9<\/td>\n",
       "      <td>Widowed<\/td>\n",
       "      <td>Adm-clerical<\/td>\n",
       "      <td>Unmarried<\/td>\n",
       "      <td>White<\/td>\n",
       "      <td>Female<\/td>\n",
       "      <td>0<\/td>\n",
       "      <td>0<\/td>\n",
       "      <td>40<\/td>\n",
       "      <td>United-States<\/td>\n",
       "      <td>&lt;=50K<\/td>\n",
       "    <\/tr>\n",
       "    <tr>\n",
       "      <th>32559<\/th>\n",
       "      <td>22<\/td>\n",
       "      <td>Private<\/td>\n",
       "      <td>201490<\/td>\n",
       "      <td>HS-grad<\/td>\n",
       "      <td>9<\/td>\n",
       "      <td>Never-married<\/td>\n",
       "      <td>Adm-clerical<\/td>\n",
       "      <td>Own-child<\/td>\n",
       "      <td>White<\/td>\n",
       "      <td>Male<\/td>\n",
       "      <td>0<\/td>\n",
       "      <td>0<\/td>\n",
       "      <td>20<\/td>\n",
       "      <td>United-States<\/td>\n",
       "      <td>&lt;=50K<\/td>\n",
       "    <\/tr>\n",
       "    <tr>\n",
       "      <th>32560<\/th>\n",
       "      <td>52<\/td>\n",
       "      <td>Self-emp-inc<\/td>\n",
       "      <td>287927<\/td>\n",
       "      <td>HS-grad<\/td>\n",
       "      <td>9<\/td>\n",
       "      <td>Married-civ-spouse<\/td>\n",
       "      <td>Exec-managerial<\/td>\n",
       "      <td>Wife<\/td>\n",
       "      <td>White<\/td>\n",
       "      <td>Female<\/td>\n",
       "      <td>15024<\/td>\n",
       "      <td>0<\/td>\n",
       "      <td>40<\/td>\n",
       "      <td>United-States<\/td>\n",
       "      <td>&gt;50K<\/td>\n",
       "    <\/tr>\n",
       "  <\/tbody>\n",
       "<\/table>\n",
       "<p>32561 rows × 15 columns<\/p>\n",
       "<\/div>"
      ]
     },
     "metadata":{
      
     },
     "output_type":"display_data"
    }
   ],
   "metadata":{
    "datalore":{
     "node_id":"xQjuLXwUhj1QwLYFzCqXoI",
     "type":"CODE",
     "hide_input_from_viewers":true,
     "hide_output_from_viewers":true
    }
   }
  },
  {
   "cell_type":"markdown",
   "source":[
    "### **Q1. Using head() to display a specific number of rows**"
   ],
   "attachments":{
    
   },
   "metadata":{
    "datalore":{
     "node_id":"rwHN8SsWmHy3kfhPmEa16R",
     "type":"MD",
     "hide_input_from_viewers":false,
     "hide_output_from_viewers":false,
     "report_properties":{
      "rowId":"0FLv1T5mfPhnM9D6cRKPMM"
     }
    }
   }
  },
  {
   "cell_type":"code",
   "source":[
    "# using head() to display specific number of rows\n",
    "\n",
    "data.head(2)\n",
    "print(data)"
   ],
   "execution_count":4,
   "outputs":[
    {
     "name":"stdout",
     "text":[
      "       age          workclass  fnlwgt:co    education  edu-num  \\\n",
      "0       39          State-gov      77516    Bachelors       13   \n",
      "1       50   Self-emp-not-inc      83311    Bachelors       13   \n",
      "2       38            Private     215646      HS-grad        9   \n",
      "3       53            Private     234721         11th        7   \n",
      "4       28            Private     338409    Bachelors       13   \n",
      "...    ...                ...        ...          ...      ...   \n",
      "32556   27            Private     257302   Assoc-acdm       12   \n",
      "32557   40            Private     154374      HS-grad        9   \n",
      "32558   58            Private     151910      HS-grad        9   \n",
      "32559   22            Private     201490      HS-grad        9   \n",
      "32560   52       Self-emp-inc     287927      HS-grad        9   \n",
      "\n",
      "                Marital-St          occupation       relations    race  \\\n",
      "0            Never-married        Adm-clerical   Not-in-family   White   \n",
      "1       Married-civ-spouse     Exec-managerial         Husband   White   \n",
      "2                 Divorced   Handlers-cleaners   Not-in-family   White   \n",
      "3       Married-civ-spouse   Handlers-cleaners         Husband   Black   \n",
      "4       Married-civ-spouse      Prof-specialty            Wife   Black   \n",
      "...                    ...                 ...             ...     ...   \n",
      "32556   Married-civ-spouse        Tech-support            Wife   White   \n",
      "32557   Married-civ-spouse   Machine-op-inspct         Husband   White   \n",
      "32558              Widowed        Adm-clerical       Unmarried   White   \n",
      "32559        Never-married        Adm-clerical       Own-child   White   \n",
      "32560   Married-civ-spouse     Exec-managerial            Wife   White   \n",
      "\n",
      "           sex   cap-gain  capital-loss  hrs per wk       Nat count  \\\n",
      "0         Male       2174             0          40   United-States   \n",
      "1         Male          0             0          13   United-States   \n",
      "2         Male          0             0          40   United-States   \n",
      "3         Male          0             0          40   United-States   \n",
      "4       Female          0             0          40            Cuba   \n",
      "...        ...        ...           ...         ...             ...   \n",
      "32556   Female          0             0          38   United-States   \n",
      "32557     Male          0             0          40   United-States   \n",
      "32558   Female          0             0          40   United-States   \n",
      "32559     Male          0             0          20   United-States   \n",
      "32560   Female      15024             0          40   United-States   \n",
      "\n",
      "      class Label  \n",
      "0           <=50K  \n",
      "1           <=50K  \n",
      "2           <=50K  \n",
      "3           <=50K  \n",
      "4           <=50K  \n",
      "...           ...  \n",
      "32556       <=50K  \n",
      "32557        >50K  \n",
      "32558       <=50K  \n",
      "32559       <=50K  \n",
      "32560        >50K  \n",
      "\n",
      "[32561 rows x 15 columns]\n"
     ],
     "output_type":"stream"
    }
   ],
   "metadata":{
    "datalore":{
     "node_id":"7ogVU1yDoKVby1SoRatZmv",
     "type":"CODE",
     "hide_input_from_viewers":false,
     "hide_output_from_viewers":false,
     "report_properties":{
      "rowId":"0FLv1T5mfPhnM9D6cRKPMM"
     }
    }
   }
  },
  {
   "cell_type":"code",
   "source":[
    "data.head(10)\n",
    "print(data)"
   ],
   "execution_count":5,
   "outputs":[
    {
     "name":"stdout",
     "text":[
      "       age          workclass  fnlwgt:co    education  edu-num  \\\n",
      "0       39          State-gov      77516    Bachelors       13   \n",
      "1       50   Self-emp-not-inc      83311    Bachelors       13   \n",
      "2       38            Private     215646      HS-grad        9   \n",
      "3       53            Private     234721         11th        7   \n",
      "4       28            Private     338409    Bachelors       13   \n",
      "...    ...                ...        ...          ...      ...   \n",
      "32556   27            Private     257302   Assoc-acdm       12   \n",
      "32557   40            Private     154374      HS-grad        9   \n",
      "32558   58            Private     151910      HS-grad        9   \n",
      "32559   22            Private     201490      HS-grad        9   \n",
      "32560   52       Self-emp-inc     287927      HS-grad        9   \n",
      "\n",
      "                Marital-St          occupation       relations    race  \\\n",
      "0            Never-married        Adm-clerical   Not-in-family   White   \n",
      "1       Married-civ-spouse     Exec-managerial         Husband   White   \n",
      "2                 Divorced   Handlers-cleaners   Not-in-family   White   \n",
      "3       Married-civ-spouse   Handlers-cleaners         Husband   Black   \n",
      "4       Married-civ-spouse      Prof-specialty            Wife   Black   \n",
      "...                    ...                 ...             ...     ...   \n",
      "32556   Married-civ-spouse        Tech-support            Wife   White   \n",
      "32557   Married-civ-spouse   Machine-op-inspct         Husband   White   \n",
      "32558              Widowed        Adm-clerical       Unmarried   White   \n",
      "32559        Never-married        Adm-clerical       Own-child   White   \n",
      "32560   Married-civ-spouse     Exec-managerial            Wife   White   \n",
      "\n",
      "           sex   cap-gain  capital-loss  hrs per wk       Nat count  \\\n",
      "0         Male       2174             0          40   United-States   \n",
      "1         Male          0             0          13   United-States   \n",
      "2         Male          0             0          40   United-States   \n",
      "3         Male          0             0          40   United-States   \n",
      "4       Female          0             0          40            Cuba   \n",
      "...        ...        ...           ...         ...             ...   \n",
      "32556   Female          0             0          38   United-States   \n",
      "32557     Male          0             0          40   United-States   \n",
      "32558   Female          0             0          40   United-States   \n",
      "32559     Male          0             0          20   United-States   \n",
      "32560   Female      15024             0          40   United-States   \n",
      "\n",
      "      class Label  \n",
      "0           <=50K  \n",
      "1           <=50K  \n",
      "2           <=50K  \n",
      "3           <=50K  \n",
      "4           <=50K  \n",
      "...           ...  \n",
      "32556       <=50K  \n",
      "32557        >50K  \n",
      "32558       <=50K  \n",
      "32559       <=50K  \n",
      "32560        >50K  \n",
      "\n",
      "[32561 rows x 15 columns]\n"
     ],
     "output_type":"stream"
    }
   ],
   "metadata":{
    "datalore":{
     "node_id":"2MYQZl42XLA62OlSU658Vr",
     "type":"CODE",
     "hide_input_from_viewers":false,
     "hide_output_from_viewers":false,
     "report_properties":{
      "rowId":"0FLv1T5mfPhnM9D6cRKPMM"
     }
    }
   }
  },
  {
   "cell_type":"code",
   "source":[
    "data.tail(2)\n",
    "print(data)"
   ],
   "execution_count":6,
   "outputs":[
    {
     "name":"stdout",
     "text":[
      "       age          workclass  fnlwgt:co    education  edu-num  \\\n",
      "0       39          State-gov      77516    Bachelors       13   \n",
      "1       50   Self-emp-not-inc      83311    Bachelors       13   \n",
      "2       38            Private     215646      HS-grad        9   \n",
      "3       53            Private     234721         11th        7   \n",
      "4       28            Private     338409    Bachelors       13   \n",
      "...    ...                ...        ...          ...      ...   \n",
      "32556   27            Private     257302   Assoc-acdm       12   \n",
      "32557   40            Private     154374      HS-grad        9   \n",
      "32558   58            Private     151910      HS-grad        9   \n",
      "32559   22            Private     201490      HS-grad        9   \n",
      "32560   52       Self-emp-inc     287927      HS-grad        9   \n",
      "\n",
      "                Marital-St          occupation       relations    race  \\\n",
      "0            Never-married        Adm-clerical   Not-in-family   White   \n",
      "1       Married-civ-spouse     Exec-managerial         Husband   White   \n",
      "2                 Divorced   Handlers-cleaners   Not-in-family   White   \n",
      "3       Married-civ-spouse   Handlers-cleaners         Husband   Black   \n",
      "4       Married-civ-spouse      Prof-specialty            Wife   Black   \n",
      "...                    ...                 ...             ...     ...   \n",
      "32556   Married-civ-spouse        Tech-support            Wife   White   \n",
      "32557   Married-civ-spouse   Machine-op-inspct         Husband   White   \n",
      "32558              Widowed        Adm-clerical       Unmarried   White   \n",
      "32559        Never-married        Adm-clerical       Own-child   White   \n",
      "32560   Married-civ-spouse     Exec-managerial            Wife   White   \n",
      "\n",
      "           sex   cap-gain  capital-loss  hrs per wk       Nat count  \\\n",
      "0         Male       2174             0          40   United-States   \n",
      "1         Male          0             0          13   United-States   \n",
      "2         Male          0             0          40   United-States   \n",
      "3         Male          0             0          40   United-States   \n",
      "4       Female          0             0          40            Cuba   \n",
      "...        ...        ...           ...         ...             ...   \n",
      "32556   Female          0             0          38   United-States   \n",
      "32557     Male          0             0          40   United-States   \n",
      "32558   Female          0             0          40   United-States   \n",
      "32559     Male          0             0          20   United-States   \n",
      "32560   Female      15024             0          40   United-States   \n",
      "\n",
      "      class Label  \n",
      "0           <=50K  \n",
      "1           <=50K  \n",
      "2           <=50K  \n",
      "3           <=50K  \n",
      "4           <=50K  \n",
      "...           ...  \n",
      "32556       <=50K  \n",
      "32557        >50K  \n",
      "32558       <=50K  \n",
      "32559       <=50K  \n",
      "32560        >50K  \n",
      "\n",
      "[32561 rows x 15 columns]\n"
     ],
     "output_type":"stream"
    }
   ],
   "metadata":{
    "datalore":{
     "node_id":"g107sMhwR7QYOEOUmSbWdw",
     "type":"CODE",
     "hide_input_from_viewers":false,
     "hide_output_from_viewers":false,
     "report_properties":{
      "rowId":"0FLv1T5mfPhnM9D6cRKPMM"
     }
    }
   }
  },
  {
   "cell_type":"markdown",
   "source":[
    "Observations 2: `head()` returns the first n rows and `tail()` returns the last n rows"
   ],
   "attachments":{
    
   },
   "metadata":{
    "datalore":{
     "node_id":"dSdGM1oGXSuMFHrczP6TbF",
     "type":"MD",
     "hide_input_from_viewers":false,
     "hide_output_from_viewers":false,
     "report_properties":{
      "rowId":"0FLv1T5mfPhnM9D6cRKPMM"
     }
    }
   }
  },
  {
   "cell_type":"code",
   "source":[
    "data.shape"
   ],
   "execution_count":7,
   "outputs":[
    {
     "data":{
      "text\/plain":[
       "(32561, 15)"
      ]
     },
     "metadata":{
      
     },
     "output_type":"display_data"
    }
   ],
   "metadata":{
    "datalore":{
     "node_id":"jEsham8Rd9KupYk9LayRqx",
     "type":"CODE",
     "hide_input_from_viewers":true,
     "hide_output_from_viewers":true
    }
   }
  },
  {
   "cell_type":"markdown",
   "source":[
    "The`data.shape` tells you the dimensionality of the dataset. In this case, there are 32561 rows & 15 columns."
   ],
   "attachments":{
    
   },
   "metadata":{
    "datalore":{
     "node_id":"2YTyuWv9X7jMKojVQXW8Xk",
     "type":"MD",
     "hide_input_from_viewers":true,
     "hide_output_from_viewers":true
    }
   }
  },
  {
   "cell_type":"markdown",
   "source":[
    "# **Generating your unique dataset**"
   ],
   "attachments":{
    
   },
   "metadata":{
    "datalore":{
     "node_id":"9xTnjo4V8KlX695P4YrGvJ",
     "type":"MD",
     "hide_input_from_viewers":false,
     "hide_output_from_viewers":false,
     "report_properties":{
      "rowId":"0FLv1T5mfPhnM9D6cRKPMM"
     }
    }
   }
  },
  {
   "cell_type":"markdown",
   "source":[
    "For this task, you are required to generate your own version of the dataset. To achieve this, replace 448 in `random_state` with the last 3 digits of your student number. "
   ],
   "attachments":{
    
   },
   "metadata":{
    "datalore":{
     "node_id":"5R8hLuPPSs4QF5NLdvPlRM",
     "type":"MD",
     "hide_input_from_viewers":true,
     "hide_output_from_viewers":true
    }
   }
  },
  {
   "cell_type":"code",
   "source":[
    "data = data.sample(n=3000, random_state = 911)"
   ],
   "execution_count":8,
   "outputs":[
    
   ],
   "metadata":{
    "datalore":{
     "node_id":"5QGVFvflNdzZRAVCizdGv2",
     "type":"CODE",
     "hide_input_from_viewers":false,
     "hide_output_from_viewers":false,
     "report_properties":{
      "rowId":"0FLv1T5mfPhnM9D6cRKPMM"
     }
    }
   }
  },
  {
   "cell_type":"code",
   "source":[
    "data.shape"
   ],
   "execution_count":9,
   "outputs":[
    {
     "data":{
      "text\/plain":[
       "(3000, 15)"
      ]
     },
     "metadata":{
      
     },
     "output_type":"display_data"
    }
   ],
   "metadata":{
    "datalore":{
     "node_id":"KW6EqbkMDIntTFHNI0UHPo",
     "type":"CODE",
     "hide_input_from_viewers":false,
     "hide_output_from_viewers":false,
     "report_properties":{
      "rowId":"0FLv1T5mfPhnM9D6cRKPMM"
     }
    }
   }
  },
  {
   "cell_type":"code",
   "source":[
    "data.describe()"
   ],
   "execution_count":10,
   "outputs":[
    {
     "data":{
      "text\/html":[
       "<div>\n",
       "<style scoped>\n",
       "    .dataframe tbody tr th:only-of-type {\n",
       "        vertical-align: middle;\n",
       "    }\n",
       "\n",
       "    .dataframe tbody tr th {\n",
       "        vertical-align: top;\n",
       "    }\n",
       "\n",
       "    .dataframe thead th {\n",
       "        text-align: right;\n",
       "    }\n",
       "<\/style>\n",
       "<table border=\"1\" class=\"dataframe\">\n",
       "  <thead>\n",
       "    <tr style=\"text-align: right;\">\n",
       "      <th><\/th>\n",
       "      <th>age<\/th>\n",
       "      <th>fnlwgt:co<\/th>\n",
       "      <th>edu-num<\/th>\n",
       "      <th>cap-gain<\/th>\n",
       "      <th>capital-loss<\/th>\n",
       "      <th>hrs per wk<\/th>\n",
       "    <\/tr>\n",
       "  <\/thead>\n",
       "  <tbody>\n",
       "    <tr>\n",
       "      <th>count<\/th>\n",
       "      <td>3000.000000<\/td>\n",
       "      <td>3.000000e+03<\/td>\n",
       "      <td>3000.000000<\/td>\n",
       "      <td>3000.000000<\/td>\n",
       "      <td>3000.000000<\/td>\n",
       "      <td>3000.000000<\/td>\n",
       "    <\/tr>\n",
       "    <tr>\n",
       "      <th>mean<\/th>\n",
       "      <td>38.459333<\/td>\n",
       "      <td>1.896601e+05<\/td>\n",
       "      <td>10.074000<\/td>\n",
       "      <td>1105.515667<\/td>\n",
       "      <td>81.587000<\/td>\n",
       "      <td>40.868333<\/td>\n",
       "    <\/tr>\n",
       "    <tr>\n",
       "      <th>std<\/th>\n",
       "      <td>13.575435<\/td>\n",
       "      <td>1.056412e+05<\/td>\n",
       "      <td>2.519518<\/td>\n",
       "      <td>7446.848573<\/td>\n",
       "      <td>392.215687<\/td>\n",
       "      <td>11.887701<\/td>\n",
       "    <\/tr>\n",
       "    <tr>\n",
       "      <th>min<\/th>\n",
       "      <td>17.000000<\/td>\n",
       "      <td>1.984700e+04<\/td>\n",
       "      <td>1.000000<\/td>\n",
       "      <td>0.000000<\/td>\n",
       "      <td>0.000000<\/td>\n",
       "      <td>3.000000<\/td>\n",
       "    <\/tr>\n",
       "    <tr>\n",
       "      <th>25%<\/th>\n",
       "      <td>27.000000<\/td>\n",
       "      <td>1.177790e+05<\/td>\n",
       "      <td>9.000000<\/td>\n",
       "      <td>0.000000<\/td>\n",
       "      <td>0.000000<\/td>\n",
       "      <td>40.000000<\/td>\n",
       "    <\/tr>\n",
       "    <tr>\n",
       "      <th>50%<\/th>\n",
       "      <td>37.000000<\/td>\n",
       "      <td>1.767545e+05<\/td>\n",
       "      <td>10.000000<\/td>\n",
       "      <td>0.000000<\/td>\n",
       "      <td>0.000000<\/td>\n",
       "      <td>40.000000<\/td>\n",
       "    <\/tr>\n",
       "    <tr>\n",
       "      <th>75%<\/th>\n",
       "      <td>47.000000<\/td>\n",
       "      <td>2.365640e+05<\/td>\n",
       "      <td>12.000000<\/td>\n",
       "      <td>0.000000<\/td>\n",
       "      <td>0.000000<\/td>\n",
       "      <td>45.000000<\/td>\n",
       "    <\/tr>\n",
       "    <tr>\n",
       "      <th>max<\/th>\n",
       "      <td>90.000000<\/td>\n",
       "      <td>1.033222e+06<\/td>\n",
       "      <td>16.000000<\/td>\n",
       "      <td>99999.000000<\/td>\n",
       "      <td>3770.000000<\/td>\n",
       "      <td>99.000000<\/td>\n",
       "    <\/tr>\n",
       "  <\/tbody>\n",
       "<\/table>\n",
       "<\/div>"
      ]
     },
     "metadata":{
      
     },
     "output_type":"display_data"
    }
   ],
   "metadata":{
    "datalore":{
     "node_id":"0R1WA97ok6dycFGWFijgYZ",
     "type":"CODE",
     "hide_input_from_viewers":false,
     "hide_output_from_viewers":false,
     "report_properties":{
      "rowId":"0FLv1T5mfPhnM9D6cRKPMM"
     }
    }
   }
  },
  {
   "cell_type":"code",
   "source":[
    "data['education'].value_counts()"
   ],
   "execution_count":11,
   "outputs":[
    {
     "data":{
      "text\/html":[
       "<pre> HS-grad         983\n",
       " Some-college    677\n",
       " Bachelors       508\n",
       " Masters         143\n",
       " Assoc-voc       133\n",
       " Assoc-acdm      104\n",
       " 11th            101\n",
       " 10th             80\n",
       " 7th-8th          57\n",
       " 9th              50\n",
       " Prof-school      48\n",
       " 12th             38\n",
       " Doctorate        30\n",
       " 5th-6th          29\n",
       " 1st-4th          13\n",
       " Preschool         6\n",
       "Name: education, dtype: int64<\/pre>"
      ]
     },
     "metadata":{
      
     },
     "output_type":"display_data"
    }
   ],
   "metadata":{
    "datalore":{
     "node_id":"OHaQz2F2KR6v0C3lLt0rJg",
     "type":"CODE",
     "hide_input_from_viewers":false,
     "hide_output_from_viewers":false,
     "report_properties":{
      "rowId":"0FLv1T5mfPhnM9D6cRKPMM"
     }
    }
   }
  },
  {
   "cell_type":"code",
   "source":[
    "data.describe()"
   ],
   "execution_count":12,
   "outputs":[
    {
     "data":{
      "text\/html":[
       "<div>\n",
       "<style scoped>\n",
       "    .dataframe tbody tr th:only-of-type {\n",
       "        vertical-align: middle;\n",
       "    }\n",
       "\n",
       "    .dataframe tbody tr th {\n",
       "        vertical-align: top;\n",
       "    }\n",
       "\n",
       "    .dataframe thead th {\n",
       "        text-align: right;\n",
       "    }\n",
       "<\/style>\n",
       "<table border=\"1\" class=\"dataframe\">\n",
       "  <thead>\n",
       "    <tr style=\"text-align: right;\">\n",
       "      <th><\/th>\n",
       "      <th>age<\/th>\n",
       "      <th>fnlwgt:co<\/th>\n",
       "      <th>edu-num<\/th>\n",
       "      <th>cap-gain<\/th>\n",
       "      <th>capital-loss<\/th>\n",
       "      <th>hrs per wk<\/th>\n",
       "    <\/tr>\n",
       "  <\/thead>\n",
       "  <tbody>\n",
       "    <tr>\n",
       "      <th>count<\/th>\n",
       "      <td>3000.000000<\/td>\n",
       "      <td>3.000000e+03<\/td>\n",
       "      <td>3000.000000<\/td>\n",
       "      <td>3000.000000<\/td>\n",
       "      <td>3000.000000<\/td>\n",
       "      <td>3000.000000<\/td>\n",
       "    <\/tr>\n",
       "    <tr>\n",
       "      <th>mean<\/th>\n",
       "      <td>38.459333<\/td>\n",
       "      <td>1.896601e+05<\/td>\n",
       "      <td>10.074000<\/td>\n",
       "      <td>1105.515667<\/td>\n",
       "      <td>81.587000<\/td>\n",
       "      <td>40.868333<\/td>\n",
       "    <\/tr>\n",
       "    <tr>\n",
       "      <th>std<\/th>\n",
       "      <td>13.575435<\/td>\n",
       "      <td>1.056412e+05<\/td>\n",
       "      <td>2.519518<\/td>\n",
       "      <td>7446.848573<\/td>\n",
       "      <td>392.215687<\/td>\n",
       "      <td>11.887701<\/td>\n",
       "    <\/tr>\n",
       "    <tr>\n",
       "      <th>min<\/th>\n",
       "      <td>17.000000<\/td>\n",
       "      <td>1.984700e+04<\/td>\n",
       "      <td>1.000000<\/td>\n",
       "      <td>0.000000<\/td>\n",
       "      <td>0.000000<\/td>\n",
       "      <td>3.000000<\/td>\n",
       "    <\/tr>\n",
       "    <tr>\n",
       "      <th>25%<\/th>\n",
       "      <td>27.000000<\/td>\n",
       "      <td>1.177790e+05<\/td>\n",
       "      <td>9.000000<\/td>\n",
       "      <td>0.000000<\/td>\n",
       "      <td>0.000000<\/td>\n",
       "      <td>40.000000<\/td>\n",
       "    <\/tr>\n",
       "    <tr>\n",
       "      <th>50%<\/th>\n",
       "      <td>37.000000<\/td>\n",
       "      <td>1.767545e+05<\/td>\n",
       "      <td>10.000000<\/td>\n",
       "      <td>0.000000<\/td>\n",
       "      <td>0.000000<\/td>\n",
       "      <td>40.000000<\/td>\n",
       "    <\/tr>\n",
       "    <tr>\n",
       "      <th>75%<\/th>\n",
       "      <td>47.000000<\/td>\n",
       "      <td>2.365640e+05<\/td>\n",
       "      <td>12.000000<\/td>\n",
       "      <td>0.000000<\/td>\n",
       "      <td>0.000000<\/td>\n",
       "      <td>45.000000<\/td>\n",
       "    <\/tr>\n",
       "    <tr>\n",
       "      <th>max<\/th>\n",
       "      <td>90.000000<\/td>\n",
       "      <td>1.033222e+06<\/td>\n",
       "      <td>16.000000<\/td>\n",
       "      <td>99999.000000<\/td>\n",
       "      <td>3770.000000<\/td>\n",
       "      <td>99.000000<\/td>\n",
       "    <\/tr>\n",
       "  <\/tbody>\n",
       "<\/table>\n",
       "<\/div>"
      ]
     },
     "metadata":{
      
     },
     "output_type":"display_data"
    }
   ],
   "metadata":{
    "datalore":{
     "node_id":"e0ziUVvMAveXGjLZcVeAhe",
     "type":"CODE",
     "hide_input_from_viewers":false,
     "hide_output_from_viewers":false,
     "report_properties":{
      "rowId":"0FLv1T5mfPhnM9D6cRKPMM"
     }
    }
   }
  },
  {
   "cell_type":"code",
   "source":[
    "data = data.drop(['fnlwgt:co'], axis=1)"
   ],
   "execution_count":13,
   "outputs":[
    
   ],
   "metadata":{
    "datalore":{
     "node_id":"VocYKH7dlphy8kI3J36lgz",
     "type":"CODE",
     "hide_input_from_viewers":false,
     "hide_output_from_viewers":false,
     "report_properties":{
      "rowId":"0FLv1T5mfPhnM9D6cRKPMM"
     }
    }
   }
  },
  {
   "cell_type":"markdown",
   "source":[
    "the above cell will drop\/remove `fnlwgt:co` from data.\n",
    "\n",
    "`.drop()`is to drop a column from the dataframe, pass arguments-column name to be dropped and `axis = 1`.\n",
    "\n",
    "`axis = 0`- refers to horizontal axis or rows and axis.\n",
    "`axis = 0`- refers to vertical axis or rows and axis."
   ],
   "attachments":{
    
   },
   "metadata":{
    "datalore":{
     "node_id":"h5QmSKyJhEdvwZa7ZnCi6X",
     "type":"MD",
     "hide_input_from_viewers":true,
     "hide_output_from_viewers":true
    }
   }
  },
  {
   "cell_type":"code",
   "source":[
    "data.shape"
   ],
   "execution_count":14,
   "outputs":[
    {
     "data":{
      "text\/plain":[
       "(3000, 14)"
      ]
     },
     "metadata":{
      
     },
     "output_type":"display_data"
    }
   ],
   "metadata":{
    "datalore":{
     "node_id":"ODvvtTvtlCv0SWax65bJUQ",
     "type":"CODE",
     "hide_input_from_viewers":true,
     "hide_output_from_viewers":true
    }
   }
  },
  {
   "cell_type":"markdown",
   "source":[
    "There is now 14 columns instead of 15."
   ],
   "attachments":{
    
   },
   "metadata":{
    "datalore":{
     "node_id":"qqsFaAfmqXFIOqE6d3jtYw",
     "type":"MD",
     "hide_input_from_viewers":true,
     "hide_output_from_viewers":true
    }
   }
  },
  {
   "cell_type":"code",
   "source":[
    "data.describe(include = 'all')"
   ],
   "execution_count":15,
   "outputs":[
    {
     "data":{
      "text\/html":[
       "<div>\n",
       "<style scoped>\n",
       "    .dataframe tbody tr th:only-of-type {\n",
       "        vertical-align: middle;\n",
       "    }\n",
       "\n",
       "    .dataframe tbody tr th {\n",
       "        vertical-align: top;\n",
       "    }\n",
       "\n",
       "    .dataframe thead th {\n",
       "        text-align: right;\n",
       "    }\n",
       "<\/style>\n",
       "<table border=\"1\" class=\"dataframe\">\n",
       "  <thead>\n",
       "    <tr style=\"text-align: right;\">\n",
       "      <th><\/th>\n",
       "      <th>age<\/th>\n",
       "      <th>workclass<\/th>\n",
       "      <th>education<\/th>\n",
       "      <th>edu-num<\/th>\n",
       "      <th>Marital-St<\/th>\n",
       "      <th>occupation<\/th>\n",
       "      <th>relations<\/th>\n",
       "      <th>race<\/th>\n",
       "      <th>sex<\/th>\n",
       "      <th>cap-gain<\/th>\n",
       "      <th>capital-loss<\/th>\n",
       "      <th>hrs per wk<\/th>\n",
       "      <th>Nat count<\/th>\n",
       "      <th>class Label<\/th>\n",
       "    <\/tr>\n",
       "  <\/thead>\n",
       "  <tbody>\n",
       "    <tr>\n",
       "      <th>count<\/th>\n",
       "      <td>3000.000000<\/td>\n",
       "      <td>3000<\/td>\n",
       "      <td>3000<\/td>\n",
       "      <td>3000.000000<\/td>\n",
       "      <td>3000<\/td>\n",
       "      <td>3000<\/td>\n",
       "      <td>3000<\/td>\n",
       "      <td>3000<\/td>\n",
       "      <td>3000<\/td>\n",
       "      <td>3000.000000<\/td>\n",
       "      <td>3000.000000<\/td>\n",
       "      <td>3000.000000<\/td>\n",
       "      <td>3000<\/td>\n",
       "      <td>3000<\/td>\n",
       "    <\/tr>\n",
       "    <tr>\n",
       "      <th>unique<\/th>\n",
       "      <td>NaN<\/td>\n",
       "      <td>9<\/td>\n",
       "      <td>16<\/td>\n",
       "      <td>NaN<\/td>\n",
       "      <td>7<\/td>\n",
       "      <td>15<\/td>\n",
       "      <td>6<\/td>\n",
       "      <td>5<\/td>\n",
       "      <td>2<\/td>\n",
       "      <td>NaN<\/td>\n",
       "      <td>NaN<\/td>\n",
       "      <td>NaN<\/td>\n",
       "      <td>38<\/td>\n",
       "      <td>2<\/td>\n",
       "    <\/tr>\n",
       "    <tr>\n",
       "      <th>top<\/th>\n",
       "      <td>NaN<\/td>\n",
       "      <td>Private<\/td>\n",
       "      <td>HS-grad<\/td>\n",
       "      <td>NaN<\/td>\n",
       "      <td>Married-civ-spouse<\/td>\n",
       "      <td>Craft-repair<\/td>\n",
       "      <td>Husband<\/td>\n",
       "      <td>White<\/td>\n",
       "      <td>Male<\/td>\n",
       "      <td>NaN<\/td>\n",
       "      <td>NaN<\/td>\n",
       "      <td>NaN<\/td>\n",
       "      <td>United-States<\/td>\n",
       "      <td>&lt;=50K<\/td>\n",
       "    <\/tr>\n",
       "    <tr>\n",
       "      <th>freq<\/th>\n",
       "      <td>NaN<\/td>\n",
       "      <td>2070<\/td>\n",
       "      <td>983<\/td>\n",
       "      <td>NaN<\/td>\n",
       "      <td>1340<\/td>\n",
       "      <td>378<\/td>\n",
       "      <td>1175<\/td>\n",
       "      <td>2570<\/td>\n",
       "      <td>1982<\/td>\n",
       "      <td>NaN<\/td>\n",
       "      <td>NaN<\/td>\n",
       "      <td>NaN<\/td>\n",
       "      <td>2691<\/td>\n",
       "      <td>2271<\/td>\n",
       "    <\/tr>\n",
       "    <tr>\n",
       "      <th>mean<\/th>\n",
       "      <td>38.459333<\/td>\n",
       "      <td>NaN<\/td>\n",
       "      <td>NaN<\/td>\n",
       "      <td>10.074000<\/td>\n",
       "      <td>NaN<\/td>\n",
       "      <td>NaN<\/td>\n",
       "      <td>NaN<\/td>\n",
       "      <td>NaN<\/td>\n",
       "      <td>NaN<\/td>\n",
       "      <td>1105.515667<\/td>\n",
       "      <td>81.587000<\/td>\n",
       "      <td>40.868333<\/td>\n",
       "      <td>NaN<\/td>\n",
       "      <td>NaN<\/td>\n",
       "    <\/tr>\n",
       "    <tr>\n",
       "      <th>std<\/th>\n",
       "      <td>13.575435<\/td>\n",
       "      <td>NaN<\/td>\n",
       "      <td>NaN<\/td>\n",
       "      <td>2.519518<\/td>\n",
       "      <td>NaN<\/td>\n",
       "      <td>NaN<\/td>\n",
       "      <td>NaN<\/td>\n",
       "      <td>NaN<\/td>\n",
       "      <td>NaN<\/td>\n",
       "      <td>7446.848573<\/td>\n",
       "      <td>392.215687<\/td>\n",
       "      <td>11.887701<\/td>\n",
       "      <td>NaN<\/td>\n",
       "      <td>NaN<\/td>\n",
       "    <\/tr>\n",
       "    <tr>\n",
       "      <th>min<\/th>\n",
       "      <td>17.000000<\/td>\n",
       "      <td>NaN<\/td>\n",
       "      <td>NaN<\/td>\n",
       "      <td>1.000000<\/td>\n",
       "      <td>NaN<\/td>\n",
       "      <td>NaN<\/td>\n",
       "      <td>NaN<\/td>\n",
       "      <td>NaN<\/td>\n",
       "      <td>NaN<\/td>\n",
       "      <td>0.000000<\/td>\n",
       "      <td>0.000000<\/td>\n",
       "      <td>3.000000<\/td>\n",
       "      <td>NaN<\/td>\n",
       "      <td>NaN<\/td>\n",
       "    <\/tr>\n",
       "    <tr>\n",
       "      <th>25%<\/th>\n",
       "      <td>27.000000<\/td>\n",
       "      <td>NaN<\/td>\n",
       "      <td>NaN<\/td>\n",
       "      <td>9.000000<\/td>\n",
       "      <td>NaN<\/td>\n",
       "      <td>NaN<\/td>\n",
       "      <td>NaN<\/td>\n",
       "      <td>NaN<\/td>\n",
       "      <td>NaN<\/td>\n",
       "      <td>0.000000<\/td>\n",
       "      <td>0.000000<\/td>\n",
       "      <td>40.000000<\/td>\n",
       "      <td>NaN<\/td>\n",
       "      <td>NaN<\/td>\n",
       "    <\/tr>\n",
       "    <tr>\n",
       "      <th>50%<\/th>\n",
       "      <td>37.000000<\/td>\n",
       "      <td>NaN<\/td>\n",
       "      <td>NaN<\/td>\n",
       "      <td>10.000000<\/td>\n",
       "      <td>NaN<\/td>\n",
       "      <td>NaN<\/td>\n",
       "      <td>NaN<\/td>\n",
       "      <td>NaN<\/td>\n",
       "      <td>NaN<\/td>\n",
       "      <td>0.000000<\/td>\n",
       "      <td>0.000000<\/td>\n",
       "      <td>40.000000<\/td>\n",
       "      <td>NaN<\/td>\n",
       "      <td>NaN<\/td>\n",
       "    <\/tr>\n",
       "    <tr>\n",
       "      <th>75%<\/th>\n",
       "      <td>47.000000<\/td>\n",
       "      <td>NaN<\/td>\n",
       "      <td>NaN<\/td>\n",
       "      <td>12.000000<\/td>\n",
       "      <td>NaN<\/td>\n",
       "      <td>NaN<\/td>\n",
       "      <td>NaN<\/td>\n",
       "      <td>NaN<\/td>\n",
       "      <td>NaN<\/td>\n",
       "      <td>0.000000<\/td>\n",
       "      <td>0.000000<\/td>\n",
       "      <td>45.000000<\/td>\n",
       "      <td>NaN<\/td>\n",
       "      <td>NaN<\/td>\n",
       "    <\/tr>\n",
       "    <tr>\n",
       "      <th>max<\/th>\n",
       "      <td>90.000000<\/td>\n",
       "      <td>NaN<\/td>\n",
       "      <td>NaN<\/td>\n",
       "      <td>16.000000<\/td>\n",
       "      <td>NaN<\/td>\n",
       "      <td>NaN<\/td>\n",
       "      <td>NaN<\/td>\n",
       "      <td>NaN<\/td>\n",
       "      <td>NaN<\/td>\n",
       "      <td>99999.000000<\/td>\n",
       "      <td>3770.000000<\/td>\n",
       "      <td>99.000000<\/td>\n",
       "      <td>NaN<\/td>\n",
       "      <td>NaN<\/td>\n",
       "    <\/tr>\n",
       "  <\/tbody>\n",
       "<\/table>\n",
       "<\/div>"
      ]
     },
     "metadata":{
      
     },
     "output_type":"display_data"
    }
   ],
   "metadata":{
    "datalore":{
     "node_id":"Ux8KQ1nhW87cPSjiiMAEHQ",
     "type":"CODE",
     "hide_input_from_viewers":false,
     "hide_output_from_viewers":false,
     "report_properties":{
      "rowId":"0FLv1T5mfPhnM9D6cRKPMM"
     }
    }
   }
  },
  {
   "cell_type":"code",
   "source":[
    "data['education'].value_counts()"
   ],
   "execution_count":16,
   "outputs":[
    {
     "data":{
      "text\/html":[
       "<pre> HS-grad         983\n",
       " Some-college    677\n",
       " Bachelors       508\n",
       " Masters         143\n",
       " Assoc-voc       133\n",
       " Assoc-acdm      104\n",
       " 11th            101\n",
       " 10th             80\n",
       " 7th-8th          57\n",
       " 9th              50\n",
       " Prof-school      48\n",
       " 12th             38\n",
       " Doctorate        30\n",
       " 5th-6th          29\n",
       " 1st-4th          13\n",
       " Preschool         6\n",
       "Name: education, dtype: int64<\/pre>"
      ]
     },
     "metadata":{
      
     },
     "output_type":"display_data"
    }
   ],
   "metadata":{
    "datalore":{
     "node_id":"4yOdO9cTqVvMvdrr8ygLzP",
     "type":"CODE",
     "hide_input_from_viewers":true,
     "hide_output_from_viewers":true
    }
   }
  },
  {
   "cell_type":"markdown",
   "source":[
    "`value_counts()` produces a frequency table, which shows occurance of each feature or attribute in a dataset."
   ],
   "attachments":{
    
   },
   "metadata":{
    "datalore":{
     "node_id":"ggFdUD4xtpn3xcaymZW345",
     "type":"MD",
     "hide_input_from_viewers":true,
     "hide_output_from_viewers":true
    }
   }
  },
  {
   "cell_type":"code",
   "source":[
    "data['education'].nunique()"
   ],
   "execution_count":17,
   "outputs":[
    {
     "data":{
      "text\/plain":[
       "16"
      ]
     },
     "metadata":{
      
     },
     "output_type":"display_data"
    }
   ],
   "metadata":{
    "datalore":{
     "node_id":"beQkyUEPT94xU9sQiUd1XE",
     "type":"CODE",
     "hide_input_from_viewers":true,
     "hide_output_from_viewers":true
    }
   }
  },
  {
   "cell_type":"code",
   "source":[
    "data['age'].value_counts()"
   ],
   "execution_count":18,
   "outputs":[
    {
     "data":{
      "text\/html":[
       "<pre>25    97\n",
       "29    94\n",
       "33    92\n",
       "23    88\n",
       "36    83\n",
       "      ..\n",
       "80     2\n",
       "78     2\n",
       "79     2\n",
       "85     1\n",
       "81     1\n",
       "Name: age, Length: 67, dtype: int64<\/pre>"
      ]
     },
     "metadata":{
      
     },
     "output_type":"display_data"
    }
   ],
   "metadata":{
    "datalore":{
     "node_id":"zqxk8HdCEexfpg08xrgyyz",
     "type":"CODE",
     "hide_input_from_viewers":true,
     "hide_output_from_viewers":true
    }
   }
  },
  {
   "cell_type":"markdown",
   "source":[
    "`age` is not a good example as the frequency table has a lot of data to be analysed. `age` can be considered a continuous value & frequency of each value is being displayed.\n",
    "\n",
    "`age` can be visualised through graphs to make observations."
   ],
   "attachments":{
    
   },
   "metadata":{
    "datalore":{
     "node_id":"UBPn9XZKxM31CkohQUBPoi",
     "type":"MD",
     "hide_input_from_viewers":true,
     "hide_output_from_viewers":true
    }
   }
  },
  {
   "cell_type":"code",
   "source":[
    "data.boxplot(column='age')"
   ],
   "execution_count":19,
   "outputs":[
    {
     "data":{
      "text\/plain":[
       "<AxesSubplot:>"
      ]
     },
     "metadata":{
      
     },
     "output_type":"display_data"
    },
    {
     "data":{
      "image\/png":"[encoded data removed]"
     },
     "metadata":{
      "image\/png":{
       
      }
     },
     "output_type":"display_data"
    }
   ],
   "metadata":{
    "datalore":{
     "node_id":"EwcZcWNuIZTcGKkICw8clY",
     "type":"CODE",
     "hide_input_from_viewers":true,
     "hide_output_from_viewers":true
    }
   }
  },
  {
   "cell_type":"code",
   "source":[
    "data['age'].hist(bins=100)"
   ],
   "execution_count":20,
   "outputs":[
    {
     "data":{
      "text\/plain":[
       "<AxesSubplot:>"
      ]
     },
     "metadata":{
      
     },
     "output_type":"display_data"
    },
    {
     "data":{
      "image\/png":"[encoded data removed]"
     },
     "metadata":{
      "image\/png":{
       
      }
     },
     "output_type":"display_data"
    }
   ],
   "metadata":{
    "datalore":{
     "node_id":"FVNAWmtgHy4swYpW7lR6DJ",
     "type":"CODE",
     "hide_input_from_viewers":true,
     "hide_output_from_viewers":true
    }
   }
  },
  {
   "cell_type":"markdown",
   "source":[
    "**Observation 3: ** forgot to import `%matplotlib` as `%matplotlib inline`, which meant when the code was run it returned `<AxesSubplot>` instead. "
   ],
   "attachments":{
    
   },
   "metadata":{
    "datalore":{
     "node_id":"nauAa0CLHNT3xpAH3K0yuj",
     "type":"MD",
     "hide_input_from_viewers":true,
     "hide_output_from_viewers":true
    }
   }
  },
  {
   "cell_type":"code",
   "source":[
    "data['sex'].value_counts()"
   ],
   "execution_count":21,
   "outputs":[
    {
     "data":{
      "text\/html":[
       "<pre> Male      1982\n",
       " Female    1018\n",
       "Name: sex, dtype: int64<\/pre>"
      ]
     },
     "metadata":{
      
     },
     "output_type":"display_data"
    }
   ],
   "metadata":{
    "datalore":{
     "node_id":"YkiJ7dSubx5KZ9nMRXc9Ds",
     "type":"CODE",
     "hide_input_from_viewers":true,
     "hide_output_from_viewers":true
    }
   }
  },
  {
   "cell_type":"code",
   "source":[
    "data.columns"
   ],
   "execution_count":22,
   "outputs":[
    {
     "data":{
      "text\/plain":[
       "Index(['age', 'workclass', 'education', 'edu-num', 'Marital-St', 'occupation',\n",
       "       'relations', 'race', 'sex', ' cap-gain', 'capital-loss', 'hrs per wk',\n",
       "       'Nat count', 'class Label'],\n",
       "      dtype='object')"
      ]
     },
     "metadata":{
      
     },
     "output_type":"display_data"
    }
   ],
   "metadata":{
    "datalore":{
     "node_id":"IQrfxRNnbkrWOKUoKjWwMi",
     "type":"CODE",
     "hide_input_from_viewers":true,
     "hide_output_from_viewers":true
    }
   }
  },
  {
   "cell_type":"code",
   "source":[
    "data['workclass'].value_counts()"
   ],
   "execution_count":23,
   "outputs":[
    {
     "data":{
      "text\/html":[
       "<pre> Private             2070\n",
       " Self-emp-not-inc     234\n",
       " ?                    192\n",
       " Local-gov            182\n",
       " Self-emp-inc         117\n",
       " State-gov            115\n",
       " Federal-gov           88\n",
       " Without-pay            1\n",
       " Never-worked           1\n",
       "Name: workclass, dtype: int64<\/pre>"
      ]
     },
     "metadata":{
      
     },
     "output_type":"display_data"
    }
   ],
   "metadata":{
    "datalore":{
     "node_id":"WJcadrHVJBjgziJX4k9yBv",
     "type":"CODE",
     "hide_input_from_viewers":true,
     "hide_output_from_viewers":true
    }
   }
  },
  {
   "cell_type":"markdown",
   "source":[
    "**Q2. How many males and females exist in the dataset? In a new cell, use a correct command to answer the question and write your answer**"
   ],
   "attachments":{
    
   },
   "metadata":{
    "datalore":{
     "node_id":"pbt4rdItgeqa0oNBBLLLRX",
     "type":"MD",
     "hide_input_from_viewers":true,
     "hide_output_from_viewers":true
    }
   }
  },
  {
   "cell_type":"code",
   "source":[
    "data['sex'].value_counts()"
   ],
   "execution_count":24,
   "outputs":[
    {
     "data":{
      "text\/html":[
       "<pre> Male      1982\n",
       " Female    1018\n",
       "Name: sex, dtype: int64<\/pre>"
      ]
     },
     "metadata":{
      
     },
     "output_type":"display_data"
    }
   ],
   "metadata":{
    "datalore":{
     "node_id":"a8sbvPIGETob834ZPGZctr",
     "type":"CODE",
     "hide_input_from_viewers":true,
     "hide_output_from_viewers":true
    }
   }
  },
  {
   "cell_type":"markdown",
   "source":[
    "# Applying groupby functions in order to summarise the data"
   ],
   "attachments":{
    
   },
   "metadata":{
    "datalore":{
     "node_id":"RLOJ5adcasd3baelsKDxzQ",
     "type":"MD",
     "hide_input_from_viewers":true,
     "hide_output_from_viewers":true
    }
   }
  },
  {
   "cell_type":"markdown",
   "source":[
    "`groupby` is used with aggregate functions, which are useful to summarise the dataset & make observations. \n",
    "\n",
    "some common functions include: `sum`, `mean`, `max`,`min`, `count`."
   ],
   "attachments":{
    
   },
   "metadata":{
    "datalore":{
     "node_id":"b1JonafXIhiSGyfu3biNdy",
     "type":"MD",
     "hide_input_from_viewers":true,
     "hide_output_from_viewers":true
    }
   }
  },
  {
   "cell_type":"code",
   "source":[
    "\n",
    "data['age'].groupby([data['sex']]).mean()"
   ],
   "execution_count":25,
   "outputs":[
    {
     "data":{
      "text\/html":[
       "<pre>sex\n",
       " Female    37.511788\n",
       " Male      38.946014\n",
       "Name: age, dtype: float64<\/pre>"
      ]
     },
     "metadata":{
      
     },
     "output_type":"display_data"
    }
   ],
   "metadata":{
    "datalore":{
     "node_id":"YB2M5qXE5RH4ZWiu3HTXQw",
     "type":"CODE",
     "hide_input_from_viewers":true,
     "hide_output_from_viewers":true
    }
   }
  },
  {
   "cell_type":"markdown",
   "source":[
    "In the above cell, `sex` is `groupby` and computed the mean`age`."
   ],
   "attachments":{
    
   },
   "metadata":{
    "datalore":{
     "node_id":"NNQxw1gkpl4htknf6fo5a1",
     "type":"MD",
     "hide_input_from_viewers":true,
     "hide_output_from_viewers":true
    }
   }
  },
  {
   "cell_type":"markdown",
   "source":[
    "**Q: What is the average age of male & females across different education categories?**"
   ],
   "attachments":{
    
   },
   "metadata":{
    "datalore":{
     "node_id":"BOCeh9VjhA7zfKAtjIebGu",
     "type":"MD",
     "hide_input_from_viewers":true,
     "hide_output_from_viewers":true
    }
   }
  },
  {
   "cell_type":"code",
   "source":[
    "data['age'].groupby([data['sex'],data['education']]).mean()"
   ],
   "execution_count":26,
   "outputs":[
    {
     "data":{
      "text\/html":[
       "<pre>sex      education    \n",
       " Female   10th            38.476190\n",
       "          11th            32.825000\n",
       "          12th            25.833333\n",
       "          1st-4th         42.000000\n",
       "          5th-6th         39.750000\n",
       "          7th-8th         50.150000\n",
       "          9th             44.100000\n",
       "          Assoc-acdm      37.047619\n",
       "          Assoc-voc       38.735849\n",
       "          Bachelors       34.954545\n",
       "          Doctorate       47.166667\n",
       "          HS-grad         39.383648\n",
       "          Masters         42.511111\n",
       "          Preschool       46.000000\n",
       "          Prof-school     40.636364\n",
       "          Some-college    35.166667\n",
       " Male     10th            35.932203\n",
       "          11th            36.409836\n",
       "          12th            35.346154\n",
       "          1st-4th         54.500000\n",
       "          5th-6th         40.238095\n",
       "          7th-8th         48.270270\n",
       "          9th             37.525000\n",
       "          Assoc-acdm      36.822581\n",
       "          Assoc-voc       38.525000\n",
       "          Bachelors       38.864407\n",
       "          Doctorate       53.416667\n",
       "          HS-grad         38.446617\n",
       "          Masters         44.734694\n",
       "          Preschool       51.800000\n",
       "          Prof-school     43.351351\n",
       "          Some-college    37.476658\n",
       "Name: age, dtype: float64<\/pre>"
      ]
     },
     "metadata":{
      
     },
     "output_type":"display_data"
    }
   ],
   "metadata":{
    "datalore":{
     "node_id":"lxnOaK12ThxZ23GnVoDg77",
     "type":"CODE",
     "hide_input_from_viewers":true,
     "hide_output_from_viewers":true
    }
   }
  },
  {
   "cell_type":"markdown",
   "source":[
    "In the cell above, `sex` and `education` is groupby and computed mean `age` in the given population.\n",
    "\n",
    "**`groupby` can be applied on numeric attributes ONLY**"
   ],
   "attachments":{
    
   },
   "metadata":{
    "datalore":{
     "node_id":"iRsNlZfSNnmsvA9RRTqAnz",
     "type":"MD",
     "hide_input_from_viewers":true,
     "hide_output_from_viewers":true
    }
   }
  },
  {
   "cell_type":"markdown",
   "source":[
    "**Q3: What is the average contribution to capital-gain of each sex and occupation category?**"
   ],
   "attachments":{
    
   },
   "metadata":{
    "datalore":{
     "node_id":"30YXLYUEfaPBnbspw8nqBf",
     "type":"MD",
     "hide_input_from_viewers":true,
     "hide_output_from_viewers":true
    }
   }
  },
  {
   "cell_type":"code",
   "source":[
    "data[' cap-gain'].groupby([data['sex'], data['occupation']]).mean()"
   ],
   "execution_count":27,
   "outputs":[
    {
     "data":{
      "text\/html":[
       "<pre>sex      occupation        \n",
       " Female   ?                      307.670330\n",
       "          Adm-clerical           718.510121\n",
       "          Craft-repair          3333.300000\n",
       "          Exec-managerial        921.039216\n",
       "          Farming-fishing       1502.857143\n",
       "          Handlers-cleaners      755.714286\n",
       "          Machine-op-inspct      459.944444\n",
       "          Other-service           72.792453\n",
       "          Priv-house-serv          0.000000\n",
       "          Prof-specialty        1377.940299\n",
       "          Protective-serv      19999.800000\n",
       "          Sales                  543.544643\n",
       "          Tech-support           630.844444\n",
       "          Transport-moving      3091.714286\n",
       " Male     ?                      452.911765\n",
       "          Adm-clerical           401.549550\n",
       "          Armed-Forces             0.000000\n",
       "          Craft-repair           423.531609\n",
       "          Exec-managerial       3165.140625\n",
       "          Farming-fishing        114.813953\n",
       "          Handlers-cleaners      232.900000\n",
       "          Machine-op-inspct      287.625000\n",
       "          Other-service          148.057851\n",
       "          Priv-house-serv        297.000000\n",
       "          Prof-specialty        3376.412556\n",
       "          Protective-serv        393.358491\n",
       "          Sales                 1957.013453\n",
       "          Tech-support           554.932203\n",
       "          Transport-moving       533.872483\n",
       "Name:  cap-gain, dtype: float64<\/pre>"
      ]
     },
     "metadata":{
      
     },
     "output_type":"display_data"
    }
   ],
   "metadata":{
    "datalore":{
     "node_id":"1bNZwvhtAjSFGQ800UYrF4",
     "type":"CODE",
     "hide_input_from_viewers":true,
     "hide_output_from_viewers":true
    }
   }
  },
  {
   "cell_type":"markdown",
   "source":[
    "**Q4: Identify the average capital-gain by females across different marital-status**"
   ],
   "attachments":{
    
   },
   "metadata":{
    "datalore":{
     "node_id":"M4OP4SK80dMV50qUGbYyC8",
     "type":"MD",
     "hide_input_from_viewers":true,
     "hide_output_from_viewers":true
    }
   }
  },
  {
   "cell_type":"code",
   "source":[
    "data.groupby(by='sex').describe()"
   ],
   "execution_count":28,
   "outputs":[
    {
     "data":{
      "text\/html":[
       "<div>\n",
       "<style scoped>\n",
       "    .dataframe tbody tr th:only-of-type {\n",
       "        vertical-align: middle;\n",
       "    }\n",
       "\n",
       "    .dataframe tbody tr th {\n",
       "        vertical-align: top;\n",
       "    }\n",
       "\n",
       "    .dataframe thead tr th {\n",
       "        text-align: left;\n",
       "    }\n",
       "\n",
       "    .dataframe thead tr:last-of-type th {\n",
       "        text-align: right;\n",
       "    }\n",
       "<\/style>\n",
       "<table border=\"1\" class=\"dataframe\">\n",
       "  <thead>\n",
       "    <tr>\n",
       "      <th><\/th>\n",
       "      <th colspan=\"8\" halign=\"left\">age<\/th>\n",
       "      <th colspan=\"2\" halign=\"left\">edu-num<\/th>\n",
       "      <th>...<\/th>\n",
       "      <th colspan=\"2\" halign=\"left\">capital-loss<\/th>\n",
       "      <th colspan=\"8\" halign=\"left\">hrs per wk<\/th>\n",
       "    <\/tr>\n",
       "    <tr>\n",
       "      <th><\/th>\n",
       "      <th>count<\/th>\n",
       "      <th>mean<\/th>\n",
       "      <th>std<\/th>\n",
       "      <th>min<\/th>\n",
       "      <th>25%<\/th>\n",
       "      <th>50%<\/th>\n",
       "      <th>75%<\/th>\n",
       "      <th>max<\/th>\n",
       "      <th>count<\/th>\n",
       "      <th>mean<\/th>\n",
       "      <th>...<\/th>\n",
       "      <th>75%<\/th>\n",
       "      <th>max<\/th>\n",
       "      <th>count<\/th>\n",
       "      <th>mean<\/th>\n",
       "      <th>std<\/th>\n",
       "      <th>min<\/th>\n",
       "      <th>25%<\/th>\n",
       "      <th>50%<\/th>\n",
       "      <th>75%<\/th>\n",
       "      <th>max<\/th>\n",
       "    <\/tr>\n",
       "    <tr>\n",
       "      <th>sex<\/th>\n",
       "      <th><\/th>\n",
       "      <th><\/th>\n",
       "      <th><\/th>\n",
       "      <th><\/th>\n",
       "      <th><\/th>\n",
       "      <th><\/th>\n",
       "      <th><\/th>\n",
       "      <th><\/th>\n",
       "      <th><\/th>\n",
       "      <th><\/th>\n",
       "      <th><\/th>\n",
       "      <th><\/th>\n",
       "      <th><\/th>\n",
       "      <th><\/th>\n",
       "      <th><\/th>\n",
       "      <th><\/th>\n",
       "      <th><\/th>\n",
       "      <th><\/th>\n",
       "      <th><\/th>\n",
       "      <th><\/th>\n",
       "      <th><\/th>\n",
       "    <\/tr>\n",
       "  <\/thead>\n",
       "  <tbody>\n",
       "    <tr>\n",
       "      <th>Female<\/th>\n",
       "      <td>1018.0<\/td>\n",
       "      <td>37.511788<\/td>\n",
       "      <td>14.228863<\/td>\n",
       "      <td>17.0<\/td>\n",
       "      <td>25.0<\/td>\n",
       "      <td>35.0<\/td>\n",
       "      <td>47.0<\/td>\n",
       "      <td>85.0<\/td>\n",
       "      <td>1018.0<\/td>\n",
       "      <td>10.032417<\/td>\n",
       "      <td>...<\/td>\n",
       "      <td>0.0<\/td>\n",
       "      <td>3770.0<\/td>\n",
       "      <td>1018.0<\/td>\n",
       "      <td>37.320236<\/td>\n",
       "      <td>11.472836<\/td>\n",
       "      <td>3.0<\/td>\n",
       "      <td>35.0<\/td>\n",
       "      <td>40.0<\/td>\n",
       "      <td>40.0<\/td>\n",
       "      <td>99.0<\/td>\n",
       "    <\/tr>\n",
       "    <tr>\n",
       "      <th>Male<\/th>\n",
       "      <td>1982.0<\/td>\n",
       "      <td>38.946014<\/td>\n",
       "      <td>13.204546<\/td>\n",
       "      <td>17.0<\/td>\n",
       "      <td>29.0<\/td>\n",
       "      <td>38.0<\/td>\n",
       "      <td>47.0<\/td>\n",
       "      <td>90.0<\/td>\n",
       "      <td>1982.0<\/td>\n",
       "      <td>10.095358<\/td>\n",
       "      <td>...<\/td>\n",
       "      <td>0.0<\/td>\n",
       "      <td>3770.0<\/td>\n",
       "      <td>1982.0<\/td>\n",
       "      <td>42.690716<\/td>\n",
       "      <td>11.686408<\/td>\n",
       "      <td>3.0<\/td>\n",
       "      <td>40.0<\/td>\n",
       "      <td>40.0<\/td>\n",
       "      <td>50.0<\/td>\n",
       "      <td>99.0<\/td>\n",
       "    <\/tr>\n",
       "  <\/tbody>\n",
       "<\/table>\n",
       "<p>2 rows × 40 columns<\/p>\n",
       "<\/div>"
      ]
     },
     "metadata":{
      
     },
     "output_type":"display_data"
    }
   ],
   "metadata":{
    "datalore":{
     "node_id":"iv7wsQwJASB6OoVMGffo8t",
     "type":"CODE",
     "hide_input_from_viewers":true,
     "hide_output_from_viewers":true
    }
   }
  },
  {
   "cell_type":"markdown",
   "source":[
    "In the cell above, practice using `groupby` `by=` to isolate male and female data."
   ],
   "attachments":{
    
   },
   "metadata":{
    "datalore":{
     "node_id":"fuG06Ocy806L6G2JdH4f7Q",
     "type":"MD",
     "hide_input_from_viewers":true,
     "hide_output_from_viewers":true
    }
   }
  },
  {
   "cell_type":"code",
   "source":[
    "print(data[['Marital-St']].to_string(index= False))"
   ],
   "execution_count":29,
   "outputs":[
    {
     "name":"stdout",
     "text":[
      "            Marital-St\n",
      "               Widowed\n",
      "    Married-civ-spouse\n",
      "    Married-civ-spouse\n",
      "              Divorced\n",
      "         Never-married\n",
      "    Married-civ-spouse\n",
      "    Married-civ-spouse\n",
      "              Divorced\n",
      "             Separated\n",
      "         Never-married\n",
      "    Married-civ-spouse\n",
      "         Never-married\n",
      "    Married-civ-spouse\n",
      "    Married-civ-spouse\n",
      "    Married-civ-spouse\n",
      "         Never-married\n",
      "         Never-married\n",
      "    Married-civ-spouse\n",
      "    Married-civ-spouse\n",
      "         Never-married\n",
      "    Married-civ-spouse\n",
      "         Never-married\n",
      "    Married-civ-spouse\n",
      "             Separated\n",
      "              Divorced\n",
      "              Divorced\n",
      "              Divorced\n",
      "    Married-civ-spouse\n",
      "    Married-civ-spouse\n",
      "         Never-married\n",
      "         Never-married\n",
      "    Married-civ-spouse\n",
      "    Married-civ-spouse\n",
      "         Never-married\n",
      "    Married-civ-spouse\n",
      "             Separated\n",
      "    Married-civ-spouse\n",
      "    Married-civ-spouse\n",
      "    Married-civ-spouse\n",
      "         Never-married\n",
      "              Divorced\n",
      "         Never-married\n",
      "         Never-married\n",
      "         Never-married\n",
      "              Divorced\n",
      "         Never-married\n",
      "    Married-civ-spouse\n",
      "    Married-civ-spouse\n",
      "               Widowed\n",
      "    Married-civ-spouse\n",
      "         Never-married\n",
      "             Separated\n",
      "         Never-married\n",
      "         Never-married\n",
      "    Married-civ-spouse\n",
      "              Divorced\n",
      "    Married-civ-spouse\n",
      " Married-spouse-absent\n",
      "         Never-married\n",
      "         Never-married\n",
      "         Never-married\n",
      "         Never-married\n",
      "    Married-civ-spouse\n",
      "              Divorced\n",
      "    Married-civ-spouse\n",
      "         Never-married\n",
      "         Never-married\n",
      "             Separated\n",
      "    Married-civ-spouse\n",
      "         Never-married\n",
      "         Never-married\n",
      "    Married-civ-spouse\n",
      "    Married-civ-spouse\n",
      "    Married-civ-spouse\n",
      "    Married-civ-spouse\n",
      "              Divorced\n",
      "         Never-married\n",
      "    Married-civ-spouse\n",
      "         Never-married\n",
      "              Divorced\n",
      "    Married-civ-spouse\n",
      "    Married-civ-spouse\n",
      "         Never-married\n",
      "         Never-married\n",
      "    Married-civ-spouse\n",
      "         Never-married\n",
      "         Never-married\n",
      "               Widowed\n",
      "         Never-married\n",
      "         Never-married\n",
      "    Married-civ-spouse\n",
      "    Married-civ-spouse\n",
      "              Divorced\n",
      "         Never-married\n",
      "              Divorced\n",
      "    Married-civ-spouse\n",
      "    Married-civ-spouse\n",
      "               Widowed\n",
      " Married-spouse-absent\n",
      "         Never-married\n",
      "              Divorced\n",
      "         Never-married\n",
      "         Never-married\n",
      "    Married-civ-spouse\n",
      "    Married-civ-spouse\n",
      "    Married-civ-spouse\n",
      "    Married-civ-spouse\n",
      "              Divorced\n",
      "    Married-civ-spouse\n",
      "              Divorced\n",
      "    Married-civ-spouse\n",
      "         Never-married\n",
      "         Never-married\n",
      "    Married-civ-spouse\n",
      "    Married-civ-spouse\n",
      "         Never-married\n",
      "    Married-civ-spouse\n",
      "    Married-civ-spouse\n",
      "         Never-married\n",
      "              Divorced\n",
      "    Married-civ-spouse\n",
      "    Married-civ-spouse\n",
      "    Married-civ-spouse\n",
      "    Married-civ-spouse\n",
      "    Married-civ-spouse\n",
      "         Never-married\n",
      "              Divorced\n",
      "         Never-married\n",
      "    Married-civ-spouse\n",
      "         Never-married\n",
      "    Married-civ-spouse\n",
      "    Married-civ-spouse\n",
      "    Married-civ-spouse\n",
      "    Married-civ-spouse\n",
      "         Never-married\n",
      "              Divorced\n",
      "              Divorced\n",
      "         Never-married\n",
      "              Divorced\n",
      "         Never-married\n",
      "    Married-civ-spouse\n",
      "         Never-married\n",
      "    Married-civ-spouse\n",
      "         Never-married\n",
      "              Divorced\n",
      "         Never-married\n",
      "         Never-married\n",
      "    Married-civ-spouse\n",
      "         Never-married\n",
      "    Married-civ-spouse\n",
      "    Married-civ-spouse\n",
      "              Divorced\n",
      "    Married-civ-spouse\n",
      "             Separated\n",
      "              Divorced\n",
      "         Never-married\n",
      "    Married-civ-spouse\n",
      "    Married-civ-spouse\n",
      "              Divorced\n",
      "    Married-civ-spouse\n",
      "    Married-civ-spouse\n",
      "    Married-civ-spouse\n",
      "    Married-civ-spouse\n",
      "    Married-civ-spouse\n",
      "         Never-married\n",
      "    Married-civ-spouse\n",
      "             Separated\n",
      "    Married-civ-spouse\n",
      "         Never-married\n",
      "    Married-civ-spouse\n",
      "         Never-married\n",
      "         Never-married\n",
      "    Married-civ-spouse\n",
      "    Married-civ-spouse\n",
      "    Married-civ-spouse\n",
      "              Divorced\n",
      "              Divorced\n",
      "    Married-civ-spouse\n",
      "         Never-married\n",
      "    Married-civ-spouse\n",
      "    Married-civ-spouse\n",
      "              Divorced\n",
      "    Married-civ-spouse\n",
      "              Divorced\n",
      "    Married-civ-spouse\n",
      "    Married-civ-spouse\n",
      "         Never-married\n",
      "    Married-civ-spouse\n",
      "         Never-married\n",
      "         Never-married\n",
      "              Divorced\n",
      "    Married-civ-spouse\n",
      "    Married-civ-spouse\n",
      "         Never-married\n",
      "         Never-married\n",
      "         Never-married\n",
      "               Widowed\n",
      "    Married-civ-spouse\n",
      "    Married-civ-spouse\n",
      "    Married-civ-spouse\n",
      "    Married-civ-spouse\n",
      "         Never-married\n",
      "    Married-civ-spouse\n",
      "         Never-married\n",
      "    Married-civ-spouse\n",
      "         Never-married\n",
      "              Divorced\n",
      "         Never-married\n",
      "    Married-civ-spouse\n",
      "              Divorced\n",
      "              Divorced\n",
      "    Married-civ-spouse\n",
      "         Never-married\n",
      "    Married-civ-spouse\n",
      "    Married-civ-spouse\n",
      "    Married-civ-spouse\n",
      "              Divorced\n",
      "         Never-married\n",
      "    Married-civ-spouse\n",
      "    Married-civ-spouse\n",
      "    Married-civ-spouse\n",
      "         Never-married\n",
      "    Married-civ-spouse\n",
      "    Married-civ-spouse\n",
      "    Married-civ-spouse\n",
      "         Never-married\n",
      "    Married-civ-spouse\n",
      "         Never-married\n",
      "              Divorced\n",
      "               Widowed\n",
      "         Never-married\n",
      "         Never-married\n",
      "         Never-married\n",
      "    Married-civ-spouse\n",
      "    Married-civ-spouse\n",
      "    Married-civ-spouse\n",
      "              Divorced\n",
      "    Married-civ-spouse\n",
      "         Never-married\n",
      "         Never-married\n",
      "    Married-civ-spouse\n",
      "    Married-civ-spouse\n",
      "         Never-married\n",
      "              Divorced\n",
      "    Married-civ-spouse\n",
      "             Separated\n",
      "    Married-civ-spouse\n",
      "    Married-civ-spouse\n",
      "              Divorced\n",
      "              Divorced\n",
      "    Married-civ-spouse\n",
      "    Married-civ-spouse\n",
      "         Never-married\n",
      "         Never-married\n",
      "              Divorced\n",
      "         Never-married\n",
      "    Married-civ-spouse\n",
      "              Divorced\n",
      "    Married-civ-spouse\n",
      "    Married-civ-spouse\n",
      "    Married-civ-spouse\n",
      "         Never-married\n",
      "         Never-married\n",
      "    Married-civ-spouse\n",
      "         Never-married\n",
      "         Never-married\n",
      "              Divorced\n",
      "         Never-married\n",
      "    Married-civ-spouse\n",
      "    Married-civ-spouse\n",
      "    Married-civ-spouse\n",
      "         Never-married\n",
      "         Never-married\n",
      "              Divorced\n",
      "    Married-civ-spouse\n",
      "    Married-civ-spouse\n",
      "              Divorced\n",
      "         Never-married\n",
      "         Never-married\n",
      "         Never-married\n",
      "              Divorced\n",
      "         Never-married\n",
      "    Married-civ-spouse\n",
      "    Married-civ-spouse\n",
      "    Married-civ-spouse\n",
      "    Married-civ-spouse\n",
      "               Widowed\n",
      "         Never-married\n",
      "     Married-AF-spouse\n",
      "    Married-civ-spouse\n",
      "         Never-married\n",
      "         Never-married\n",
      "    Married-civ-spouse\n",
      "    Married-civ-spouse\n",
      "    Married-civ-spouse\n",
      "    Married-civ-spouse\n",
      "    Married-civ-spouse\n",
      "         Never-married\n",
      "    Married-civ-spouse\n",
      "               Widowed\n",
      "    Married-civ-spouse\n",
      "              Divorced\n",
      "         Never-married\n",
      "              Divorced\n",
      "    Married-civ-spouse\n",
      "               Widowed\n",
      "    Married-civ-spouse\n",
      "    Married-civ-spouse\n",
      "         Never-married\n",
      "    Married-civ-spouse\n",
      "         Never-married\n",
      "    Married-civ-spouse\n",
      "    Married-civ-spouse\n",
      "    Married-civ-spouse\n",
      "    Married-civ-spouse\n",
      "              Divorced\n",
      "         Never-married\n",
      "         Never-married\n",
      "              Divorced\n",
      "         Never-married\n",
      "         Never-married\n",
      "    Married-civ-spouse\n",
      "         Never-married\n",
      "              Divorced\n",
      "    Married-civ-spouse\n",
      "         Never-married\n",
      "    Married-civ-spouse\n",
      "         Never-married\n",
      "    Married-civ-spouse\n",
      "         Never-married\n",
      "              Divorced\n",
      "              Divorced\n",
      "    Married-civ-spouse\n",
      "         Never-married\n",
      "              Divorced\n",
      "    Married-civ-spouse\n",
      "    Married-civ-spouse\n",
      "              Divorced\n",
      "         Never-married\n",
      " Married-spouse-absent\n",
      "             Separated\n",
      "         Never-married\n",
      "         Never-married\n",
      "    Married-civ-spouse\n",
      "    Married-civ-spouse\n",
      "         Never-married\n",
      "    Married-civ-spouse\n",
      "    Married-civ-spouse\n",
      "         Never-married\n",
      "         Never-married\n",
      "    Married-civ-spouse\n",
      "    Married-civ-spouse\n",
      "         Never-married\n",
      "         Never-married\n",
      "               Widowed\n",
      "         Never-married\n",
      "    Married-civ-spouse\n",
      "    Married-civ-spouse\n",
      "         Never-married\n",
      "    Married-civ-spouse\n",
      "              Divorced\n",
      "    Married-civ-spouse\n",
      "         Never-married\n",
      "    Married-civ-spouse\n",
      "    Married-civ-spouse\n",
      "    Married-civ-spouse\n",
      "              Divorced\n",
      "         Never-married\n",
      "    Married-civ-spouse\n",
      "         Never-married\n",
      "         Never-married\n",
      "    Married-civ-spouse\n",
      "         Never-married\n",
      "    Married-civ-spouse\n",
      "         Never-married\n",
      "    Married-civ-spouse\n",
      "    Married-civ-spouse\n",
      "         Never-married\n",
      "         Never-married\n",
      "              Divorced\n",
      "    Married-civ-spouse\n",
      "    Married-civ-spouse\n",
      "    Married-civ-spouse\n",
      "    Married-civ-spouse\n",
      "         Never-married\n",
      "    Married-civ-spouse\n",
      "         Never-married\n",
      "         Never-married\n",
      "    Married-civ-spouse\n",
      "         Never-married\n",
      "               Widowed\n",
      "         Never-married\n",
      "    Married-civ-spouse\n",
      "    Married-civ-spouse\n",
      "         Never-married\n",
      "    Married-civ-spouse\n",
      "         Never-married\n",
      "         Never-married\n",
      "         Never-married\n",
      "    Married-civ-spouse\n",
      "    Married-civ-spouse\n",
      "             Separated\n",
      "         Never-married\n",
      "    Married-civ-spouse\n",
      "    Married-civ-spouse\n",
      "    Married-civ-spouse\n",
      "              Divorced\n",
      "              Divorced\n",
      "    Married-civ-spouse\n",
      "              Divorced\n",
      "         Never-married\n",
      "              Divorced\n",
      "    Married-civ-spouse\n",
      "         Never-married\n",
      "    Married-civ-spouse\n",
      "              Divorced\n",
      "         Never-married\n",
      "         Never-married\n",
      "              Divorced\n",
      "         Never-married\n",
      "    Married-civ-spouse\n",
      "    Married-civ-spouse\n",
      "         Never-married\n",
      "    Married-civ-spouse\n",
      "    Married-civ-spouse\n",
      "    Married-civ-spouse\n",
      "    Married-civ-spouse\n",
      "         Never-married\n",
      "         Never-married\n",
      "    Married-civ-spouse\n",
      "         Never-married\n",
      "    Married-civ-spouse\n",
      "         Never-married\n",
      "    Married-civ-spouse\n",
      "         Never-married\n",
      "    Married-civ-spouse\n",
      "    Married-civ-spouse\n",
      "               Widowed\n",
      "    Married-civ-spouse\n",
      "    Married-civ-spouse\n",
      "    Married-civ-spouse\n",
      "    Married-civ-spouse\n",
      "         Never-married\n",
      "         Never-married\n",
      "    Married-civ-spouse\n",
      "         Never-married\n",
      "    Married-civ-spouse\n",
      "              Divorced\n",
      "         Never-married\n",
      "    Married-civ-spouse\n",
      "    Married-civ-spouse\n",
      "    Married-civ-spouse\n",
      "         Never-married\n",
      "    Married-civ-spouse\n",
      "              Divorced\n",
      "              Divorced\n",
      "    Married-civ-spouse\n",
      "         Never-married\n",
      "              Divorced\n",
      "              Divorced\n",
      "         Never-married\n",
      "         Never-married\n",
      "    Married-civ-spouse\n",
      "         Never-married\n",
      "              Divorced\n",
      "    Married-civ-spouse\n",
      "    Married-civ-spouse\n",
      "              Divorced\n",
      "         Never-married\n",
      "         Never-married\n",
      "              Divorced\n",
      "    Married-civ-spouse\n",
      "         Never-married\n",
      "    Married-civ-spouse\n",
      "         Never-married\n",
      "         Never-married\n",
      "    Married-civ-spouse\n",
      "               Widowed\n",
      "               Widowed\n",
      "    Married-civ-spouse\n",
      "    Married-civ-spouse\n",
      "    Married-civ-spouse\n",
      "    Married-civ-spouse\n",
      "         Never-married\n",
      "         Never-married\n",
      "             Separated\n",
      "    Married-civ-spouse\n",
      "         Never-married\n",
      "    Married-civ-spouse\n",
      "         Never-married\n",
      "         Never-married\n",
      "         Never-married\n",
      "              Divorced\n",
      "              Divorced\n",
      "               Widowed\n",
      "              Divorced\n",
      "         Never-married\n",
      "    Married-civ-spouse\n",
      "    Married-civ-spouse\n",
      "    Married-civ-spouse\n",
      "         Never-married\n",
      "              Divorced\n",
      "         Never-married\n",
      "    Married-civ-spouse\n",
      "         Never-married\n",
      "         Never-married\n",
      "         Never-married\n",
      "    Married-civ-spouse\n",
      "         Never-married\n",
      "    Married-civ-spouse\n",
      "    Married-civ-spouse\n",
      "         Never-married\n",
      "         Never-married\n",
      "              Divorced\n",
      "             Separated\n",
      "         Never-married\n",
      "              Divorced\n",
      "             Separated\n",
      "    Married-civ-spouse\n",
      "              Divorced\n",
      "              Divorced\n",
      "         Never-married\n",
      "              Divorced\n",
      "              Divorced\n",
      "              Divorced\n",
      "    Married-civ-spouse\n",
      "    Married-civ-spouse\n",
      "         Never-married\n",
      "         Never-married\n",
      "               Widowed\n",
      "         Never-married\n",
      " Married-spouse-absent\n",
      "    Married-civ-spouse\n",
      "         Never-married\n",
      "         Never-married\n",
      "              Divorced\n",
      "         Never-married\n",
      "    Married-civ-spouse\n",
      "         Never-married\n",
      "    Married-civ-spouse\n",
      "    Married-civ-spouse\n",
      "              Divorced\n",
      "    Married-civ-spouse\n",
      "         Never-married\n",
      "    Married-civ-spouse\n",
      "         Never-married\n",
      "    Married-civ-spouse\n",
      "         Never-married\n",
      "    Married-civ-spouse\n",
      "             Separated\n",
      "         Never-married\n",
      "    Married-civ-spouse\n",
      "         Never-married\n",
      "    Married-civ-spouse\n",
      "               Widowed\n",
      "    Married-civ-spouse\n",
      "         Never-married\n",
      "              Divorced\n",
      "         Never-married\n",
      "              Divorced\n",
      "    Married-civ-spouse\n",
      "              Divorced\n",
      "              Divorced\n",
      "              Divorced\n",
      "               Widowed\n",
      "         Never-married\n",
      "         Never-married\n",
      "         Never-married\n",
      "              Divorced\n",
      "    Married-civ-spouse\n",
      "         Never-married\n",
      "    Married-civ-spouse\n",
      "         Never-married\n",
      "         Never-married\n",
      "    Married-civ-spouse\n",
      "    Married-civ-spouse\n",
      "             Separated\n",
      "    Married-civ-spouse\n",
      "              Divorced\n",
      " Married-spouse-absent\n",
      "         Never-married\n",
      "         Never-married\n",
      "         Never-married\n",
      "         Never-married\n",
      "    Married-civ-spouse\n",
      "    Married-civ-spouse\n",
      "               Widowed\n",
      "    Married-civ-spouse\n",
      "    Married-civ-spouse\n",
      "         Never-married\n",
      "         Never-married\n",
      "    Married-civ-spouse\n",
      "         Never-married\n",
      "    Married-civ-spouse\n",
      "         Never-married\n",
      "         Never-married\n",
      "    Married-civ-spouse\n",
      "              Divorced\n",
      "         Never-married\n",
      "         Never-married\n",
      "    Married-civ-spouse\n",
      "              Divorced\n",
      "    Married-civ-spouse\n",
      "    Married-civ-spouse\n",
      "              Divorced\n",
      "         Never-married\n",
      "    Married-civ-spouse\n",
      "         Never-married\n",
      "         Never-married\n",
      "         Never-married\n",
      "    Married-civ-spouse\n",
      "         Never-married\n",
      "    Married-civ-spouse\n",
      "    Married-civ-spouse\n",
      "     Married-AF-spouse\n",
      "    Married-civ-spouse\n",
      "         Never-married\n",
      "               Widowed\n",
      "    Married-civ-spouse\n",
      "             Separated\n",
      "    Married-civ-spouse\n",
      "    Married-civ-spouse\n",
      "              Divorced\n",
      "    Married-civ-spouse\n",
      "         Never-married\n",
      "    Married-civ-spouse\n",
      "    Married-civ-spouse\n",
      "         Never-married\n",
      "    Married-civ-spouse\n",
      "              Divorced\n",
      "    Married-civ-spouse\n",
      "         Never-married\n",
      "              Divorced\n",
      "         Never-married\n",
      "         Never-married\n",
      "    Married-civ-spouse\n",
      "    Married-civ-spouse\n",
      "    Married-civ-spouse\n",
      "    Married-civ-spouse\n",
      "    Married-civ-spouse\n",
      "         Never-married\n",
      "    Married-civ-spouse\n",
      "         Never-married\n",
      "    Married-civ-spouse\n",
      "         Never-married\n",
      "         Never-married\n",
      "         Never-married\n",
      "         Never-married\n",
      "    Married-civ-spouse\n",
      "         Never-married\n",
      "    Married-civ-spouse\n",
      "         Never-married\n",
      "    Married-civ-spouse\n",
      "    Married-civ-spouse\n",
      "    Married-civ-spouse\n",
      "    Married-civ-spouse\n",
      "         Never-married\n",
      "             Separated\n",
      "    Married-civ-spouse\n",
      "    Married-civ-spouse\n",
      "         Never-married\n",
      "    Married-civ-spouse\n",
      "         Never-married\n",
      "    Married-civ-spouse\n",
      "    Married-civ-spouse\n",
      "    Married-civ-spouse\n",
      "         Never-married\n",
      "         Never-married\n",
      "         Never-married\n",
      "    Married-civ-spouse\n",
      "    Married-civ-spouse\n",
      "    Married-civ-spouse\n",
      "    Married-civ-spouse\n",
      "    Married-civ-spouse\n",
      "         Never-married\n",
      "    Married-civ-spouse\n",
      "         Never-married\n",
      "         Never-married\n",
      "    Married-civ-spouse\n",
      "         Never-married\n",
      "    Married-civ-spouse\n",
      "         Never-married\n",
      "         Never-married\n",
      "    Married-civ-spouse\n",
      "    Married-civ-spouse\n",
      "    Married-civ-spouse\n",
      "    Married-civ-spouse\n",
      "    Married-civ-spouse\n",
      "               Widowed\n",
      "         Never-married\n",
      "         Never-married\n",
      "    Married-civ-spouse\n",
      "         Never-married\n",
      "         Never-married\n",
      "    Married-civ-spouse\n",
      "    Married-civ-spouse\n",
      "    Married-civ-spouse\n",
      "    Married-civ-spouse\n",
      "         Never-married\n",
      "    Married-civ-spouse\n",
      "         Never-married\n",
      "    Married-civ-spouse\n",
      "         Never-married\n",
      "    Married-civ-spouse\n",
      "         Never-married\n",
      "               Widowed\n",
      "    Married-civ-spouse\n",
      "    Married-civ-spouse\n",
      "    Married-civ-spouse\n",
      "    Married-civ-spouse\n",
      "    Married-civ-spouse\n",
      "             Separated\n",
      "         Never-married\n",
      "    Married-civ-spouse\n",
      "               Widowed\n",
      "    Married-civ-spouse\n",
      "              Divorced\n",
      "         Never-married\n",
      "              Divorced\n",
      " Married-spouse-absent\n",
      "    Married-civ-spouse\n",
      "         Never-married\n",
      "         Never-married\n",
      "    Married-civ-spouse\n",
      "         Never-married\n",
      "    Married-civ-spouse\n",
      "    Married-civ-spouse\n",
      "         Never-married\n",
      "              Divorced\n",
      "         Never-married\n",
      "         Never-married\n",
      "    Married-civ-spouse\n",
      "    Married-civ-spouse\n",
      "         Never-married\n",
      "         Never-married\n",
      "    Married-civ-spouse\n",
      "         Never-married\n",
      "    Married-civ-spouse\n",
      "    Married-civ-spouse\n",
      "    Married-civ-spouse\n",
      "               Widowed\n",
      "         Never-married\n",
      "         Never-married\n",
      "    Married-civ-spouse\n",
      "              Divorced\n",
      "    Married-civ-spouse\n",
      "         Never-married\n",
      "         Never-married\n",
      "    Married-civ-spouse\n",
      "         Never-married\n",
      "    Married-civ-spouse\n",
      " Married-spouse-absent\n",
      "              Divorced\n",
      "    Married-civ-spouse\n",
      "    Married-civ-spouse\n",
      "    Married-civ-spouse\n",
      "         Never-married\n",
      "    Married-civ-spouse\n",
      "              Divorced\n",
      "         Never-married\n",
      "    Married-civ-spouse\n",
      "    Married-civ-spouse\n",
      "         Never-married\n",
      "         Never-married\n",
      "         Never-married\n",
      "    Married-civ-spouse\n",
      "         Never-married\n",
      "         Never-married\n",
      "         Never-married\n",
      "    Married-civ-spouse\n",
      "    Married-civ-spouse\n",
      "         Never-married\n",
      "    Married-civ-spouse\n",
      "             Separated\n",
      "         Never-married\n",
      "    Married-civ-spouse\n",
      "    Married-civ-spouse\n",
      "         Never-married\n",
      "    Married-civ-spouse\n",
      "         Never-married\n",
      "    Married-civ-spouse\n",
      "         Never-married\n",
      "         Never-married\n",
      "    Married-civ-spouse\n",
      "         Never-married\n",
      "         Never-married\n",
      "              Divorced\n",
      "    Married-civ-spouse\n",
      "         Never-married\n",
      "    Married-civ-spouse\n",
      "         Never-married\n",
      "         Never-married\n",
      "    Married-civ-spouse\n",
      "    Married-civ-spouse\n",
      "              Divorced\n",
      "         Never-married\n",
      "    Married-civ-spouse\n",
      "         Never-married\n",
      "         Never-married\n",
      "         Never-married\n",
      "         Never-married\n",
      "         Never-married\n",
      "             Separated\n",
      "    Married-civ-spouse\n",
      "         Never-married\n",
      "    Married-civ-spouse\n",
      "              Divorced\n",
      "         Never-married\n",
      "              Divorced\n",
      "         Never-married\n",
      "               Widowed\n",
      "              Divorced\n",
      "    Married-civ-spouse\n",
      "         Never-married\n",
      "         Never-married\n",
      "    Married-civ-spouse\n",
      "         Never-married\n",
      "              Divorced\n",
      "         Never-married\n",
      "         Never-married\n",
      "              Divorced\n",
      "    Married-civ-spouse\n",
      "         Never-married\n",
      "         Never-married\n",
      "         Never-married\n",
      "    Married-civ-spouse\n",
      "    Married-civ-spouse\n",
      "         Never-married\n",
      "    Married-civ-spouse\n",
      "    Married-civ-spouse\n",
      "    Married-civ-spouse\n",
      "              Divorced\n",
      "         Never-married\n",
      "         Never-married\n",
      "         Never-married\n",
      "         Never-married\n",
      "         Never-married\n",
      "    Married-civ-spouse\n",
      "              Divorced\n",
      "    Married-civ-spouse\n",
      "         Never-married\n",
      "    Married-civ-spouse\n",
      "    Married-civ-spouse\n",
      " Married-spouse-absent\n",
      "         Never-married\n",
      "    Married-civ-spouse\n",
      "    Married-civ-spouse\n",
      "    Married-civ-spouse\n",
      "    Married-civ-spouse\n",
      "              Divorced\n",
      "         Never-married\n",
      "    Married-civ-spouse\n",
      "    Married-civ-spouse\n",
      "    Married-civ-spouse\n",
      "         Never-married\n",
      "         Never-married\n",
      "         Never-married\n",
      "         Never-married\n",
      "              Divorced\n",
      "              Divorced\n",
      "     Married-AF-spouse\n",
      "         Never-married\n",
      "         Never-married\n",
      "    Married-civ-spouse\n",
      "         Never-married\n",
      "               Widowed\n",
      "         Never-married\n",
      "              Divorced\n",
      "    Married-civ-spouse\n",
      "         Never-married\n",
      "         Never-married\n",
      "         Never-married\n",
      "             Separated\n",
      "    Married-civ-spouse\n",
      "             Separated\n",
      "         Never-married\n",
      "    Married-civ-spouse\n",
      "    Married-civ-spouse\n",
      "         Never-married\n",
      "    Married-civ-spouse\n",
      "         Never-married\n",
      "    Married-civ-spouse\n",
      "    Married-civ-spouse\n",
      "    Married-civ-spouse\n",
      "    Married-civ-spouse\n",
      "    Married-civ-spouse\n",
      "              Divorced\n",
      "         Never-married\n",
      "    Married-civ-spouse\n",
      "         Never-married\n",
      "    Married-civ-spouse\n",
      "              Divorced\n",
      "         Never-married\n",
      "    Married-civ-spouse\n",
      "    Married-civ-spouse\n",
      "    Married-civ-spouse\n",
      "    Married-civ-spouse\n",
      "              Divorced\n",
      "         Never-married\n",
      "         Never-married\n",
      "         Never-married\n",
      "              Divorced\n",
      "         Never-married\n",
      "    Married-civ-spouse\n",
      "         Never-married\n",
      "         Never-married\n",
      "         Never-married\n",
      "    Married-civ-spouse\n",
      "              Divorced\n",
      "         Never-married\n",
      "    Married-civ-spouse\n",
      "              Divorced\n",
      "    Married-civ-spouse\n",
      "         Never-married\n",
      "               Widowed\n",
      "    Married-civ-spouse\n",
      "    Married-civ-spouse\n",
      "    Married-civ-spouse\n",
      "         Never-married\n",
      "         Never-married\n",
      "    Married-civ-spouse\n",
      "    Married-civ-spouse\n",
      "    Married-civ-spouse\n",
      "               Widowed\n",
      "             Separated\n",
      "               Widowed\n",
      "    Married-civ-spouse\n",
      "    Married-civ-spouse\n",
      "    Married-civ-spouse\n",
      "         Never-married\n",
      "         Never-married\n",
      "              Divorced\n",
      "         Never-married\n",
      "    Married-civ-spouse\n",
      "    Married-civ-spouse\n",
      "    Married-civ-spouse\n",
      "    Married-civ-spouse\n",
      "    Married-civ-spouse\n",
      "    Married-civ-spouse\n",
      "         Never-married\n",
      "         Never-married\n",
      "    Married-civ-spouse\n",
      "    Married-civ-spouse\n",
      "         Never-married\n",
      "              Divorced\n",
      "         Never-married\n",
      "              Divorced\n",
      " Married-spouse-absent\n",
      "               Widowed\n",
      "         Never-married\n",
      "    Married-civ-spouse\n",
      "    Married-civ-spouse\n",
      "              Divorced\n",
      "    Married-civ-spouse\n",
      "         Never-married\n",
      "    Married-civ-spouse\n",
      "    Married-civ-spouse\n",
      "               Widowed\n",
      "    Married-civ-spouse\n",
      "         Never-married\n",
      "    Married-civ-spouse\n",
      "              Divorced\n",
      "              Divorced\n",
      "              Divorced\n",
      "    Married-civ-spouse\n",
      "    Married-civ-spouse\n",
      "    Married-civ-spouse\n",
      "         Never-married\n",
      "    Married-civ-spouse\n",
      "         Never-married\n",
      "    Married-civ-spouse\n",
      "    Married-civ-spouse\n",
      "         Never-married\n",
      "    Married-civ-spouse\n",
      "    Married-civ-spouse\n",
      "         Never-married\n",
      "    Married-civ-spouse\n",
      "    Married-civ-spouse\n",
      "         Never-married\n",
      "         Never-married\n",
      "             Separated\n",
      "              Divorced\n",
      "    Married-civ-spouse\n",
      "              Divorced\n",
      "              Divorced\n",
      "    Married-civ-spouse\n",
      "    Married-civ-spouse\n",
      "         Never-married\n",
      "    Married-civ-spouse\n",
      "         Never-married\n",
      "         Never-married\n",
      "    Married-civ-spouse\n",
      "    Married-civ-spouse\n",
      "             Separated\n",
      "         Never-married\n",
      "         Never-married\n",
      "    Married-civ-spouse\n",
      "    Married-civ-spouse\n",
      "    Married-civ-spouse\n",
      "    Married-civ-spouse\n",
      "    Married-civ-spouse\n",
      "         Never-married\n",
      "    Married-civ-spouse\n",
      "               Widowed\n",
      "    Married-civ-spouse\n",
      "         Never-married\n",
      "    Married-civ-spouse\n",
      "         Never-married\n",
      "         Never-married\n",
      "              Divorced\n",
      "              Divorced\n",
      "         Never-married\n",
      "         Never-married\n",
      "    Married-civ-spouse\n",
      "         Never-married\n",
      "         Never-married\n",
      "         Never-married\n",
      "    Married-civ-spouse\n",
      "    Married-civ-spouse\n",
      "    Married-civ-spouse\n",
      "         Never-married\n",
      "    Married-civ-spouse\n",
      "         Never-married\n",
      "         Never-married\n",
      "    Married-civ-spouse\n",
      "    Married-civ-spouse\n",
      "               Widowed\n",
      " Married-spouse-absent\n",
      "              Divorced\n",
      "         Never-married\n",
      "    Married-civ-spouse\n",
      "         Never-married\n",
      "         Never-married\n",
      "    Married-civ-spouse\n",
      "         Never-married\n",
      "    Married-civ-spouse\n",
      "               Widowed\n",
      "               Widowed\n",
      "              Divorced\n",
      "         Never-married\n",
      "         Never-married\n",
      "    Married-civ-spouse\n",
      "         Never-married\n",
      "    Married-civ-spouse\n",
      "         Never-married\n",
      "    Married-civ-spouse\n",
      "         Never-married\n",
      "    Married-civ-spouse\n",
      "         Never-married\n",
      "    Married-civ-spouse\n",
      "         Never-married\n",
      "    Married-civ-spouse\n",
      "         Never-married\n",
      "    Married-civ-spouse\n",
      "    Married-civ-spouse\n",
      "              Divorced\n",
      "         Never-married\n",
      "    Married-civ-spouse\n",
      "    Married-civ-spouse\n",
      "              Divorced\n",
      "         Never-married\n",
      "    Married-civ-spouse\n",
      "    Married-civ-spouse\n",
      "         Never-married\n",
      "         Never-married\n",
      "         Never-married\n",
      "    Married-civ-spouse\n",
      "    Married-civ-spouse\n",
      "               Widowed\n",
      "         Never-married\n",
      "              Divorced\n",
      "              Divorced\n",
      "              Divorced\n",
      "    Married-civ-spouse\n",
      "              Divorced\n",
      "             Separated\n",
      "    Married-civ-spouse\n",
      "    Married-civ-spouse\n",
      "    Married-civ-spouse\n",
      "    Married-civ-spouse\n",
      "              Divorced\n",
      "              Divorced\n",
      "    Married-civ-spouse\n",
      "         Never-married\n",
      "    Married-civ-spouse\n",
      "         Never-married\n",
      "    Married-civ-spouse\n",
      "         Never-married\n",
      "              Divorced\n",
      "    Married-civ-spouse\n",
      "               Widowed\n",
      "         Never-married\n",
      "    Married-civ-spouse\n",
      "    Married-civ-spouse\n",
      "    Married-civ-spouse\n",
      "         Never-married\n",
      "         Never-married\n",
      "              Divorced\n",
      "               Widowed\n",
      "         Never-married\n",
      "         Never-married\n",
      "    Married-civ-spouse\n",
      "         Never-married\n",
      "         Never-married\n",
      "    Married-civ-spouse\n",
      "    Married-civ-spouse\n",
      "    Married-civ-spouse\n",
      "               Widowed\n",
      "    Married-civ-spouse\n",
      "         Never-married\n",
      "    Married-civ-spouse\n",
      "    Married-civ-spouse\n",
      "              Divorced\n",
      "              Divorced\n",
      "         Never-married\n",
      "             Separated\n",
      "    Married-civ-spouse\n",
      "    Married-civ-spouse\n",
      "    Married-civ-spouse\n",
      "         Never-married\n",
      "    Married-civ-spouse\n",
      "    Married-civ-spouse\n",
      "    Married-civ-spouse\n",
      "               Widowed\n",
      "    Married-civ-spouse\n",
      "    Married-civ-spouse\n",
      "    Married-civ-spouse\n",
      "    Married-civ-spouse\n",
      "    Married-civ-spouse\n",
      "         Never-married\n",
      "    Married-civ-spouse\n",
      "         Never-married\n",
      "         Never-married\n",
      "             Separated\n",
      "    Married-civ-spouse\n",
      "              Divorced\n",
      "         Never-married\n",
      "              Divorced\n",
      "    Married-civ-spouse\n",
      "    Married-civ-spouse\n",
      "    Married-civ-spouse\n",
      "    Married-civ-spouse\n",
      "         Never-married\n",
      "         Never-married\n",
      "    Married-civ-spouse\n",
      "         Never-married\n",
      "         Never-married\n",
      " Married-spouse-absent\n",
      "         Never-married\n",
      "    Married-civ-spouse\n",
      "              Divorced\n",
      "              Divorced\n",
      "         Never-married\n",
      "         Never-married\n",
      "              Divorced\n",
      "    Married-civ-spouse\n",
      "    Married-civ-spouse\n",
      "    Married-civ-spouse\n",
      "              Divorced\n",
      "              Divorced\n",
      "               Widowed\n",
      "              Divorced\n",
      "    Married-civ-spouse\n",
      " Married-spouse-absent\n",
      "    Married-civ-spouse\n",
      "    Married-civ-spouse\n",
      "             Separated\n",
      "    Married-civ-spouse\n",
      "    Married-civ-spouse\n",
      "         Never-married\n",
      "    Married-civ-spouse\n",
      "    Married-civ-spouse\n",
      "    Married-civ-spouse\n",
      "    Married-civ-spouse\n",
      "              Divorced\n",
      " Married-spouse-absent\n",
      "             Separated\n",
      "    Married-civ-spouse\n",
      "              Divorced\n",
      "    Married-civ-spouse\n",
      "         Never-married\n",
      "         Never-married\n",
      "    Married-civ-spouse\n",
      "         Never-married\n",
      "         Never-married\n",
      "         Never-married\n",
      "              Divorced\n",
      "              Divorced\n",
      "         Never-married\n",
      "    Married-civ-spouse\n",
      "         Never-married\n",
      "         Never-married\n",
      "             Separated\n",
      "    Married-civ-spouse\n",
      "         Never-married\n",
      "    Married-civ-spouse\n",
      "         Never-married\n",
      "         Never-married\n",
      "         Never-married\n",
      "              Divorced\n",
      "    Married-civ-spouse\n",
      "              Divorced\n",
      "    Married-civ-spouse\n",
      "              Divorced\n",
      "         Never-married\n",
      "         Never-married\n",
      "    Married-civ-spouse\n",
      "    Married-civ-spouse\n",
      " Married-spouse-absent\n",
      "             Separated\n",
      "    Married-civ-spouse\n",
      "    Married-civ-spouse\n",
      "    Married-civ-spouse\n",
      "    Married-civ-spouse\n",
      "    Married-civ-spouse\n",
      "         Never-married\n",
      "         Never-married\n",
      "    Married-civ-spouse\n",
      "              Divorced\n",
      "    Married-civ-spouse\n",
      "         Never-married\n",
      "    Married-civ-spouse\n",
      "    Married-civ-spouse\n",
      "         Never-married\n",
      "         Never-married\n",
      "    Married-civ-spouse\n",
      "    Married-civ-spouse\n",
      "               Widowed\n",
      "             Separated\n",
      "         Never-married\n",
      "    Married-civ-spouse\n",
      "    Married-civ-spouse\n",
      "         Never-married\n",
      "    Married-civ-spouse\n",
      "         Never-married\n",
      "    Married-civ-spouse\n",
      "              Divorced\n",
      "         Never-married\n",
      "    Married-civ-spouse\n",
      "    Married-civ-spouse\n",
      "         Never-married\n",
      "    Married-civ-spouse\n",
      "         Never-married\n",
      "         Never-married\n",
      "              Divorced\n",
      "    Married-civ-spouse\n",
      "    Married-civ-spouse\n",
      "         Never-married\n",
      "    Married-civ-spouse\n",
      "              Divorced\n",
      "              Divorced\n",
      "         Never-married\n",
      "         Never-married\n",
      "         Never-married\n",
      "    Married-civ-spouse\n",
      "         Never-married\n",
      "              Divorced\n",
      "    Married-civ-spouse\n",
      "    Married-civ-spouse\n",
      "         Never-married\n",
      "              Divorced\n",
      "    Married-civ-spouse\n",
      "         Never-married\n",
      "    Married-civ-spouse\n",
      "         Never-married\n",
      "             Separated\n",
      "         Never-married\n",
      "    Married-civ-spouse\n",
      "    Married-civ-spouse\n",
      "    Married-civ-spouse\n",
      "     Married-AF-spouse\n",
      "         Never-married\n",
      "              Divorced\n",
      "         Never-married\n",
      "    Married-civ-spouse\n",
      "    Married-civ-spouse\n",
      "         Never-married\n",
      "    Married-civ-spouse\n",
      "              Divorced\n",
      "         Never-married\n",
      "         Never-married\n",
      "         Never-married\n",
      "    Married-civ-spouse\n",
      "              Divorced\n",
      "    Married-civ-spouse\n",
      "         Never-married\n",
      "    Married-civ-spouse\n",
      "    Married-civ-spouse\n",
      " Married-spouse-absent\n",
      "              Divorced\n",
      "    Married-civ-spouse\n",
      "              Divorced\n",
      "         Never-married\n",
      "    Married-civ-spouse\n",
      "         Never-married\n",
      "    Married-civ-spouse\n",
      "    Married-civ-spouse\n",
      "    Married-civ-spouse\n",
      "    Married-civ-spouse\n",
      "         Never-married\n",
      "    Married-civ-spouse\n",
      "    Married-civ-spouse\n",
      "    Married-civ-spouse\n",
      "    Married-civ-spouse\n",
      "    Married-civ-spouse\n",
      "    Married-civ-spouse\n",
      "    Married-civ-spouse\n",
      "         Never-married\n",
      "         Never-married\n",
      "              Divorced\n",
      "               Widowed\n",
      "               Widowed\n",
      "         Never-married\n",
      "             Separated\n",
      "    Married-civ-spouse\n",
      "              Divorced\n",
      "    Married-civ-spouse\n",
      "         Never-married\n",
      "         Never-married\n",
      "    Married-civ-spouse\n",
      "    Married-civ-spouse\n",
      "    Married-civ-spouse\n",
      "    Married-civ-spouse\n",
      "    Married-civ-spouse\n",
      "    Married-civ-spouse\n",
      "              Divorced\n",
      "    Married-civ-spouse\n",
      "         Never-married\n",
      "    Married-civ-spouse\n",
      "    Married-civ-spouse\n",
      "    Married-civ-spouse\n",
      "    Married-civ-spouse\n",
      "    Married-civ-spouse\n",
      "    Married-civ-spouse\n",
      "         Never-married\n",
      "         Never-married\n",
      "         Never-married\n",
      "    Married-civ-spouse\n",
      "    Married-civ-spouse\n",
      "    Married-civ-spouse\n",
      "             Separated\n",
      "    Married-civ-spouse\n",
      "    Married-civ-spouse\n",
      "         Never-married\n",
      "    Married-civ-spouse\n",
      "    Married-civ-spouse\n",
      "    Married-civ-spouse\n",
      "         Never-married\n",
      "    Married-civ-spouse\n",
      "    Married-civ-spouse\n",
      "         Never-married\n",
      "         Never-married\n",
      "    Married-civ-spouse\n",
      "         Never-married\n",
      "         Never-married\n",
      "    Married-civ-spouse\n",
      "         Never-married\n",
      "    Married-civ-spouse\n",
      "    Married-civ-spouse\n",
      "               Widowed\n",
      "    Married-civ-spouse\n",
      "    Married-civ-spouse\n",
      "              Divorced\n",
      "         Never-married\n",
      "    Married-civ-spouse\n",
      "         Never-married\n",
      "    Married-civ-spouse\n",
      "    Married-civ-spouse\n",
      "    Married-civ-spouse\n",
      "              Divorced\n",
      "         Never-married\n",
      "               Widowed\n",
      "         Never-married\n",
      "              Divorced\n",
      "    Married-civ-spouse\n",
      "    Married-civ-spouse\n",
      "    Married-civ-spouse\n",
      "    Married-civ-spouse\n",
      "         Never-married\n",
      "         Never-married\n",
      "    Married-civ-spouse\n",
      "         Never-married\n",
      "         Never-married\n",
      "              Divorced\n",
      "              Divorced\n",
      "              Divorced\n",
      "    Married-civ-spouse\n",
      "         Never-married\n",
      "    Married-civ-spouse\n",
      "         Never-married\n",
      "    Married-civ-spouse\n",
      "         Never-married\n",
      "         Never-married\n",
      "    Married-civ-spouse\n",
      "    Married-civ-spouse\n",
      "              Divorced\n",
      "         Never-married\n",
      "    Married-civ-spouse\n",
      "         Never-married\n",
      "    Married-civ-spouse\n",
      "         Never-married\n",
      "              Divorced\n",
      "               Widowed\n",
      "              Divorced\n",
      "         Never-married\n",
      "    Married-civ-spouse\n",
      "    Married-civ-spouse\n",
      "              Divorced\n",
      "         Never-married\n",
      "    Married-civ-spouse\n",
      "    Married-civ-spouse\n",
      "         Never-married\n",
      "              Divorced\n",
      "    Married-civ-spouse\n",
      "         Never-married\n",
      "              Divorced\n",
      "    Married-civ-spouse\n",
      "              Divorced\n",
      "              Divorced\n",
      "    Married-civ-spouse\n",
      "               Widowed\n",
      "             Separated\n",
      "    Married-civ-spouse\n",
      "              Divorced\n",
      "    Married-civ-spouse\n",
      "         Never-married\n",
      "         Never-married\n",
      "         Never-married\n",
      "    Married-civ-spouse\n",
      "         Never-married\n",
      "              Divorced\n",
      "         Never-married\n",
      "    Married-civ-spouse\n",
      "    Married-civ-spouse\n",
      "    Married-civ-spouse\n",
      "    Married-civ-spouse\n",
      "    Married-civ-spouse\n",
      "             Separated\n",
      "         Never-married\n",
      "    Married-civ-spouse\n",
      "              Divorced\n",
      "         Never-married\n",
      "    Married-civ-spouse\n",
      "    Married-civ-spouse\n",
      "         Never-married\n",
      "               Widowed\n",
      "    Married-civ-spouse\n",
      "              Divorced\n",
      "    Married-civ-spouse\n",
      " Married-spouse-absent\n",
      "    Married-civ-spouse\n",
      "         Never-married\n",
      "              Divorced\n",
      " Married-spouse-absent\n",
      "         Never-married\n",
      "    Married-civ-spouse\n",
      "    Married-civ-spouse\n",
      "    Married-civ-spouse\n",
      "    Married-civ-spouse\n",
      "    Married-civ-spouse\n",
      "             Separated\n",
      "         Never-married\n",
      "         Never-married\n",
      "         Never-married\n",
      "    Married-civ-spouse\n",
      "              Divorced\n",
      "         Never-married\n",
      "         Never-married\n",
      "    Married-civ-spouse\n",
      "         Never-married\n",
      "         Never-married\n",
      "    Married-civ-spouse\n",
      "             Separated\n",
      "    Married-civ-spouse\n",
      "    Married-civ-spouse\n",
      "              Divorced\n",
      "         Never-married\n",
      "    Married-civ-spouse\n",
      "    Married-civ-spouse\n",
      "    Married-civ-spouse\n",
      "    Married-civ-spouse\n",
      "              Divorced\n",
      "         Never-married\n",
      "    Married-civ-spouse\n",
      "    Married-civ-spouse\n",
      "         Never-married\n",
      "    Married-civ-spouse\n",
      "    Married-civ-spouse\n",
      "         Never-married\n",
      "              Divorced\n",
      "    Married-civ-spouse\n",
      "              Divorced\n",
      "    Married-civ-spouse\n",
      "    Married-civ-spouse\n",
      "    Married-civ-spouse\n",
      "    Married-civ-spouse\n",
      "         Never-married\n",
      "              Divorced\n",
      "              Divorced\n",
      "         Never-married\n",
      "         Never-married\n",
      "         Never-married\n",
      "    Married-civ-spouse\n",
      "             Separated\n",
      "    Married-civ-spouse\n",
      "    Married-civ-spouse\n",
      "         Never-married\n",
      "    Married-civ-spouse\n",
      "         Never-married\n",
      "    Married-civ-spouse\n",
      "    Married-civ-spouse\n",
      "               Widowed\n",
      "         Never-married\n",
      "    Married-civ-spouse\n",
      "         Never-married\n",
      "             Separated\n",
      "    Married-civ-spouse\n",
      "    Married-civ-spouse\n",
      "              Divorced\n",
      "    Married-civ-spouse\n",
      "         Never-married\n",
      "    Married-civ-spouse\n",
      "    Married-civ-spouse\n",
      "         Never-married\n",
      "    Married-civ-spouse\n",
      "         Never-married\n",
      "         Never-married\n",
      "              Divorced\n",
      "    Married-civ-spouse\n",
      "         Never-married\n",
      "    Married-civ-spouse\n",
      "    Married-civ-spouse\n",
      "         Never-married\n",
      "    Married-civ-spouse\n",
      "    Married-civ-spouse\n",
      "             Separated\n",
      "               Widowed\n",
      "         Never-married\n",
      "    Married-civ-spouse\n",
      "              Divorced\n",
      "         Never-married\n",
      "    Married-civ-spouse\n",
      " Married-spouse-absent\n",
      "         Never-married\n",
      "              Divorced\n",
      "         Never-married\n",
      "    Married-civ-spouse\n",
      "         Never-married\n",
      "    Married-civ-spouse\n",
      "    Married-civ-spouse\n",
      "    Married-civ-spouse\n",
      "              Divorced\n",
      "    Married-civ-spouse\n",
      "    Married-civ-spouse\n",
      "              Divorced\n",
      "    Married-civ-spouse\n",
      "    Married-civ-spouse\n",
      "    Married-civ-spouse\n",
      "              Divorced\n",
      "         Never-married\n",
      "             Separated\n",
      "         Never-married\n",
      "         Never-married\n",
      "    Married-civ-spouse\n",
      "              Divorced\n",
      "         Never-married\n",
      "    Married-civ-spouse\n",
      "    Married-civ-spouse\n",
      "         Never-married\n",
      "    Married-civ-spouse\n",
      "         Never-married\n",
      "    Married-civ-spouse\n",
      "         Never-married\n",
      "              Divorced\n",
      "    Married-civ-spouse\n",
      "    Married-civ-spouse\n",
      "    Married-civ-spouse\n",
      "         Never-married\n",
      "         Never-married\n",
      "         Never-married\n",
      "              Divorced\n",
      "    Married-civ-spouse\n",
      "         Never-married\n",
      "         Never-married\n",
      "    Married-civ-spouse\n",
      "    Married-civ-spouse\n",
      "    Married-civ-spouse\n",
      "         Never-married\n",
      "         Never-married\n",
      "              Divorced\n",
      "         Never-married\n",
      "         Never-married\n",
      "         Never-married\n",
      "    Married-civ-spouse\n",
      "    Married-civ-spouse\n",
      "         Never-married\n",
      "    Married-civ-spouse\n",
      "         Never-married\n",
      "              Divorced\n",
      "         Never-married\n",
      "    Married-civ-spouse\n",
      "              Divorced\n",
      "    Married-civ-spouse\n",
      "         Never-married\n",
      "    Married-civ-spouse\n",
      "         Never-married\n",
      "         Never-married\n",
      "              Divorced\n",
      "    Married-civ-spouse\n",
      "    Married-civ-spouse\n",
      "              Divorced\n",
      "              Divorced\n",
      "         Never-married\n",
      "    Married-civ-spouse\n",
      "              Divorced\n",
      "         Never-married\n",
      "    Married-civ-spouse\n",
      "    Married-civ-spouse\n",
      "    Married-civ-spouse\n",
      "    Married-civ-spouse\n",
      "    Married-civ-spouse\n",
      "         Never-married\n",
      "               Widowed\n",
      "    Married-civ-spouse\n",
      "         Never-married\n",
      "         Never-married\n",
      "              Divorced\n",
      "         Never-married\n",
      "    Married-civ-spouse\n",
      "         Never-married\n",
      "    Married-civ-spouse\n",
      "         Never-married\n",
      "    Married-civ-spouse\n",
      "    Married-civ-spouse\n",
      "              Divorced\n",
      "              Divorced\n",
      "    Married-civ-spouse\n",
      "              Divorced\n",
      "              Divorced\n",
      "         Never-married\n",
      " Married-spouse-absent\n",
      "         Never-married\n",
      "              Divorced\n",
      "              Divorced\n",
      "    Married-civ-spouse\n",
      "         Never-married\n",
      "    Married-civ-spouse\n",
      "    Married-civ-spouse\n",
      "         Never-married\n",
      "     Married-AF-spouse\n",
      "         Never-married\n",
      "    Married-civ-spouse\n",
      "    Married-civ-spouse\n",
      "    Married-civ-spouse\n",
      "              Divorced\n",
      "         Never-married\n",
      "    Married-civ-spouse\n",
      "              Divorced\n",
      "         Never-married\n",
      "    Married-civ-spouse\n",
      "         Never-married\n",
      "              Divorced\n",
      "    Married-civ-spouse\n",
      "    Married-civ-spouse\n",
      "         Never-married\n",
      "    Married-civ-spouse\n",
      "               Widowed\n",
      "    Married-civ-spouse\n",
      "    Married-civ-spouse\n",
      "    Married-civ-spouse\n",
      "    Married-civ-spouse\n",
      "              Divorced\n",
      "    Married-civ-spouse\n",
      "         Never-married\n",
      "    Married-civ-spouse\n",
      "    Married-civ-spouse\n",
      "    Married-civ-spouse\n",
      "         Never-married\n",
      "         Never-married\n",
      "         Never-married\n",
      "    Married-civ-spouse\n",
      "    Married-civ-spouse\n",
      "    Married-civ-spouse\n",
      "         Never-married\n",
      "         Never-married\n",
      " Married-spouse-absent\n",
      "              Divorced\n",
      "         Never-married\n",
      "         Never-married\n",
      "         Never-married\n",
      "              Divorced\n",
      "    Married-civ-spouse\n",
      "    Married-civ-spouse\n",
      "    Married-civ-spouse\n",
      "         Never-married\n",
      "         Never-married\n",
      "         Never-married\n",
      "    Married-civ-spouse\n",
      "         Never-married\n",
      "         Never-married\n",
      "    Married-civ-spouse\n",
      "         Never-married\n",
      "         Never-married\n",
      "         Never-married\n",
      "         Never-married\n",
      "    Married-civ-spouse\n",
      "              Divorced\n",
      "    Married-civ-spouse\n",
      "         Never-married\n",
      "         Never-married\n",
      "    Married-civ-spouse\n",
      "    Married-civ-spouse\n",
      "    Married-civ-spouse\n",
      "    Married-civ-spouse\n",
      "    Married-civ-spouse\n",
      "         Never-married\n",
      "    Married-civ-spouse\n",
      "              Divorced\n",
      "         Never-married\n",
      "    Married-civ-spouse\n",
      "         Never-married\n",
      "    Married-civ-spouse\n",
      "    Married-civ-spouse\n",
      "              Divorced\n",
      "             Separated\n",
      "             Separated\n",
      "    Married-civ-spouse\n",
      "    Married-civ-spouse\n",
      "    Married-civ-spouse\n",
      "    Married-civ-spouse\n",
      "              Divorced\n",
      "         Never-married\n",
      "         Never-married\n",
      "              Divorced\n",
      "    Married-civ-spouse\n",
      "    Married-civ-spouse\n",
      "              Divorced\n",
      "              Divorced\n",
      "         Never-married\n",
      "    Married-civ-spouse\n",
      "    Married-civ-spouse\n",
      "               Widowed\n",
      "    Married-civ-spouse\n",
      "         Never-married\n",
      "    Married-civ-spouse\n",
      "    Married-civ-spouse\n",
      "         Never-married\n",
      "    Married-civ-spouse\n",
      "    Married-civ-spouse\n",
      "             Separated\n",
      "              Divorced\n",
      "         Never-married\n",
      "         Never-married\n",
      "              Divorced\n",
      "         Never-married\n",
      "    Married-civ-spouse\n",
      "    Married-civ-spouse\n",
      "    Married-civ-spouse\n",
      "         Never-married\n",
      "    Married-civ-spouse\n",
      "         Never-married\n",
      "         Never-married\n",
      "         Never-married\n",
      "         Never-married\n",
      "         Never-married\n",
      "         Never-married\n",
      "    Married-civ-spouse\n",
      "         Never-married\n",
      "    Married-civ-spouse\n",
      "    Married-civ-spouse\n",
      "              Divorced\n",
      "    Married-civ-spouse\n",
      "         Never-married\n",
      "         Never-married\n",
      "              Divorced\n",
      "              Divorced\n",
      "    Married-civ-spouse\n",
      "    Married-civ-spouse\n",
      "              Divorced\n",
      "             Separated\n",
      "    Married-civ-spouse\n",
      "    Married-civ-spouse\n",
      "              Divorced\n",
      "         Never-married\n",
      "         Never-married\n",
      "    Married-civ-spouse\n",
      "         Never-married\n",
      "         Never-married\n",
      "              Divorced\n",
      "    Married-civ-spouse\n",
      "    Married-civ-spouse\n",
      "         Never-married\n",
      "    Married-civ-spouse\n",
      "    Married-civ-spouse\n",
      "    Married-civ-spouse\n",
      "             Separated\n",
      "              Divorced\n",
      "    Married-civ-spouse\n",
      "    Married-civ-spouse\n",
      "         Never-married\n",
      "    Married-civ-spouse\n",
      "    Married-civ-spouse\n",
      "    Married-civ-spouse\n",
      "              Divorced\n",
      "         Never-married\n",
      "    Married-civ-spouse\n",
      "         Never-married\n",
      "    Married-civ-spouse\n",
      "    Married-civ-spouse\n",
      "    Married-civ-spouse\n",
      "              Divorced\n",
      "         Never-married\n",
      "         Never-married\n",
      "              Divorced\n",
      "              Divorced\n",
      "         Never-married\n",
      "    Married-civ-spouse\n",
      "    Married-civ-spouse\n",
      "    Married-civ-spouse\n",
      "             Separated\n",
      "    Married-civ-spouse\n",
      "              Divorced\n",
      "              Divorced\n",
      "    Married-civ-spouse\n",
      "    Married-civ-spouse\n",
      "         Never-married\n",
      "    Married-civ-spouse\n",
      "         Never-married\n",
      "    Married-civ-spouse\n",
      "         Never-married\n",
      "    Married-civ-spouse\n",
      "         Never-married\n",
      "    Married-civ-spouse\n",
      "         Never-married\n",
      "    Married-civ-spouse\n",
      "    Married-civ-spouse\n",
      "    Married-civ-spouse\n",
      "         Never-married\n",
      "         Never-married\n",
      "         Never-married\n",
      "             Separated\n",
      "    Married-civ-spouse\n",
      "              Divorced\n",
      "    Married-civ-spouse\n",
      "         Never-married\n",
      "              Divorced\n",
      " Married-spouse-absent\n",
      "         Never-married\n",
      "         Never-married\n",
      "    Married-civ-spouse\n",
      "    Married-civ-spouse\n",
      "    Married-civ-spouse\n",
      "    Married-civ-spouse\n",
      "    Married-civ-spouse\n",
      "    Married-civ-spouse\n",
      "    Married-civ-spouse\n",
      "    Married-civ-spouse\n",
      "         Never-married\n",
      "         Never-married\n",
      "              Divorced\n",
      "              Divorced\n",
      "    Married-civ-spouse\n",
      "    Married-civ-spouse\n",
      "    Married-civ-spouse\n",
      "    Married-civ-spouse\n",
      "               Widowed\n",
      "    Married-civ-spouse\n",
      "         Never-married\n",
      "         Never-married\n",
      "    Married-civ-spouse\n",
      "    Married-civ-spouse\n",
      "    Married-civ-spouse\n",
      "         Never-married\n",
      "    Married-civ-spouse\n",
      "    Married-civ-spouse\n",
      "    Married-civ-spouse\n",
      " Married-spouse-absent\n",
      "    Married-civ-spouse\n",
      "    Married-civ-spouse\n",
      "    Married-civ-spouse\n",
      "              Divorced\n",
      "         Never-married\n",
      "         Never-married\n",
      "    Married-civ-spouse\n",
      "    Married-civ-spouse\n",
      "    Married-civ-spouse\n",
      "    Married-civ-spouse\n",
      "         Never-married\n",
      "    Married-civ-spouse\n",
      "         Never-married\n",
      "    Married-civ-spouse\n",
      "         Never-married\n",
      "              Divorced\n",
      "             Separated\n",
      "    Married-civ-spouse\n",
      "    Married-civ-spouse\n",
      "             Separated\n",
      "         Never-married\n",
      "    Married-civ-spouse\n",
      " Married-spouse-absent\n",
      "    Married-civ-spouse\n",
      "              Divorced\n",
      "    Married-civ-spouse\n",
      " Married-spouse-absent\n",
      "         Never-married\n",
      "    Married-civ-spouse\n",
      "    Married-civ-spouse\n",
      "    Married-civ-spouse\n",
      "              Divorced\n",
      "         Never-married\n",
      "         Never-married\n",
      "    Married-civ-spouse\n",
      "    Married-civ-spouse\n",
      "         Never-married\n",
      "         Never-married\n",
      "    Married-civ-spouse\n",
      "    Married-civ-spouse\n",
      "         Never-married\n",
      "              Divorced\n",
      "         Never-married\n",
      "    Married-civ-spouse\n",
      "              Divorced\n",
      "         Never-married\n",
      "    Married-civ-spouse\n",
      "         Never-married\n",
      "         Never-married\n",
      "    Married-civ-spouse\n",
      "    Married-civ-spouse\n",
      "    Married-civ-spouse\n",
      "              Divorced\n",
      "    Married-civ-spouse\n",
      "    Married-civ-spouse\n",
      "         Never-married\n",
      "    Married-civ-spouse\n",
      "    Married-civ-spouse\n",
      "         Never-married\n",
      "    Married-civ-spouse\n",
      "              Divorced\n",
      "              Divorced\n",
      "         Never-married\n",
      "         Never-married\n",
      "         Never-married\n",
      "    Married-civ-spouse\n",
      "    Married-civ-spouse\n",
      "         Never-married\n",
      "              Divorced\n",
      "              Divorced\n",
      "    Married-civ-spouse\n",
      "    Married-civ-spouse\n",
      "         Never-married\n",
      "         Never-married\n",
      "              Divorced\n",
      "               Widowed\n",
      "              Divorced\n",
      "              Divorced\n",
      "    Married-civ-spouse\n",
      "         Never-married\n",
      "         Never-married\n",
      "         Never-married\n",
      "    Married-civ-spouse\n",
      "         Never-married\n",
      "    Married-civ-spouse\n",
      "    Married-civ-spouse\n",
      "         Never-married\n",
      "         Never-married\n",
      "         Never-married\n",
      "         Never-married\n",
      "    Married-civ-spouse\n",
      "         Never-married\n",
      "    Married-civ-spouse\n",
      "         Never-married\n",
      "               Widowed\n",
      "    Married-civ-spouse\n",
      "         Never-married\n",
      "    Married-civ-spouse\n",
      "              Divorced\n",
      "    Married-civ-spouse\n",
      "    Married-civ-spouse\n",
      "    Married-civ-spouse\n",
      "             Separated\n",
      "         Never-married\n",
      "               Widowed\n",
      "    Married-civ-spouse\n",
      "              Divorced\n",
      "             Separated\n",
      "               Widowed\n",
      "             Separated\n",
      "    Married-civ-spouse\n",
      "    Married-civ-spouse\n",
      "    Married-civ-spouse\n",
      "    Married-civ-spouse\n",
      "         Never-married\n",
      "         Never-married\n",
      "    Married-civ-spouse\n",
      "    Married-civ-spouse\n",
      "         Never-married\n",
      "    Married-civ-spouse\n",
      "    Married-civ-spouse\n",
      "         Never-married\n",
      "             Separated\n",
      "    Married-civ-spouse\n",
      "              Divorced\n",
      "         Never-married\n",
      "    Married-civ-spouse\n",
      "             Separated\n",
      "             Separated\n",
      "         Never-married\n",
      "    Married-civ-spouse\n",
      "         Never-married\n",
      "         Never-married\n",
      "    Married-civ-spouse\n",
      "    Married-civ-spouse\n",
      "         Never-married\n",
      "    Married-civ-spouse\n",
      "    Married-civ-spouse\n",
      "    Married-civ-spouse\n",
      "    Married-civ-spouse\n",
      "         Never-married\n",
      "         Never-married\n",
      "    Married-civ-spouse\n",
      "    Married-civ-spouse\n",
      "         Never-married\n",
      "    Married-civ-spouse\n",
      "         Never-married\n",
      "    Married-civ-spouse\n",
      "    Married-civ-spouse\n",
      "    Married-civ-spouse\n",
      "    Married-civ-spouse\n",
      "    Married-civ-spouse\n",
      "    Married-civ-spouse\n",
      "         Never-married\n",
      "         Never-married\n",
      "         Never-married\n",
      "              Divorced\n",
      "         Never-married\n",
      "              Divorced\n",
      "         Never-married\n",
      "    Married-civ-spouse\n",
      "    Married-civ-spouse\n",
      "              Divorced\n",
      "         Never-married\n",
      "     Married-AF-spouse\n",
      "    Married-civ-spouse\n",
      "    Married-civ-spouse\n",
      "               Widowed\n",
      "         Never-married\n",
      "         Never-married\n",
      "              Divorced\n",
      " Married-spouse-absent\n",
      "              Divorced\n",
      "         Never-married\n",
      "               Widowed\n",
      "              Divorced\n",
      "         Never-married\n",
      "    Married-civ-spouse\n",
      "         Never-married\n",
      "         Never-married\n",
      "    Married-civ-spouse\n",
      "    Married-civ-spouse\n",
      "              Divorced\n",
      "    Married-civ-spouse\n",
      "              Divorced\n",
      "         Never-married\n",
      "              Divorced\n",
      "              Divorced\n",
      "         Never-married\n",
      "         Never-married\n",
      "         Never-married\n",
      "    Married-civ-spouse\n",
      "         Never-married\n",
      "         Never-married\n",
      "    Married-civ-spouse\n",
      "               Widowed\n",
      "    Married-civ-spouse\n",
      "    Married-civ-spouse\n",
      "    Married-civ-spouse\n",
      "    Married-civ-spouse\n",
      "         Never-married\n",
      "    Married-civ-spouse\n",
      "         Never-married\n",
      "               Widowed\n",
      "    Married-civ-spouse\n",
      "     Married-AF-spouse\n",
      "               Widowed\n",
      "         Never-married\n",
      "    Married-civ-spouse\n",
      "         Never-married\n",
      "    Married-civ-spouse\n",
      "    Married-civ-spouse\n",
      "         Never-married\n",
      "         Never-married\n",
      "    Married-civ-spouse\n",
      "    Married-civ-spouse\n",
      "         Never-married\n",
      "         Never-married\n",
      "         Never-married\n",
      "    Married-civ-spouse\n",
      "         Never-married\n",
      "              Divorced\n",
      "    Married-civ-spouse\n",
      "         Never-married\n",
      "    Married-civ-spouse\n",
      "    Married-civ-spouse\n",
      "         Never-married\n",
      "         Never-married\n",
      "              Divorced\n",
      "         Never-married\n",
      "              Divorced\n",
      "    Married-civ-spouse\n",
      "         Never-married\n",
      "              Divorced\n",
      "         Never-married\n",
      "              Divorced\n",
      "               Widowed\n",
      "    Married-civ-spouse\n",
      "              Divorced\n",
      "         Never-married\n",
      "              Divorced\n",
      "              Divorced\n",
      "         Never-married\n",
      "         Never-married\n",
      "    Married-civ-spouse\n",
      "         Never-married\n",
      " Married-spouse-absent\n",
      "    Married-civ-spouse\n",
      "               Widowed\n",
      "         Never-married\n",
      "         Never-married\n",
      "    Married-civ-spouse\n",
      "    Married-civ-spouse\n",
      "              Divorced\n",
      "         Never-married\n",
      "              Divorced\n",
      "         Never-married\n",
      "         Never-married\n",
      "              Divorced\n",
      "    Married-civ-spouse\n",
      "    Married-civ-spouse\n",
      "         Never-married\n",
      "    Married-civ-spouse\n",
      "              Divorced\n",
      "         Never-married\n",
      "    Married-civ-spouse\n",
      "         Never-married\n",
      "    Married-civ-spouse\n",
      "         Never-married\n",
      "    Married-civ-spouse\n",
      "    Married-civ-spouse\n",
      "    Married-civ-spouse\n",
      "    Married-civ-spouse\n",
      "    Married-civ-spouse\n",
      "    Married-civ-spouse\n",
      "    Married-civ-spouse\n",
      "         Never-married\n",
      "              Divorced\n",
      "    Married-civ-spouse\n",
      "    Married-civ-spouse\n",
      "             Separated\n",
      "              Divorced\n",
      "         Never-married\n",
      "         Never-married\n",
      " Married-spouse-absent\n",
      "    Married-civ-spouse\n",
      "    Married-civ-spouse\n",
      "    Married-civ-spouse\n",
      "              Divorced\n",
      "    Married-civ-spouse\n",
      "         Never-married\n",
      "         Never-married\n",
      "         Never-married\n",
      "         Never-married\n",
      "    Married-civ-spouse\n",
      "         Never-married\n",
      "               Widowed\n",
      "    Married-civ-spouse\n",
      "    Married-civ-spouse\n",
      "    Married-civ-spouse\n",
      "    Married-civ-spouse\n",
      "    Married-civ-spouse\n",
      "         Never-married\n",
      "    Married-civ-spouse\n",
      "    Married-civ-spouse\n",
      "         Never-married\n",
      "    Married-civ-spouse\n",
      "             Separated\n",
      "         Never-married\n",
      "    Married-civ-spouse\n",
      "    Married-civ-spouse\n",
      "    Married-civ-spouse\n",
      "    Married-civ-spouse\n",
      "         Never-married\n",
      "    Married-civ-spouse\n",
      "         Never-married\n",
      "         Never-married\n",
      "         Never-married\n",
      "    Married-civ-spouse\n",
      "         Never-married\n",
      "    Married-civ-spouse\n",
      "              Divorced\n",
      "         Never-married\n",
      "    Married-civ-spouse\n",
      "    Married-civ-spouse\n",
      "         Never-married\n",
      "    Married-civ-spouse\n",
      "    Married-civ-spouse\n",
      "    Married-civ-spouse\n",
      "               Widowed\n",
      "    Married-civ-spouse\n",
      "         Never-married\n",
      "              Divorced\n",
      "         Never-married\n",
      "              Divorced\n",
      "    Married-civ-spouse\n",
      "    Married-civ-spouse\n",
      "              Divorced\n",
      "    Married-civ-spouse\n",
      " Married-spouse-absent\n",
      "    Married-civ-spouse\n",
      "    Married-civ-spouse\n",
      " Married-spouse-absent\n",
      "    Married-civ-spouse\n",
      "         Never-married\n",
      "    Married-civ-spouse\n",
      "    Married-civ-spouse\n",
      "    Married-civ-spouse\n",
      "    Married-civ-spouse\n",
      "    Married-civ-spouse\n",
      "    Married-civ-spouse\n",
      "              Divorced\n",
      "    Married-civ-spouse\n",
      "    Married-civ-spouse\n",
      "    Married-civ-spouse\n",
      "               Widowed\n",
      "         Never-married\n",
      "    Married-civ-spouse\n",
      "         Never-married\n",
      "    Married-civ-spouse\n",
      " Married-spouse-absent\n",
      "    Married-civ-spouse\n",
      "    Married-civ-spouse\n",
      "    Married-civ-spouse\n",
      "              Divorced\n",
      "    Married-civ-spouse\n",
      "    Married-civ-spouse\n",
      "              Divorced\n",
      "    Married-civ-spouse\n",
      "    Married-civ-spouse\n",
      "         Never-married\n",
      "              Divorced\n",
      "              Divorced\n",
      "    Married-civ-spouse\n",
      "         Never-married\n",
      "    Married-civ-spouse\n",
      "         Never-married\n",
      " Married-spouse-absent\n",
      "    Married-civ-spouse\n",
      "         Never-married\n",
      "    Married-civ-spouse\n",
      "         Never-married\n",
      "         Never-married\n",
      "    Married-civ-spouse\n",
      "              Divorced\n",
      "         Never-married\n",
      "     Married-AF-spouse\n",
      "    Married-civ-spouse\n",
      "    Married-civ-spouse\n",
      "         Never-married\n",
      "    Married-civ-spouse\n",
      " Married-spouse-absent\n",
      "    Married-civ-spouse\n",
      "    Married-civ-spouse\n",
      "             Separated\n",
      "    Married-civ-spouse\n",
      "    Married-civ-spouse\n",
      "    Married-civ-spouse\n",
      "    Married-civ-spouse\n",
      "    Married-civ-spouse\n",
      "    Married-civ-spouse\n",
      "             Separated\n",
      "    Married-civ-spouse\n",
      "         Never-married\n",
      "         Never-married\n",
      "              Divorced\n",
      "              Divorced\n",
      "         Never-married\n",
      "         Never-married\n",
      "         Never-married\n",
      "         Never-married\n",
      "    Married-civ-spouse\n",
      "    Married-civ-spouse\n",
      "         Never-married\n",
      "         Never-married\n",
      "    Married-civ-spouse\n",
      "    Married-civ-spouse\n",
      "              Divorced\n",
      "         Never-married\n",
      "    Married-civ-spouse\n",
      "    Married-civ-spouse\n",
      "              Divorced\n",
      "    Married-civ-spouse\n",
      "         Never-married\n",
      "    Married-civ-spouse\n",
      "              Divorced\n",
      "              Divorced\n",
      "              Divorced\n",
      "         Never-married\n",
      "    Married-civ-spouse\n",
      "    Married-civ-spouse\n",
      "    Married-civ-spouse\n",
      "    Married-civ-spouse\n",
      "    Married-civ-spouse\n",
      "         Never-married\n",
      "    Married-civ-spouse\n",
      "    Married-civ-spouse\n",
      "         Never-married\n",
      "              Divorced\n",
      "         Never-married\n",
      "    Married-civ-spouse\n",
      "              Divorced\n",
      "    Married-civ-spouse\n",
      "    Married-civ-spouse\n",
      "         Never-married\n",
      "    Married-civ-spouse\n",
      "         Never-married\n",
      "    Married-civ-spouse\n",
      "    Married-civ-spouse\n",
      "    Married-civ-spouse\n",
      "              Divorced\n",
      "    Married-civ-spouse\n",
      "         Never-married\n",
      "             Separated\n",
      "         Never-married\n",
      "         Never-married\n",
      "    Married-civ-spouse\n",
      "    Married-civ-spouse\n",
      "    Married-civ-spouse\n",
      "             Separated\n",
      "         Never-married\n",
      "    Married-civ-spouse\n",
      "         Never-married\n",
      "    Married-civ-spouse\n",
      "    Married-civ-spouse\n",
      "    Married-civ-spouse\n",
      "         Never-married\n",
      "              Divorced\n",
      "         Never-married\n",
      "         Never-married\n",
      "              Divorced\n",
      "    Married-civ-spouse\n",
      "         Never-married\n",
      "         Never-married\n",
      "         Never-married\n",
      "             Separated\n",
      "         Never-married\n",
      "    Married-civ-spouse\n",
      "    Married-civ-spouse\n",
      "         Never-married\n",
      "         Never-married\n",
      "    Married-civ-spouse\n",
      "         Never-married\n",
      "    Married-civ-spouse\n",
      "              Divorced\n",
      "    Married-civ-spouse\n",
      "              Divorced\n",
      "         Never-married\n",
      "    Married-civ-spouse\n",
      "             Separated\n",
      "              Divorced\n",
      "    Married-civ-spouse\n",
      "         Never-married\n",
      "    Married-civ-spouse\n",
      "         Never-married\n",
      "         Never-married\n",
      "    Married-civ-spouse\n",
      "         Never-married\n",
      "         Never-married\n",
      "    Married-civ-spouse\n",
      "    Married-civ-spouse\n",
      "              Divorced\n",
      "              Divorced\n",
      "              Divorced\n",
      "         Never-married\n",
      "    Married-civ-spouse\n",
      "         Never-married\n",
      "         Never-married\n",
      "         Never-married\n",
      "    Married-civ-spouse\n",
      "             Separated\n",
      "              Divorced\n",
      "         Never-married\n",
      "    Married-civ-spouse\n",
      "    Married-civ-spouse\n",
      "         Never-married\n",
      "    Married-civ-spouse\n",
      "    Married-civ-spouse\n",
      "              Divorced\n",
      "    Married-civ-spouse\n",
      "         Never-married\n",
      "              Divorced\n",
      "    Married-civ-spouse\n",
      "    Married-civ-spouse\n",
      "              Divorced\n",
      "    Married-civ-spouse\n",
      "    Married-civ-spouse\n",
      "    Married-civ-spouse\n",
      "         Never-married\n",
      "         Never-married\n",
      "    Married-civ-spouse\n",
      "         Never-married\n",
      "              Divorced\n",
      "         Never-married\n",
      "    Married-civ-spouse\n",
      "         Never-married\n",
      "         Never-married\n",
      "    Married-civ-spouse\n",
      "         Never-married\n",
      "         Never-married\n",
      "              Divorced\n",
      "    Married-civ-spouse\n",
      "    Married-civ-spouse\n",
      "    Married-civ-spouse\n",
      "         Never-married\n",
      "         Never-married\n",
      "    Married-civ-spouse\n",
      "         Never-married\n",
      "    Married-civ-spouse\n",
      "              Divorced\n",
      "         Never-married\n",
      "              Divorced\n",
      "         Never-married\n",
      "              Divorced\n",
      "         Never-married\n",
      "    Married-civ-spouse\n",
      "    Married-civ-spouse\n",
      "              Divorced\n",
      "              Divorced\n",
      "         Never-married\n",
      "    Married-civ-spouse\n",
      "         Never-married\n",
      "         Never-married\n",
      "              Divorced\n",
      "    Married-civ-spouse\n",
      "              Divorced\n",
      "         Never-married\n",
      "         Never-married\n",
      "    Married-civ-spouse\n",
      "              Divorced\n",
      "         Never-married\n",
      "         Never-married\n",
      "              Divorced\n",
      "              Divorced\n",
      "              Divorced\n",
      "         Never-married\n",
      "    Married-civ-spouse\n",
      "              Divorced\n",
      "         Never-married\n",
      "    Married-civ-spouse\n",
      "         Never-married\n",
      "         Never-married\n",
      "         Never-married\n",
      "         Never-married\n",
      "               Widowed\n",
      "               Widowed\n",
      "         Never-married\n",
      "         Never-married\n",
      "         Never-married\n",
      "              Divorced\n",
      "              Divorced\n",
      "    Married-civ-spouse\n",
      "    Married-civ-spouse\n",
      "         Never-married\n",
      "             Separated\n",
      "              Divorced\n",
      "    Married-civ-spouse\n",
      "    Married-civ-spouse\n",
      "    Married-civ-spouse\n",
      "    Married-civ-spouse\n",
      "              Divorced\n",
      "         Never-married\n",
      "         Never-married\n",
      "             Separated\n",
      "    Married-civ-spouse\n",
      "         Never-married\n",
      "         Never-married\n",
      "         Never-married\n",
      "               Widowed\n",
      "              Divorced\n",
      "              Divorced\n",
      "    Married-civ-spouse\n",
      "         Never-married\n",
      " Married-spouse-absent\n",
      "              Divorced\n",
      "         Never-married\n",
      "              Divorced\n",
      "              Divorced\n",
      "              Divorced\n",
      "         Never-married\n",
      "    Married-civ-spouse\n",
      "    Married-civ-spouse\n",
      "    Married-civ-spouse\n",
      "              Divorced\n",
      "              Divorced\n",
      "    Married-civ-spouse\n",
      "         Never-married\n",
      "              Divorced\n",
      "    Married-civ-spouse\n",
      "             Separated\n",
      "               Widowed\n",
      "         Never-married\n",
      "         Never-married\n",
      "    Married-civ-spouse\n",
      "    Married-civ-spouse\n",
      "             Separated\n",
      "         Never-married\n",
      "              Divorced\n",
      "    Married-civ-spouse\n",
      "         Never-married\n",
      "               Widowed\n",
      "         Never-married\n",
      "         Never-married\n",
      "         Never-married\n",
      "    Married-civ-spouse\n",
      "              Divorced\n",
      "    Married-civ-spouse\n",
      "         Never-married\n",
      "    Married-civ-spouse\n",
      "    Married-civ-spouse\n",
      "         Never-married\n",
      "         Never-married\n",
      "    Married-civ-spouse\n",
      "    Married-civ-spouse\n",
      "    Married-civ-spouse\n",
      "              Divorced\n",
      "    Married-civ-spouse\n",
      "    Married-civ-spouse\n",
      "    Married-civ-spouse\n",
      "    Married-civ-spouse\n",
      "              Divorced\n",
      "              Divorced\n",
      "         Never-married\n",
      "         Never-married\n",
      "    Married-civ-spouse\n",
      "             Separated\n",
      "    Married-civ-spouse\n",
      "         Never-married\n",
      "    Married-civ-spouse\n",
      "    Married-civ-spouse\n",
      "               Widowed\n",
      "    Married-civ-spouse\n",
      "         Never-married\n",
      "    Married-civ-spouse\n",
      "         Never-married\n",
      "         Never-married\n",
      "         Never-married\n",
      "         Never-married\n",
      "    Married-civ-spouse\n",
      "    Married-civ-spouse\n",
      "    Married-civ-spouse\n",
      "         Never-married\n",
      "         Never-married\n",
      "         Never-married\n",
      "              Divorced\n",
      "              Divorced\n",
      "         Never-married\n",
      "    Married-civ-spouse\n",
      "              Divorced\n",
      "         Never-married\n",
      "    Married-civ-spouse\n",
      "              Divorced\n",
      "               Widowed\n",
      "    Married-civ-spouse\n",
      "         Never-married\n",
      "             Separated\n",
      "         Never-married\n",
      "    Married-civ-spouse\n",
      "    Married-civ-spouse\n",
      "         Never-married\n",
      "    Married-civ-spouse\n",
      "    Married-civ-spouse\n",
      "    Married-civ-spouse\n",
      "    Married-civ-spouse\n",
      "    Married-civ-spouse\n",
      "         Never-married\n",
      "    Married-civ-spouse\n",
      "    Married-civ-spouse\n",
      "         Never-married\n",
      "             Separated\n",
      "    Married-civ-spouse\n",
      "    Married-civ-spouse\n",
      "    Married-civ-spouse\n",
      "    Married-civ-spouse\n",
      "    Married-civ-spouse\n",
      "    Married-civ-spouse\n",
      "    Married-civ-spouse\n",
      "    Married-civ-spouse\n",
      "         Never-married\n",
      "    Married-civ-spouse\n",
      "         Never-married\n",
      "    Married-civ-spouse\n",
      "         Never-married\n",
      "         Never-married\n",
      "              Divorced\n",
      "    Married-civ-spouse\n",
      "         Never-married\n",
      "         Never-married\n",
      "    Married-civ-spouse\n",
      "         Never-married\n",
      "    Married-civ-spouse\n",
      "         Never-married\n",
      "         Never-married\n",
      "    Married-civ-spouse\n",
      "    Married-civ-spouse\n",
      "    Married-civ-spouse\n",
      "    Married-civ-spouse\n",
      "    Married-civ-spouse\n",
      "         Never-married\n",
      "              Divorced\n",
      "               Widowed\n",
      "         Never-married\n",
      "    Married-civ-spouse\n",
      "    Married-civ-spouse\n",
      "         Never-married\n",
      "    Married-civ-spouse\n",
      "    Married-civ-spouse\n",
      "              Divorced\n",
      "    Married-civ-spouse\n",
      "              Divorced\n",
      "             Separated\n",
      "         Never-married\n",
      "         Never-married\n",
      "    Married-civ-spouse\n",
      "    Married-civ-spouse\n",
      "    Married-civ-spouse\n",
      "         Never-married\n",
      "    Married-civ-spouse\n",
      "         Never-married\n",
      "              Divorced\n",
      "         Never-married\n",
      "    Married-civ-spouse\n",
      "              Divorced\n",
      "    Married-civ-spouse\n",
      "         Never-married\n",
      "    Married-civ-spouse\n",
      "              Divorced\n",
      "         Never-married\n",
      "    Married-civ-spouse\n",
      "         Never-married\n",
      "              Divorced\n",
      "    Married-civ-spouse\n",
      "         Never-married\n",
      "    Married-civ-spouse\n",
      "    Married-civ-spouse\n",
      "         Never-married\n",
      "         Never-married\n",
      "    Married-civ-spouse\n",
      "    Married-civ-spouse\n",
      "    Married-civ-spouse\n",
      "    Married-civ-spouse\n",
      "         Never-married\n",
      "    Married-civ-spouse\n",
      "         Never-married\n",
      "         Never-married\n",
      "              Divorced\n",
      "         Never-married\n",
      "         Never-married\n",
      "    Married-civ-spouse\n",
      "    Married-civ-spouse\n",
      "         Never-married\n",
      "               Widowed\n",
      "    Married-civ-spouse\n",
      "         Never-married\n",
      "    Married-civ-spouse\n",
      "         Never-married\n",
      "    Married-civ-spouse\n",
      "              Divorced\n",
      "             Separated\n",
      "         Never-married\n",
      "         Never-married\n",
      "    Married-civ-spouse\n",
      "         Never-married\n",
      "         Never-married\n",
      "         Never-married\n",
      "    Married-civ-spouse\n",
      "         Never-married\n",
      "             Separated\n",
      "         Never-married\n",
      "    Married-civ-spouse\n",
      "    Married-civ-spouse\n",
      "    Married-civ-spouse\n",
      "         Never-married\n",
      "         Never-married\n",
      "    Married-civ-spouse\n",
      "              Divorced\n",
      "             Separated\n",
      "              Divorced\n",
      " Married-spouse-absent\n",
      "              Divorced\n",
      "    Married-civ-spouse\n",
      "              Divorced\n",
      "    Married-civ-spouse\n",
      "    Married-civ-spouse\n",
      "    Married-civ-spouse\n",
      "         Never-married\n",
      "              Divorced\n",
      "         Never-married\n",
      "               Widowed\n",
      " Married-spouse-absent\n",
      "              Divorced\n",
      "    Married-civ-spouse\n",
      "         Never-married\n",
      "              Divorced\n",
      "    Married-civ-spouse\n",
      "         Never-married\n",
      "    Married-civ-spouse\n",
      "    Married-civ-spouse\n",
      "    Married-civ-spouse\n",
      "         Never-married\n",
      "    Married-civ-spouse\n",
      "         Never-married\n",
      "         Never-married\n",
      "    Married-civ-spouse\n",
      "    Married-civ-spouse\n",
      "              Divorced\n",
      "    Married-civ-spouse\n",
      "         Never-married\n",
      "         Never-married\n",
      "    Married-civ-spouse\n",
      "    Married-civ-spouse\n",
      "         Never-married\n",
      "         Never-married\n",
      "    Married-civ-spouse\n",
      "    Married-civ-spouse\n",
      "    Married-civ-spouse\n",
      "         Never-married\n",
      "    Married-civ-spouse\n",
      "    Married-civ-spouse\n",
      "              Divorced\n",
      "         Never-married\n",
      "    Married-civ-spouse\n",
      "    Married-civ-spouse\n",
      "         Never-married\n",
      "    Married-civ-spouse\n",
      "    Married-civ-spouse\n",
      "    Married-civ-spouse\n",
      "         Never-married\n",
      "         Never-married\n",
      "    Married-civ-spouse\n",
      "         Never-married\n",
      "         Never-married\n",
      "              Divorced\n",
      "    Married-civ-spouse\n",
      "             Separated\n",
      "         Never-married\n",
      "               Widowed\n",
      "    Married-civ-spouse\n",
      "    Married-civ-spouse\n",
      "         Never-married\n",
      "    Married-civ-spouse\n",
      "              Divorced\n",
      "         Never-married\n",
      "    Married-civ-spouse\n",
      "         Never-married\n",
      "    Married-civ-spouse\n",
      "    Married-civ-spouse\n",
      "    Married-civ-spouse\n",
      "              Divorced\n",
      " Married-spouse-absent\n",
      "               Widowed\n",
      "         Never-married\n",
      "             Separated\n",
      "    Married-civ-spouse\n",
      "    Married-civ-spouse\n",
      "         Never-married\n",
      "    Married-civ-spouse\n",
      "         Never-married\n",
      "         Never-married\n",
      "         Never-married\n",
      "    Married-civ-spouse\n",
      "             Separated\n",
      "               Widowed\n",
      "         Never-married\n",
      "               Widowed\n",
      "              Divorced\n",
      "         Never-married\n",
      "    Married-civ-spouse\n",
      "    Married-civ-spouse\n",
      "    Married-civ-spouse\n",
      "    Married-civ-spouse\n",
      "               Widowed\n",
      "    Married-civ-spouse\n",
      "               Widowed\n",
      "             Separated\n",
      "               Widowed\n",
      "    Married-civ-spouse\n",
      "    Married-civ-spouse\n",
      "         Never-married\n",
      "         Never-married\n",
      "         Never-married\n",
      "    Married-civ-spouse\n",
      "         Never-married\n",
      "    Married-civ-spouse\n",
      "              Divorced\n",
      "         Never-married\n",
      "         Never-married\n",
      "    Married-civ-spouse\n",
      "    Married-civ-spouse\n",
      "              Divorced\n",
      "              Divorced\n",
      "         Never-married\n",
      "               Widowed\n",
      "         Never-married\n",
      "    Married-civ-spouse\n",
      "    Married-civ-spouse\n",
      "         Never-married\n",
      "    Married-civ-spouse\n",
      "    Married-civ-spouse\n",
      "    Married-civ-spouse\n",
      "    Married-civ-spouse\n",
      "              Divorced\n",
      "    Married-civ-spouse\n",
      "    Married-civ-spouse\n",
      "              Divorced\n",
      "    Married-civ-spouse\n",
      "              Divorced\n",
      "    Married-civ-spouse\n",
      "              Divorced\n",
      "    Married-civ-spouse\n",
      "    Married-civ-spouse\n",
      "    Married-civ-spouse\n",
      "              Divorced\n",
      "    Married-civ-spouse\n",
      "    Married-civ-spouse\n",
      "             Separated\n",
      "    Married-civ-spouse\n",
      "         Never-married\n",
      "         Never-married\n",
      "         Never-married\n",
      "             Separated\n",
      "               Widowed\n",
      "         Never-married\n",
      "              Divorced\n",
      "         Never-married\n",
      "    Married-civ-spouse\n",
      "    Married-civ-spouse\n",
      "    Married-civ-spouse\n",
      "    Married-civ-spouse\n",
      "             Separated\n",
      "               Widowed\n",
      "    Married-civ-spouse\n",
      "    Married-civ-spouse\n",
      "              Divorced\n",
      "    Married-civ-spouse\n",
      "         Never-married\n",
      "              Divorced\n",
      "         Never-married\n",
      "         Never-married\n",
      "              Divorced\n",
      "    Married-civ-spouse\n",
      "         Never-married\n",
      "    Married-civ-spouse\n",
      "         Never-married\n",
      "    Married-civ-spouse\n",
      "    Married-civ-spouse\n",
      "         Never-married\n",
      "    Married-civ-spouse\n",
      "         Never-married\n",
      "    Married-civ-spouse\n",
      "         Never-married\n",
      "         Never-married\n",
      "    Married-civ-spouse\n",
      "    Married-civ-spouse\n",
      "              Divorced\n",
      "         Never-married\n",
      "    Married-civ-spouse\n",
      "    Married-civ-spouse\n",
      "         Never-married\n",
      "    Married-civ-spouse\n",
      "    Married-civ-spouse\n",
      "         Never-married\n",
      "    Married-civ-spouse\n",
      "         Never-married\n",
      "    Married-civ-spouse\n",
      "              Divorced\n",
      "    Married-civ-spouse\n",
      "         Never-married\n",
      "    Married-civ-spouse\n",
      "    Married-civ-spouse\n",
      "    Married-civ-spouse\n",
      "         Never-married\n",
      "               Widowed\n",
      "    Married-civ-spouse\n",
      "    Married-civ-spouse\n",
      "    Married-civ-spouse\n",
      "    Married-civ-spouse\n",
      "         Never-married\n",
      "    Married-civ-spouse\n",
      "              Divorced\n",
      "    Married-civ-spouse\n",
      "    Married-civ-spouse\n",
      "         Never-married\n",
      "    Married-civ-spouse\n",
      "              Divorced\n",
      "    Married-civ-spouse\n",
      "    Married-civ-spouse\n",
      "    Married-civ-spouse\n",
      "    Married-civ-spouse\n",
      "    Married-civ-spouse\n",
      "    Married-civ-spouse\n",
      "    Married-civ-spouse\n",
      "    Married-civ-spouse\n",
      "         Never-married\n",
      "              Divorced\n",
      "    Married-civ-spouse\n",
      "    Married-civ-spouse\n",
      "             Separated\n",
      "    Married-civ-spouse\n",
      "    Married-civ-spouse\n",
      "    Married-civ-spouse\n",
      "         Never-married\n",
      "    Married-civ-spouse\n",
      "               Widowed\n",
      "         Never-married\n",
      "         Never-married\n",
      "    Married-civ-spouse\n",
      "    Married-civ-spouse\n",
      "    Married-civ-spouse\n",
      "         Never-married\n",
      "    Married-civ-spouse\n",
      "              Divorced\n",
      "    Married-civ-spouse\n",
      "    Married-civ-spouse\n",
      "    Married-civ-spouse\n",
      "         Never-married\n",
      "    Married-civ-spouse\n",
      "         Never-married\n",
      "    Married-civ-spouse\n",
      "         Never-married\n",
      "    Married-civ-spouse\n",
      "    Married-civ-spouse\n",
      "         Never-married\n",
      "         Never-married\n",
      "    Married-civ-spouse\n",
      "    Married-civ-spouse\n",
      "         Never-married\n",
      "    Married-civ-spouse\n",
      "         Never-married\n",
      "    Married-civ-spouse\n",
      "         Never-married\n",
      "         Never-married\n",
      "    Married-civ-spouse\n",
      "    Married-civ-spouse\n",
      "         Never-married\n",
      "              Divorced\n",
      "    Married-civ-spouse\n",
      "              Divorced\n",
      "              Divorced\n",
      "    Married-civ-spouse\n",
      "         Never-married\n",
      "         Never-married\n",
      "    Married-civ-spouse\n",
      "    Married-civ-spouse\n",
      "              Divorced\n",
      "    Married-civ-spouse\n",
      "         Never-married\n",
      "    Married-civ-spouse\n",
      "         Never-married\n",
      "    Married-civ-spouse\n",
      "         Never-married\n",
      "    Married-civ-spouse\n",
      "              Divorced\n",
      "         Never-married\n",
      "    Married-civ-spouse\n",
      "    Married-civ-spouse\n",
      "         Never-married\n",
      "    Married-civ-spouse\n",
      "         Never-married\n",
      "         Never-married\n",
      "         Never-married\n",
      "              Divorced\n",
      "         Never-married\n",
      "         Never-married\n",
      "         Never-married\n",
      "    Married-civ-spouse\n",
      "         Never-married\n",
      "             Separated\n",
      "    Married-civ-spouse\n",
      "    Married-civ-spouse\n",
      "         Never-married\n",
      "         Never-married\n",
      "              Divorced\n",
      "         Never-married\n",
      "    Married-civ-spouse\n",
      "         Never-married\n",
      "    Married-civ-spouse\n",
      "         Never-married\n",
      "    Married-civ-spouse\n",
      "    Married-civ-spouse\n",
      "         Never-married\n",
      "         Never-married\n",
      "         Never-married\n"
     ],
     "output_type":"stream"
    }
   ],
   "metadata":{
    "datalore":{
     "node_id":"CiAlloeJC2W0ivbMNjaFmq",
     "type":"CODE",
     "hide_input_from_viewers":true,
     "hide_output_from_viewers":true
    }
   }
  },
  {
   "cell_type":"code",
   "source":[
    "data['Marital-St']"
   ],
   "execution_count":30,
   "outputs":[
    {
     "data":{
      "text\/html":[
       "<pre>16255                Widowed\n",
       "2559      Married-civ-spouse\n",
       "11040     Married-civ-spouse\n",
       "21434               Divorced\n",
       "20109          Never-married\n",
       "                ...         \n",
       "9177      Married-civ-spouse\n",
       "4507      Married-civ-spouse\n",
       "19134          Never-married\n",
       "30750          Never-married\n",
       "14046          Never-married\n",
       "Name: Marital-St, Length: 3000, dtype: object<\/pre>"
      ]
     },
     "metadata":{
      
     },
     "output_type":"display_data"
    }
   ],
   "metadata":{
    "datalore":{
     "node_id":"vcICCsJipkYx60fpCVnmOH",
     "type":"CODE",
     "hide_input_from_viewers":true,
     "hide_output_from_viewers":true
    }
   }
  },
  {
   "cell_type":"code",
   "source":[
    "data[' cap-gain'].groupby([data['sex'] == 'Female', data['Marital-St']]).mean()"
   ],
   "execution_count":31,
   "outputs":[
    {
     "data":{
      "text\/html":[
       "<pre>sex    Marital-St            \n",
       "False   Divorced                  885.155502\n",
       "        Married-AF-spouse         912.250000\n",
       "        Married-civ-spouse       1669.085821\n",
       "        Married-spouse-absent       0.000000\n",
       "        Never-married             573.839058\n",
       "        Separated                 691.545455\n",
       "        Widowed                   627.263736\n",
       "Name:  cap-gain, dtype: float64<\/pre>"
      ]
     },
     "metadata":{
      
     },
     "output_type":"display_data"
    }
   ],
   "metadata":{
    "datalore":{
     "node_id":"axrpnVrPmnJ2tUmiwIc86c",
     "type":"CODE",
     "hide_input_from_viewers":true,
     "hide_output_from_viewers":true
    }
   }
  },
  {
   "cell_type":"markdown",
   "source":[
    "Obeservation 5: In the cell above using `data['sex'] == 'Female'` enables Female to be isolated. "
   ],
   "attachments":{
    
   },
   "metadata":{
    "datalore":{
     "node_id":"2RUWoWAtEz8a6ZMJFYAqo5",
     "type":"MD",
     "hide_input_from_viewers":true,
     "hide_output_from_viewers":true
    }
   }
  },
  {
   "cell_type":"markdown",
   "source":[
    "****Question: what is the maximum age across different races?** **"
   ],
   "attachments":{
    
   },
   "metadata":{
    "datalore":{
     "node_id":"9nwTUDi5JLiS1ZujyePU67",
     "type":"MD",
     "hide_input_from_viewers":true,
     "hide_output_from_viewers":true
    }
   }
  },
  {
   "cell_type":"code",
   "source":[
    "data['age'].groupby([data['race']]).max()"
   ],
   "execution_count":32,
   "outputs":[
    {
     "data":{
      "text\/html":[
       "<pre>race\n",
       " Amer-Indian-Eskimo    61\n",
       " Asian-Pac-Islander    78\n",
       " Black                 75\n",
       " Other                 53\n",
       " White                 90\n",
       "Name: age, dtype: int64<\/pre>"
      ]
     },
     "metadata":{
      
     },
     "output_type":"display_data"
    }
   ],
   "metadata":{
    "datalore":{
     "node_id":"RNBHDqXmWBDwzMhD1te7n5",
     "type":"CODE",
     "hide_input_from_viewers":true,
     "hide_output_from_viewers":true
    }
   }
  },
  {
   "cell_type":"markdown",
   "source":[
    "Q5: Minimum and maximum age by sex are they the same?"
   ],
   "attachments":{
    
   },
   "metadata":{
    "datalore":{
     "node_id":"VxlHD50rimbPverGBWlUEl",
     "type":"MD",
     "hide_input_from_viewers":true,
     "hide_output_from_viewers":true
    }
   }
  },
  {
   "cell_type":"code",
   "source":[
    "# Minimum age by sex:\n",
    "\n",
    "data['age'].groupby([data['sex']]).min()"
   ],
   "execution_count":33,
   "outputs":[
    {
     "data":{
      "text\/html":[
       "<pre>sex\n",
       " Female    17\n",
       " Male      17\n",
       "Name: age, dtype: int64<\/pre>"
      ]
     },
     "metadata":{
      
     },
     "output_type":"display_data"
    }
   ],
   "metadata":{
    "datalore":{
     "node_id":"bA83lNM11wWJPP9Hzspblj",
     "type":"CODE",
     "hide_input_from_viewers":true,
     "hide_output_from_viewers":true
    }
   }
  },
  {
   "cell_type":"code",
   "source":[
    "# Maximum age by sex\n",
    "data['age'].groupby([data['sex']]).max()"
   ],
   "execution_count":34,
   "outputs":[
    {
     "data":{
      "text\/html":[
       "<pre>sex\n",
       " Female    85\n",
       " Male      90\n",
       "Name: age, dtype: int64<\/pre>"
      ]
     },
     "metadata":{
      
     },
     "output_type":"display_data"
    }
   ],
   "metadata":{
    "datalore":{
     "node_id":"I8Ivs9SqUl2gmV8PsZo4Sx",
     "type":"CODE",
     "hide_input_from_viewers":true,
     "hide_output_from_viewers":true
    }
   }
  },
  {
   "cell_type":"markdown",
   "source":[
    "answer to Q5: minimum and maximum age by sex are not the same. for maximum the age is older and for minimum age is younger."
   ],
   "attachments":{
    
   },
   "metadata":{
    "datalore":{
     "node_id":"YG7b8nWdAeIpZph1lxFVoi",
     "type":"MD",
     "hide_input_from_viewers":true,
     "hide_output_from_viewers":true
    }
   }
  },
  {
   "cell_type":"markdown",
   "source":[
    "# Data Visualisation"
   ],
   "attachments":{
    
   },
   "metadata":{
    "datalore":{
     "node_id":"ZZ6NaylqxWuxypvb4dMzcv",
     "type":"MD",
     "hide_input_from_viewers":true,
     "hide_output_from_viewers":true
    }
   }
  },
  {
   "cell_type":"markdown",
   "source":[
    "`Matplotlib` is apart of the Python Pandas library for visualising data in the form of graphs such as histograms, scatter, box plot, line plots, etc."
   ],
   "attachments":{
    
   },
   "metadata":{
    "datalore":{
     "node_id":"b9R8RmiHkinZocfUup5HV0",
     "type":"MD",
     "hide_input_from_viewers":true,
     "hide_output_from_viewers":true
    }
   }
  },
  {
   "cell_type":"code",
   "source":[
    "import matplotlib.pyplot as plt\n",
    "%matplotlib inline"
   ],
   "execution_count":35,
   "outputs":[
    
   ],
   "metadata":{
    "datalore":{
     "node_id":"WOCAga1cFqrd0oAkGxPQzE",
     "type":"CODE",
     "hide_input_from_viewers":true,
     "hide_output_from_viewers":true
    }
   }
  },
  {
   "cell_type":"code",
   "source":[
    "data.describe()"
   ],
   "execution_count":36,
   "outputs":[
    {
     "data":{
      "text\/html":[
       "<div>\n",
       "<style scoped>\n",
       "    .dataframe tbody tr th:only-of-type {\n",
       "        vertical-align: middle;\n",
       "    }\n",
       "\n",
       "    .dataframe tbody tr th {\n",
       "        vertical-align: top;\n",
       "    }\n",
       "\n",
       "    .dataframe thead th {\n",
       "        text-align: right;\n",
       "    }\n",
       "<\/style>\n",
       "<table border=\"1\" class=\"dataframe\">\n",
       "  <thead>\n",
       "    <tr style=\"text-align: right;\">\n",
       "      <th><\/th>\n",
       "      <th>age<\/th>\n",
       "      <th>edu-num<\/th>\n",
       "      <th>cap-gain<\/th>\n",
       "      <th>capital-loss<\/th>\n",
       "      <th>hrs per wk<\/th>\n",
       "    <\/tr>\n",
       "  <\/thead>\n",
       "  <tbody>\n",
       "    <tr>\n",
       "      <th>count<\/th>\n",
       "      <td>3000.000000<\/td>\n",
       "      <td>3000.000000<\/td>\n",
       "      <td>3000.000000<\/td>\n",
       "      <td>3000.000000<\/td>\n",
       "      <td>3000.000000<\/td>\n",
       "    <\/tr>\n",
       "    <tr>\n",
       "      <th>mean<\/th>\n",
       "      <td>38.459333<\/td>\n",
       "      <td>10.074000<\/td>\n",
       "      <td>1105.515667<\/td>\n",
       "      <td>81.587000<\/td>\n",
       "      <td>40.868333<\/td>\n",
       "    <\/tr>\n",
       "    <tr>\n",
       "      <th>std<\/th>\n",
       "      <td>13.575435<\/td>\n",
       "      <td>2.519518<\/td>\n",
       "      <td>7446.848573<\/td>\n",
       "      <td>392.215687<\/td>\n",
       "      <td>11.887701<\/td>\n",
       "    <\/tr>\n",
       "    <tr>\n",
       "      <th>min<\/th>\n",
       "      <td>17.000000<\/td>\n",
       "      <td>1.000000<\/td>\n",
       "      <td>0.000000<\/td>\n",
       "      <td>0.000000<\/td>\n",
       "      <td>3.000000<\/td>\n",
       "    <\/tr>\n",
       "    <tr>\n",
       "      <th>25%<\/th>\n",
       "      <td>27.000000<\/td>\n",
       "      <td>9.000000<\/td>\n",
       "      <td>0.000000<\/td>\n",
       "      <td>0.000000<\/td>\n",
       "      <td>40.000000<\/td>\n",
       "    <\/tr>\n",
       "    <tr>\n",
       "      <th>50%<\/th>\n",
       "      <td>37.000000<\/td>\n",
       "      <td>10.000000<\/td>\n",
       "      <td>0.000000<\/td>\n",
       "      <td>0.000000<\/td>\n",
       "      <td>40.000000<\/td>\n",
       "    <\/tr>\n",
       "    <tr>\n",
       "      <th>75%<\/th>\n",
       "      <td>47.000000<\/td>\n",
       "      <td>12.000000<\/td>\n",
       "      <td>0.000000<\/td>\n",
       "      <td>0.000000<\/td>\n",
       "      <td>45.000000<\/td>\n",
       "    <\/tr>\n",
       "    <tr>\n",
       "      <th>max<\/th>\n",
       "      <td>90.000000<\/td>\n",
       "      <td>16.000000<\/td>\n",
       "      <td>99999.000000<\/td>\n",
       "      <td>3770.000000<\/td>\n",
       "      <td>99.000000<\/td>\n",
       "    <\/tr>\n",
       "  <\/tbody>\n",
       "<\/table>\n",
       "<\/div>"
      ]
     },
     "metadata":{
      
     },
     "output_type":"display_data"
    }
   ],
   "metadata":{
    "datalore":{
     "node_id":"jpclXggyHl6DRzdnza7PjL",
     "type":"CODE",
     "hide_input_from_viewers":true,
     "hide_output_from_viewers":true
    }
   }
  },
  {
   "cell_type":"code",
   "source":[
    "data['age'].hist(bins=100)"
   ],
   "execution_count":37,
   "outputs":[
    {
     "data":{
      "text\/plain":[
       "<AxesSubplot:>"
      ]
     },
     "metadata":{
      
     },
     "output_type":"display_data"
    },
    {
     "data":{
      "image\/png":"[encoded data removed]"
     },
     "metadata":{
      "image\/png":{
       
      }
     },
     "output_type":"display_data"
    }
   ],
   "metadata":{
    "datalore":{
     "node_id":"wU7gWWpuUh4ltyyDmiPwyT",
     "type":"CODE",
     "hide_input_from_viewers":true,
     "hide_output_from_viewers":true
    }
   }
  },
  {
   "cell_type":"code",
   "source":[
    "data.boxplot(column='age')"
   ],
   "execution_count":38,
   "outputs":[
    {
     "data":{
      "text\/plain":[
       "<AxesSubplot:>"
      ]
     },
     "metadata":{
      
     },
     "output_type":"display_data"
    },
    {
     "data":{
      "image\/png":"[encoded data removed]"
     },
     "metadata":{
      "image\/png":{
       
      }
     },
     "output_type":"display_data"
    }
   ],
   "metadata":{
    "datalore":{
     "node_id":"8YqrBiXEBXZDBCwkMUiEX0",
     "type":"CODE",
     "hide_input_from_viewers":true,
     "hide_output_from_viewers":true
    }
   }
  },
  {
   "cell_type":"code",
   "source":[
    "print(data.columns)"
   ],
   "execution_count":39,
   "outputs":[
    {
     "name":"stdout",
     "text":[
      "Index(['age', 'workclass', 'education', 'edu-num', 'Marital-St', 'occupation',\n",
      "       'relations', 'race', 'sex', ' cap-gain', 'capital-loss', 'hrs per wk',\n",
      "       'Nat count', 'class Label'],\n",
      "      dtype='object')\n"
     ],
     "output_type":"stream"
    }
   ],
   "metadata":{
    "datalore":{
     "node_id":"HcWLI0yJBabQChzEPANtV9",
     "type":"CODE",
     "hide_input_from_viewers":true,
     "hide_output_from_viewers":true
    }
   }
  },
  {
   "cell_type":"markdown",
   "source":[
    "Observation 4: `cap-gain` column is not being displayed effectively due to space in string. `(' cap-gain')` in the cell above, the code allows me to visualise each column in an isolated format, so i can identify any differences with ease."
   ],
   "attachments":{
    
   },
   "metadata":{
    "datalore":{
     "node_id":"aN2RDZsZWVLduPPmtg9rTY",
     "type":"MD",
     "hide_input_from_viewers":true,
     "hide_output_from_viewers":true
    }
   }
  },
  {
   "cell_type":"code",
   "source":[
    "data.boxplot(column= ' cap-gain')"
   ],
   "execution_count":40,
   "outputs":[
    {
     "data":{
      "text\/plain":[
       "<AxesSubplot:>"
      ]
     },
     "metadata":{
      
     },
     "output_type":"display_data"
    },
    {
     "data":{
      "image\/png":"[encoded data removed]"
     },
     "metadata":{
      "image\/png":{
       
      }
     },
     "output_type":"display_data"
    }
   ],
   "metadata":{
    "datalore":{
     "node_id":"WXAKstJSoSUJLJvijkWuw4",
     "type":"CODE",
     "hide_input_from_viewers":true,
     "hide_output_from_viewers":true
    }
   }
  },
  {
   "cell_type":"markdown",
   "source":[
    "The code above is now able to run due to implementing space before entering column name in string."
   ],
   "attachments":{
    
   },
   "metadata":{
    "datalore":{
     "node_id":"dtV11FlpB9Hul03mogA8Tm",
     "type":"MD",
     "hide_input_from_viewers":true,
     "hide_output_from_viewers":true
    }
   }
  },
  {
   "cell_type":"code",
   "source":[
    "data.boxplot(column='age', by = 'education', grid=False, rot = 45, fontsize = 10)"
   ],
   "execution_count":41,
   "outputs":[
    {
     "data":{
      "text\/plain":[
       "<AxesSubplot:title={'center':'age'}, xlabel='education'>"
      ]
     },
     "metadata":{
      
     },
     "output_type":"display_data"
    },
    {
     "data":{
      "image\/png":"[encoded data removed]"
     },
     "metadata":{
      "image\/png":{
       
      }
     },
     "output_type":"display_data"
    }
   ],
   "metadata":{
    "datalore":{
     "node_id":"bkzgheSPHdIsdd9tgCGaqT",
     "type":"CODE",
     "hide_input_from_viewers":true,
     "hide_output_from_viewers":true
    }
   }
  },
  {
   "cell_type":"code",
   "source":[
    "data['education'].value_counts()"
   ],
   "execution_count":42,
   "outputs":[
    {
     "data":{
      "text\/html":[
       "<pre> HS-grad         983\n",
       " Some-college    677\n",
       " Bachelors       508\n",
       " Masters         143\n",
       " Assoc-voc       133\n",
       " Assoc-acdm      104\n",
       " 11th            101\n",
       " 10th             80\n",
       " 7th-8th          57\n",
       " 9th              50\n",
       " Prof-school      48\n",
       " 12th             38\n",
       " Doctorate        30\n",
       " 5th-6th          29\n",
       " 1st-4th          13\n",
       " Preschool         6\n",
       "Name: education, dtype: int64<\/pre>"
      ]
     },
     "metadata":{
      
     },
     "output_type":"display_data"
    }
   ],
   "metadata":{
    "datalore":{
     "node_id":"jmr93Dzm2n98skgulbnERo",
     "type":"CODE",
     "hide_input_from_viewers":true,
     "hide_output_from_viewers":true
    }
   }
  },
  {
   "cell_type":"code",
   "source":[
    "data.boxplot(column=' cap-gain', by = 'education', grid=False, rot=45, fontsize=10)"
   ],
   "execution_count":43,
   "outputs":[
    {
     "data":{
      "text\/plain":[
       "<AxesSubplot:title={'center':' cap-gain'}, xlabel='education'>"
      ]
     },
     "metadata":{
      
     },
     "output_type":"display_data"
    },
    {
     "data":{
      "image\/png":"[encoded data removed]"
     },
     "metadata":{
      "image\/png":{
       
      }
     },
     "output_type":"display_data"
    }
   ],
   "metadata":{
    "datalore":{
     "node_id":"oXpMTI9QxSqh8GJpHLcSBD",
     "type":"CODE",
     "hide_input_from_viewers":true,
     "hide_output_from_viewers":true
    }
   }
  },
  {
   "cell_type":"markdown",
   "source":[
    "Data Pre-processing is an important step in the process. Raw data can be unstructured and full of noise. The aim of this phase is to reduce noise & to prepare the dataset that can be accepted by the algorithm as an input. Garbage In, Garbage Out(GIGA)."
   ],
   "attachments":{
    
   },
   "metadata":{
    "datalore":{
     "node_id":"HwBHX98sJNizdyy6JBN0ZV",
     "type":"MD",
     "hide_input_from_viewers":true,
     "hide_output_from_viewers":true
    }
   }
  },
  {
   "cell_type":"code",
   "source":[
    "data['Marital-St'].value_counts()"
   ],
   "execution_count":44,
   "outputs":[
    {
     "data":{
      "text\/html":[
       "<pre> Married-civ-spouse       1340\n",
       " Never-married            1019\n",
       " Divorced                  418\n",
       " Widowed                    91\n",
       " Separated                  88\n",
       " Married-spouse-absent      36\n",
       " Married-AF-spouse           8\n",
       "Name: Marital-St, dtype: int64<\/pre>"
      ]
     },
     "metadata":{
      
     },
     "output_type":"display_data"
    }
   ],
   "metadata":{
    "datalore":{
     "node_id":"D0kuPpdjGS87n1ApuB3qYJ",
     "type":"CODE",
     "hide_input_from_viewers":true,
     "hide_output_from_viewers":true
    }
   }
  },
  {
   "cell_type":"markdown",
   "source":[
    "## Checking NULL values in the dataset"
   ],
   "attachments":{
    
   },
   "metadata":{
    "datalore":{
     "node_id":"PIr6vNaZEIgdn9rmGlpZXP",
     "type":"MD",
     "hide_input_from_viewers":true,
     "hide_output_from_viewers":true
    }
   }
  },
  {
   "cell_type":"code",
   "source":[
    "data.apply(lambda x: sum(x.isnull()), axis = 0)"
   ],
   "execution_count":45,
   "outputs":[
    {
     "data":{
      "text\/html":[
       "<pre>age             0\n",
       "workclass       0\n",
       "education       0\n",
       "edu-num         0\n",
       "Marital-St      0\n",
       "occupation      0\n",
       "relations       0\n",
       "race            0\n",
       "sex             0\n",
       " cap-gain       0\n",
       "capital-loss    0\n",
       "hrs per wk      0\n",
       "Nat count       0\n",
       "class Label     0\n",
       "dtype: int64<\/pre>"
      ]
     },
     "metadata":{
      
     },
     "output_type":"display_data"
    }
   ],
   "metadata":{
    "datalore":{
     "node_id":"OaByzvzxT5w8BYST81cLGh",
     "type":"CODE",
     "hide_input_from_viewers":true,
     "hide_output_from_viewers":true
    }
   }
  },
  {
   "cell_type":"markdown",
   "source":[
    "# Data Transformation"
   ],
   "attachments":{
    
   },
   "metadata":{
    "datalore":{
     "node_id":"SOwT2FD6KAjCTmIlP2KzNb",
     "type":"MD",
     "hide_input_from_viewers":true,
     "hide_output_from_viewers":true
    }
   }
  },
  {
   "cell_type":"markdown",
   "source":[
    "**Label** **encoding**\n",
    "\n",
    "some attributes are categorical, therefore statistical analysis isn't possible. we need to convert all categorical variables (string labels) into numeric by encoding the categories. the 'sklearn' package provides LabelEncoder library for encoding labels between 0 to n-1 discrete values\/labels, when n is the number of values\/labels. \n",
    "\n",
    "e.g. Male -> 0 and Female -> 1"
   ],
   "attachments":{
    
   },
   "metadata":{
    "datalore":{
     "node_id":"PXtlScy4bXjnS43xNPtBWV",
     "type":"MD",
     "hide_input_from_viewers":true,
     "hide_output_from_viewers":true
    }
   }
  },
  {
   "cell_type":"code",
   "source":[
    "from sklearn.preprocessing import LabelEncoder"
   ],
   "execution_count":46,
   "outputs":[
    
   ],
   "metadata":{
    "datalore":{
     "node_id":"G1V8w7vwTgATF31l4DnrAM",
     "type":"CODE",
     "hide_input_from_viewers":true,
     "hide_output_from_viewers":true
    }
   }
  },
  {
   "cell_type":"code",
   "source":[
    "data.head()"
   ],
   "execution_count":47,
   "outputs":[
    {
     "data":{
      "text\/html":[
       "<div>\n",
       "<style scoped>\n",
       "    .dataframe tbody tr th:only-of-type {\n",
       "        vertical-align: middle;\n",
       "    }\n",
       "\n",
       "    .dataframe tbody tr th {\n",
       "        vertical-align: top;\n",
       "    }\n",
       "\n",
       "    .dataframe thead th {\n",
       "        text-align: right;\n",
       "    }\n",
       "<\/style>\n",
       "<table border=\"1\" class=\"dataframe\">\n",
       "  <thead>\n",
       "    <tr style=\"text-align: right;\">\n",
       "      <th><\/th>\n",
       "      <th>age<\/th>\n",
       "      <th>workclass<\/th>\n",
       "      <th>education<\/th>\n",
       "      <th>edu-num<\/th>\n",
       "      <th>Marital-St<\/th>\n",
       "      <th>occupation<\/th>\n",
       "      <th>relations<\/th>\n",
       "      <th>race<\/th>\n",
       "      <th>sex<\/th>\n",
       "      <th>cap-gain<\/th>\n",
       "      <th>capital-loss<\/th>\n",
       "      <th>hrs per wk<\/th>\n",
       "      <th>Nat count<\/th>\n",
       "      <th>class Label<\/th>\n",
       "    <\/tr>\n",
       "  <\/thead>\n",
       "  <tbody>\n",
       "    <tr>\n",
       "      <th>16255<\/th>\n",
       "      <td>64<\/td>\n",
       "      <td>Private<\/td>\n",
       "      <td>11th<\/td>\n",
       "      <td>7<\/td>\n",
       "      <td>Widowed<\/td>\n",
       "      <td>Tech-support<\/td>\n",
       "      <td>Unmarried<\/td>\n",
       "      <td>White<\/td>\n",
       "      <td>Female<\/td>\n",
       "      <td>0<\/td>\n",
       "      <td>0<\/td>\n",
       "      <td>16<\/td>\n",
       "      <td>United-States<\/td>\n",
       "      <td>&lt;=50K<\/td>\n",
       "    <\/tr>\n",
       "    <tr>\n",
       "      <th>2559<\/th>\n",
       "      <td>43<\/td>\n",
       "      <td>Private<\/td>\n",
       "      <td>Some-college<\/td>\n",
       "      <td>10<\/td>\n",
       "      <td>Married-civ-spouse<\/td>\n",
       "      <td>Adm-clerical<\/td>\n",
       "      <td>Wife<\/td>\n",
       "      <td>White<\/td>\n",
       "      <td>Female<\/td>\n",
       "      <td>4064<\/td>\n",
       "      <td>0<\/td>\n",
       "      <td>15<\/td>\n",
       "      <td>United-States<\/td>\n",
       "      <td>&lt;=50K<\/td>\n",
       "    <\/tr>\n",
       "    <tr>\n",
       "      <th>11040<\/th>\n",
       "      <td>46<\/td>\n",
       "      <td>Self-emp-not-inc<\/td>\n",
       "      <td>Prof-school<\/td>\n",
       "      <td>15<\/td>\n",
       "      <td>Married-civ-spouse<\/td>\n",
       "      <td>Exec-managerial<\/td>\n",
       "      <td>Husband<\/td>\n",
       "      <td>White<\/td>\n",
       "      <td>Male<\/td>\n",
       "      <td>15024<\/td>\n",
       "      <td>0<\/td>\n",
       "      <td>55<\/td>\n",
       "      <td>United-States<\/td>\n",
       "      <td>&gt;50K<\/td>\n",
       "    <\/tr>\n",
       "    <tr>\n",
       "      <th>21434<\/th>\n",
       "      <td>55<\/td>\n",
       "      <td>Federal-gov<\/td>\n",
       "      <td>Bachelors<\/td>\n",
       "      <td>13<\/td>\n",
       "      <td>Divorced<\/td>\n",
       "      <td>Prof-specialty<\/td>\n",
       "      <td>Unmarried<\/td>\n",
       "      <td>White<\/td>\n",
       "      <td>Male<\/td>\n",
       "      <td>0<\/td>\n",
       "      <td>0<\/td>\n",
       "      <td>40<\/td>\n",
       "      <td>United-States<\/td>\n",
       "      <td>&lt;=50K<\/td>\n",
       "    <\/tr>\n",
       "    <tr>\n",
       "      <th>20109<\/th>\n",
       "      <td>44<\/td>\n",
       "      <td>Private<\/td>\n",
       "      <td>Assoc-voc<\/td>\n",
       "      <td>11<\/td>\n",
       "      <td>Never-married<\/td>\n",
       "      <td>Priv-house-serv<\/td>\n",
       "      <td>Not-in-family<\/td>\n",
       "      <td>White<\/td>\n",
       "      <td>Male<\/td>\n",
       "      <td>594<\/td>\n",
       "      <td>0<\/td>\n",
       "      <td>25<\/td>\n",
       "      <td>United-States<\/td>\n",
       "      <td>&lt;=50K<\/td>\n",
       "    <\/tr>\n",
       "  <\/tbody>\n",
       "<\/table>\n",
       "<\/div>"
      ]
     },
     "metadata":{
      
     },
     "output_type":"display_data"
    }
   ],
   "metadata":{
    "datalore":{
     "node_id":"uPHFmqz7eloiuj8wje1JPs",
     "type":"CODE",
     "hide_input_from_viewers":true,
     "hide_output_from_viewers":true
    }
   }
  },
  {
   "cell_type":"code",
   "source":[
    "data.dtypes"
   ],
   "execution_count":48,
   "outputs":[
    {
     "data":{
      "text\/html":[
       "<pre>age              int64\n",
       "workclass       object\n",
       "education       object\n",
       "edu-num          int64\n",
       "Marital-St      object\n",
       "occupation      object\n",
       "relations       object\n",
       "race            object\n",
       "sex             object\n",
       " cap-gain        int64\n",
       "capital-loss     int64\n",
       "hrs per wk       int64\n",
       "Nat count       object\n",
       "class Label     object\n",
       "dtype: object<\/pre>"
      ]
     },
     "metadata":{
      
     },
     "output_type":"display_data"
    }
   ],
   "metadata":{
    "datalore":{
     "node_id":"NsUVYhd3yzVIMLKVqigEA8",
     "type":"CODE",
     "hide_input_from_viewers":true,
     "hide_output_from_viewers":true
    }
   }
  },
  {
   "cell_type":"code",
   "source":[
    "columns = list(data.select_dtypes(exclude=['int64']))"
   ],
   "execution_count":49,
   "outputs":[
    
   ],
   "metadata":{
    "datalore":{
     "node_id":"vmQkYrIEYf670uhWg72ZgJ",
     "type":"CODE",
     "hide_input_from_viewers":true,
     "hide_output_from_viewers":true
    }
   }
  },
  {
   "cell_type":"code",
   "source":[
    "columns"
   ],
   "execution_count":50,
   "outputs":[
    {
     "data":{
      "text\/plain":[
       "['workclass',\n",
       " 'education',\n",
       " 'Marital-St',\n",
       " 'occupation',\n",
       " 'relations',\n",
       " 'race',\n",
       " 'sex',\n",
       " 'Nat count',\n",
       " 'class Label']"
      ]
     },
     "metadata":{
      
     },
     "output_type":"display_data"
    }
   ],
   "metadata":{
    "datalore":{
     "node_id":"CIkFohI5Yl1e4FdbOlPYjU",
     "type":"CODE",
     "hide_input_from_viewers":true,
     "hide_output_from_viewers":true
    }
   }
  },
  {
   "cell_type":"code",
   "source":[
    "data['class Label'].value_counts()"
   ],
   "execution_count":51,
   "outputs":[
    {
     "data":{
      "text\/html":[
       "<pre> %lt;=50K    2271\n",
       " %gt;50K      729\n",
       "Name: class Label, dtype: int64<\/pre>"
      ]
     },
     "metadata":{
      
     },
     "output_type":"display_data"
    }
   ],
   "metadata":{
    "datalore":{
     "node_id":"HoXsVDuzwWb0Q5N4aRD5J6",
     "type":"CODE",
     "hide_input_from_viewers":true,
     "hide_output_from_viewers":true
    }
   }
  },
  {
   "cell_type":"code",
   "source":[
    "le = LabelEncoder()\n",
    "for i in columns:\n",
    "    data[i] = le.fit_transform(data[i])\n",
    "\n",
    "data.dtypes"
   ],
   "execution_count":52,
   "outputs":[
    {
     "data":{
      "text\/html":[
       "<pre>age             int64\n",
       "workclass       int64\n",
       "education       int64\n",
       "edu-num         int64\n",
       "Marital-St      int64\n",
       "occupation      int64\n",
       "relations       int64\n",
       "race            int64\n",
       "sex             int64\n",
       " cap-gain       int64\n",
       "capital-loss    int64\n",
       "hrs per wk      int64\n",
       "Nat count       int64\n",
       "class Label     int64\n",
       "dtype: object<\/pre>"
      ]
     },
     "metadata":{
      
     },
     "output_type":"display_data"
    }
   ],
   "metadata":{
    "datalore":{
     "node_id":"k8DJioTFvRIETWNKwVAjrk",
     "type":"CODE",
     "hide_input_from_viewers":true,
     "hide_output_from_viewers":true
    }
   }
  },
  {
   "cell_type":"code",
   "source":[
    "data.head()"
   ],
   "execution_count":53,
   "outputs":[
    {
     "data":{
      "text\/html":[
       "<div>\n",
       "<style scoped>\n",
       "    .dataframe tbody tr th:only-of-type {\n",
       "        vertical-align: middle;\n",
       "    }\n",
       "\n",
       "    .dataframe tbody tr th {\n",
       "        vertical-align: top;\n",
       "    }\n",
       "\n",
       "    .dataframe thead th {\n",
       "        text-align: right;\n",
       "    }\n",
       "<\/style>\n",
       "<table border=\"1\" class=\"dataframe\">\n",
       "  <thead>\n",
       "    <tr style=\"text-align: right;\">\n",
       "      <th><\/th>\n",
       "      <th>age<\/th>\n",
       "      <th>workclass<\/th>\n",
       "      <th>education<\/th>\n",
       "      <th>edu-num<\/th>\n",
       "      <th>Marital-St<\/th>\n",
       "      <th>occupation<\/th>\n",
       "      <th>relations<\/th>\n",
       "      <th>race<\/th>\n",
       "      <th>sex<\/th>\n",
       "      <th>cap-gain<\/th>\n",
       "      <th>capital-loss<\/th>\n",
       "      <th>hrs per wk<\/th>\n",
       "      <th>Nat count<\/th>\n",
       "      <th>class Label<\/th>\n",
       "    <\/tr>\n",
       "  <\/thead>\n",
       "  <tbody>\n",
       "    <tr>\n",
       "      <th>16255<\/th>\n",
       "      <td>64<\/td>\n",
       "      <td>4<\/td>\n",
       "      <td>1<\/td>\n",
       "      <td>7<\/td>\n",
       "      <td>6<\/td>\n",
       "      <td>13<\/td>\n",
       "      <td>4<\/td>\n",
       "      <td>4<\/td>\n",
       "      <td>0<\/td>\n",
       "      <td>0<\/td>\n",
       "      <td>0<\/td>\n",
       "      <td>16<\/td>\n",
       "      <td>35<\/td>\n",
       "      <td>0<\/td>\n",
       "    <\/tr>\n",
       "    <tr>\n",
       "      <th>2559<\/th>\n",
       "      <td>43<\/td>\n",
       "      <td>4<\/td>\n",
       "      <td>15<\/td>\n",
       "      <td>10<\/td>\n",
       "      <td>2<\/td>\n",
       "      <td>1<\/td>\n",
       "      <td>5<\/td>\n",
       "      <td>4<\/td>\n",
       "      <td>0<\/td>\n",
       "      <td>4064<\/td>\n",
       "      <td>0<\/td>\n",
       "      <td>15<\/td>\n",
       "      <td>35<\/td>\n",
       "      <td>0<\/td>\n",
       "    <\/tr>\n",
       "    <tr>\n",
       "      <th>11040<\/th>\n",
       "      <td>46<\/td>\n",
       "      <td>6<\/td>\n",
       "      <td>14<\/td>\n",
       "      <td>15<\/td>\n",
       "      <td>2<\/td>\n",
       "      <td>4<\/td>\n",
       "      <td>0<\/td>\n",
       "      <td>4<\/td>\n",
       "      <td>1<\/td>\n",
       "      <td>15024<\/td>\n",
       "      <td>0<\/td>\n",
       "      <td>55<\/td>\n",
       "      <td>35<\/td>\n",
       "      <td>1<\/td>\n",
       "    <\/tr>\n",
       "    <tr>\n",
       "      <th>21434<\/th>\n",
       "      <td>55<\/td>\n",
       "      <td>1<\/td>\n",
       "      <td>9<\/td>\n",
       "      <td>13<\/td>\n",
       "      <td>0<\/td>\n",
       "      <td>10<\/td>\n",
       "      <td>4<\/td>\n",
       "      <td>4<\/td>\n",
       "      <td>1<\/td>\n",
       "      <td>0<\/td>\n",
       "      <td>0<\/td>\n",
       "      <td>40<\/td>\n",
       "      <td>35<\/td>\n",
       "      <td>0<\/td>\n",
       "    <\/tr>\n",
       "    <tr>\n",
       "      <th>20109<\/th>\n",
       "      <td>44<\/td>\n",
       "      <td>4<\/td>\n",
       "      <td>8<\/td>\n",
       "      <td>11<\/td>\n",
       "      <td>4<\/td>\n",
       "      <td>9<\/td>\n",
       "      <td>1<\/td>\n",
       "      <td>4<\/td>\n",
       "      <td>1<\/td>\n",
       "      <td>594<\/td>\n",
       "      <td>0<\/td>\n",
       "      <td>25<\/td>\n",
       "      <td>35<\/td>\n",
       "      <td>0<\/td>\n",
       "    <\/tr>\n",
       "  <\/tbody>\n",
       "<\/table>\n",
       "<\/div>"
      ]
     },
     "metadata":{
      
     },
     "output_type":"display_data"
    }
   ],
   "metadata":{
    "datalore":{
     "node_id":"LVcD3PNpSHzXMsqkezbXub",
     "type":"CODE",
     "hide_input_from_viewers":true,
     "hide_output_from_viewers":true
    }
   }
  },
  {
   "cell_type":"code",
   "source":[
    "data['workclass'].value_counts()"
   ],
   "execution_count":54,
   "outputs":[
    {
     "data":{
      "text\/html":[
       "<pre>4    2070\n",
       "6     234\n",
       "0     192\n",
       "2     182\n",
       "5     117\n",
       "7     115\n",
       "1      88\n",
       "8       1\n",
       "3       1\n",
       "Name: workclass, dtype: int64<\/pre>"
      ]
     },
     "metadata":{
      
     },
     "output_type":"display_data"
    }
   ],
   "metadata":{
    "datalore":{
     "node_id":"TACqp1Y2yHkSnjUtkmQsLp",
     "type":"CODE",
     "hide_input_from_viewers":true,
     "hide_output_from_viewers":true
    }
   }
  },
  {
   "cell_type":"code",
   "source":[
    "data['education'].hist(bins=100)"
   ],
   "execution_count":55,
   "outputs":[
    {
     "data":{
      "text\/plain":[
       "<AxesSubplot:>"
      ]
     },
     "metadata":{
      
     },
     "output_type":"display_data"
    },
    {
     "data":{
      "image\/png":"[encoded data removed]"
     },
     "metadata":{
      "image\/png":{
       
      }
     },
     "output_type":"display_data"
    }
   ],
   "metadata":{
    "datalore":{
     "node_id":"RfQ9VJaidALgG656EoWzQr",
     "type":"CODE",
     "hide_input_from_viewers":true,
     "hide_output_from_viewers":true
    }
   }
  },
  {
   "cell_type":"code",
   "source":[
    "data.describe(include='all')"
   ],
   "execution_count":56,
   "outputs":[
    {
     "data":{
      "text\/html":[
       "<div>\n",
       "<style scoped>\n",
       "    .dataframe tbody tr th:only-of-type {\n",
       "        vertical-align: middle;\n",
       "    }\n",
       "\n",
       "    .dataframe tbody tr th {\n",
       "        vertical-align: top;\n",
       "    }\n",
       "\n",
       "    .dataframe thead th {\n",
       "        text-align: right;\n",
       "    }\n",
       "<\/style>\n",
       "<table border=\"1\" class=\"dataframe\">\n",
       "  <thead>\n",
       "    <tr style=\"text-align: right;\">\n",
       "      <th><\/th>\n",
       "      <th>age<\/th>\n",
       "      <th>workclass<\/th>\n",
       "      <th>education<\/th>\n",
       "      <th>edu-num<\/th>\n",
       "      <th>Marital-St<\/th>\n",
       "      <th>occupation<\/th>\n",
       "      <th>relations<\/th>\n",
       "      <th>race<\/th>\n",
       "      <th>sex<\/th>\n",
       "      <th>cap-gain<\/th>\n",
       "      <th>capital-loss<\/th>\n",
       "      <th>hrs per wk<\/th>\n",
       "      <th>Nat count<\/th>\n",
       "      <th>class Label<\/th>\n",
       "    <\/tr>\n",
       "  <\/thead>\n",
       "  <tbody>\n",
       "    <tr>\n",
       "      <th>count<\/th>\n",
       "      <td>3000.000000<\/td>\n",
       "      <td>3000.000000<\/td>\n",
       "      <td>3000.000000<\/td>\n",
       "      <td>3000.000000<\/td>\n",
       "      <td>3000.000000<\/td>\n",
       "      <td>3000.00000<\/td>\n",
       "      <td>3000.000000<\/td>\n",
       "      <td>3000.000000<\/td>\n",
       "      <td>3000.000000<\/td>\n",
       "      <td>3000.000000<\/td>\n",
       "      <td>3000.000000<\/td>\n",
       "      <td>3000.000000<\/td>\n",
       "      <td>3000.000000<\/td>\n",
       "      <td>3000.000000<\/td>\n",
       "    <\/tr>\n",
       "    <tr>\n",
       "      <th>mean<\/th>\n",
       "      <td>38.459333<\/td>\n",
       "      <td>3.845667<\/td>\n",
       "      <td>10.338333<\/td>\n",
       "      <td>10.074000<\/td>\n",
       "      <td>2.619333<\/td>\n",
       "      <td>6.53000<\/td>\n",
       "      <td>1.473667<\/td>\n",
       "      <td>3.668333<\/td>\n",
       "      <td>0.660667<\/td>\n",
       "      <td>1105.515667<\/td>\n",
       "      <td>81.587000<\/td>\n",
       "      <td>40.868333<\/td>\n",
       "      <td>33.155333<\/td>\n",
       "      <td>0.243000<\/td>\n",
       "    <\/tr>\n",
       "    <tr>\n",
       "      <th>std<\/th>\n",
       "      <td>13.575435<\/td>\n",
       "      <td>1.486355<\/td>\n",
       "      <td>3.806489<\/td>\n",
       "      <td>2.519518<\/td>\n",
       "      <td>1.515649<\/td>\n",
       "      <td>4.31037<\/td>\n",
       "      <td>1.610022<\/td>\n",
       "      <td>0.844927<\/td>\n",
       "      <td>0.473562<\/td>\n",
       "      <td>7446.848573<\/td>\n",
       "      <td>392.215687<\/td>\n",
       "      <td>11.887701<\/td>\n",
       "      <td>6.627155<\/td>\n",
       "      <td>0.428967<\/td>\n",
       "    <\/tr>\n",
       "    <tr>\n",
       "      <th>min<\/th>\n",
       "      <td>17.000000<\/td>\n",
       "      <td>0.000000<\/td>\n",
       "      <td>0.000000<\/td>\n",
       "      <td>1.000000<\/td>\n",
       "      <td>0.000000<\/td>\n",
       "      <td>0.00000<\/td>\n",
       "      <td>0.000000<\/td>\n",
       "      <td>0.000000<\/td>\n",
       "      <td>0.000000<\/td>\n",
       "      <td>0.000000<\/td>\n",
       "      <td>0.000000<\/td>\n",
       "      <td>3.000000<\/td>\n",
       "      <td>0.000000<\/td>\n",
       "      <td>0.000000<\/td>\n",
       "    <\/tr>\n",
       "    <tr>\n",
       "      <th>25%<\/th>\n",
       "      <td>27.000000<\/td>\n",
       "      <td>4.000000<\/td>\n",
       "      <td>9.000000<\/td>\n",
       "      <td>9.000000<\/td>\n",
       "      <td>2.000000<\/td>\n",
       "      <td>3.00000<\/td>\n",
       "      <td>0.000000<\/td>\n",
       "      <td>4.000000<\/td>\n",
       "      <td>0.000000<\/td>\n",
       "      <td>0.000000<\/td>\n",
       "      <td>0.000000<\/td>\n",
       "      <td>40.000000<\/td>\n",
       "      <td>35.000000<\/td>\n",
       "      <td>0.000000<\/td>\n",
       "    <\/tr>\n",
       "    <tr>\n",
       "      <th>50%<\/th>\n",
       "      <td>37.000000<\/td>\n",
       "      <td>4.000000<\/td>\n",
       "      <td>11.000000<\/td>\n",
       "      <td>10.000000<\/td>\n",
       "      <td>2.000000<\/td>\n",
       "      <td>6.00000<\/td>\n",
       "      <td>1.000000<\/td>\n",
       "      <td>4.000000<\/td>\n",
       "      <td>1.000000<\/td>\n",
       "      <td>0.000000<\/td>\n",
       "      <td>0.000000<\/td>\n",
       "      <td>40.000000<\/td>\n",
       "      <td>35.000000<\/td>\n",
       "      <td>0.000000<\/td>\n",
       "    <\/tr>\n",
       "    <tr>\n",
       "      <th>75%<\/th>\n",
       "      <td>47.000000<\/td>\n",
       "      <td>4.000000<\/td>\n",
       "      <td>12.000000<\/td>\n",
       "      <td>12.000000<\/td>\n",
       "      <td>4.000000<\/td>\n",
       "      <td>10.00000<\/td>\n",
       "      <td>3.000000<\/td>\n",
       "      <td>4.000000<\/td>\n",
       "      <td>1.000000<\/td>\n",
       "      <td>0.000000<\/td>\n",
       "      <td>0.000000<\/td>\n",
       "      <td>45.000000<\/td>\n",
       "      <td>35.000000<\/td>\n",
       "      <td>0.000000<\/td>\n",
       "    <\/tr>\n",
       "    <tr>\n",
       "      <th>max<\/th>\n",
       "      <td>90.000000<\/td>\n",
       "      <td>8.000000<\/td>\n",
       "      <td>15.000000<\/td>\n",
       "      <td>16.000000<\/td>\n",
       "      <td>6.000000<\/td>\n",
       "      <td>14.00000<\/td>\n",
       "      <td>5.000000<\/td>\n",
       "      <td>4.000000<\/td>\n",
       "      <td>1.000000<\/td>\n",
       "      <td>99999.000000<\/td>\n",
       "      <td>3770.000000<\/td>\n",
       "      <td>99.000000<\/td>\n",
       "      <td>37.000000<\/td>\n",
       "      <td>1.000000<\/td>\n",
       "    <\/tr>\n",
       "  <\/tbody>\n",
       "<\/table>\n",
       "<\/div>"
      ]
     },
     "metadata":{
      
     },
     "output_type":"display_data"
    }
   ],
   "metadata":{
    "datalore":{
     "node_id":"ofHcBCZlcTBZZ3W4H1e2qk",
     "type":"CODE",
     "hide_input_from_viewers":true,
     "hide_output_from_viewers":true
    }
   }
  }
 ],
 "metadata":{
  "kernelspec":{
   "display_name":"Python",
   "language":"python",
   "name":"python"
  },
  "datalore":{
   "computation_mode":"JUPYTER",
   "package_manager":"pip",
   "base_environment":"default",
   "packages":[
    
   ],
   "report_row_ids":[
    "0FLv1T5mfPhnM9D6cRKPMM"
   ],
   "version":2
  }
 },
 "nbformat":4,
 "nbformat_minor":4
}